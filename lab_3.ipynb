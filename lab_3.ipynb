{
 "cells": [
  {
   "cell_type": "markdown",
   "id": "ba9c65ae",
   "metadata": {},
   "source": [
    "# I. Выпуклость, необходимое условие минимума, двойственная задача"
   ]
  },
  {
   "cell_type": "markdown",
   "id": "61957af0",
   "metadata": {},
   "source": [
    "## 1. Критерий выпуклости второго порядка"
   ]
  },
  {
   "cell_type": "markdown",
   "id": "778f9dee",
   "metadata": {},
   "source": [
    "Optimal allocation with resource constraint:\n",
    "$$f_{i}\\left(x_{i}\\right) = a_{i}e^{x_{i}}, a_{i} > 0, i \\in \\{ 1, ..., n\\}$$"
   ]
  },
  {
   "cell_type": "markdown",
   "id": "96dbbe40",
   "metadata": {},
   "source": [
    "Также ограничение бюджета:\n",
    "$$\\sum^{n}_{i=1}x_{i} = b, b \\in R$$"
   ]
  },
  {
   "cell_type": "markdown",
   "id": "384a0c11",
   "metadata": {},
   "source": [
    "Задача минимизации:\n",
    "$$\\sum^{n}_{i=1}a_{i}e^{x_{i}} \\rightarrow min, a_{i} > 0, i \\in \\{ 1, ..., n\\}$$"
   ]
  },
  {
   "cell_type": "markdown",
   "id": "10c9f198",
   "metadata": {},
   "source": [
    "Итоговая задача:\n",
    "$$\\sum^{n}_{i=1}a_{i}e^{x_{i}} \\rightarrow min, a_{i} > 0, i \\in \\{ 1, ..., n\\}, \\sum^{n}_{i=1}x_{i} = b, b \\in R$$"
   ]
  },
  {
   "cell_type": "markdown",
   "id": "041956f8",
   "metadata": {},
   "source": [
    "Для изучения выпуклости рассмотрим гессиан оптимизируемой функции:\n",
    "$$H(x)_{i,j} = 0, i \\neq j$$\n",
    "$$H(x)_{i,j} = a_{j}e^{x_{j}}, i = j$$\n",
    "$$\\text{При } a_{i} > 0 \\text{ очевидно, что } H(x)_{i,i} = a_{i}e^{x_{i}} > 0, \\text{ так как } \\forall x \\in R: e^{x_{i}} > 0$$\n",
    "Матрица такого вида является положительно определенной."
   ]
  },
  {
   "cell_type": "markdown",
   "id": "f996d725",
   "metadata": {},
   "source": [
    "Так же рассмотрим знакоопределенность гессиана ограничений:\n",
    "$$H(x) = \\textbf{0}$$ "
   ]
  },
  {
   "cell_type": "markdown",
   "id": "856719b9",
   "metadata": {},
   "source": [
    "Таким образом, задача является выпуклой."
   ]
  },
  {
   "cell_type": "markdown",
   "id": "d32378e3",
   "metadata": {},
   "source": [
    "## 2. Условие оптимальности"
   ]
  },
  {
   "cell_type": "markdown",
   "id": "7c341514",
   "metadata": {},
   "source": [
    "Рассмотрим Лангранжиан системы:\n",
    "$$L(x, \\nu) = \\sum^{n}_{i=1}a_{i}e^{x_{i}} - \\nu (\\textbf{1}^Tx-b)$$"
   ]
  },
  {
   "cell_type": "markdown",
   "id": "5940f8a4",
   "metadata": {},
   "source": [
    "Необходимое условие минимума: точки, где  производная лагранжиана обращается в 0, такие точки отметим звездой:\n",
    "$$\\nabla L (x^{\\star}, \\nu^{\\star}) = \\left( a_{1}e^{x_{1}^{\\star}}, ... , a_{n}e^{x_{n}^{\\star}} \\right)^T - {\\boldsymbol\\nu^{\\star}}^T  = 0$$"
   ]
  },
  {
   "cell_type": "markdown",
   "id": "77369bb2",
   "metadata": {},
   "source": [
    "Выражая покомпонентно элементы вектора x*:\n",
    "$$a_{i}e^{x_{i}^{\\star}} = \\nu^{\\star}, i \\in \\{ 1, ..., n\\}$$\n",
    "$$x_{i}^{\\star} = ln\\left( \\frac{\\nu^{\\star}}{a_{i}}\\right), i \\in \\{ 1, ..., n\\}$$"
   ]
  },
  {
   "cell_type": "markdown",
   "id": "6bf5b93b",
   "metadata": {},
   "source": [
    "Таким образом условия оптимума ККТ будут иметь вид следующей системы:\n",
    "\n",
    "\\begin{cases}\n",
    "  x_{i}^{\\star} = ln\\left( \\frac{\\nu^{\\star}}{a_{i}}\\right), i \\in \\{ 1, ..., n\\}\\\\\n",
    "  \\textbf{1}^Tx^{\\star} = b\n",
    "\\end{cases}"
   ]
  },
  {
   "cell_type": "markdown",
   "id": "f852ef94",
   "metadata": {},
   "source": [
    "## 3. Двойственная задача"
   ]
  },
  {
   "cell_type": "markdown",
   "id": "79118aff",
   "metadata": {},
   "source": [
    "Двойственной к оригинальной задачей будет инфинум лагранжиана по вектору переменных x. Чтобы построить двойственную задачу, подставим в лагранжиан найденную выше точку оптимума."
   ]
  },
  {
   "cell_type": "markdown",
   "id": "6be60897",
   "metadata": {},
   "source": [
    "$$g(\\nu) = \\underset{x}{inf} L(x, \\nu)$$\n",
    "$$g(\\nu) = n \\nu - \\nu \\left( \\sum^{n}_{i=1}ln\\left( \\frac{\\nu}{a_{i}}\\right) -b \\right) = \\nu \\left( n \\left(1 - ln(\\nu)\\right) + \\sum^{n}_{i=1}ln(a_i) + b \\right)$$"
   ]
  },
  {
   "cell_type": "markdown",
   "id": "56e7eb86",
   "metadata": {},
   "source": [
    "Тогда двойственная задача есть:\n",
    "$$\\nu \\left( n \\left(1 - ln(\\nu)\\right) + \\sum^{n}_{i=1}ln(a_i) + b \\right) \\rightarrow max$$"
   ]
  },
  {
   "cell_type": "markdown",
   "id": "e95bf5b4",
   "metadata": {},
   "source": [
    "# II. Решение тестовых примеров"
   ]
  },
  {
   "cell_type": "code",
   "execution_count": null,
   "id": "cda79a75",
   "metadata": {},
   "outputs": [],
   "source": [
    "import numpy as np\n",
    "import cvxpy as cp\n",
    "import time\n",
    "import polars as pl\n",
    "import matplotlib.pyplot as plt\n",
    "import plotly.graph_objects as go\n",
    "from plotly.subplots import make_subplots"
   ]
  },
  {
   "cell_type": "markdown",
   "id": "01671441",
   "metadata": {},
   "source": [
    "## 1. Генерация примеров"
   ]
  },
  {
   "cell_type": "code",
   "execution_count": 2,
   "id": "5949eab8",
   "metadata": {},
   "outputs": [],
   "source": [
    "n_dims = range(10, 110, 10)\n",
    "n_examples = 100\n",
    "n_seeds = 100"
   ]
  },
  {
   "cell_type": "code",
   "execution_count": 3,
   "id": "c6ac7673",
   "metadata": {},
   "outputs": [],
   "source": [
    "raw_experiment_sheet = pl.DataFrame({\"dim\": n_dims}).select(\n",
    "    pl.all().repeat_by(n_examples).flatten()\n",
    ")"
   ]
  },
  {
   "cell_type": "code",
   "execution_count": 4,
   "id": "bb5881fc",
   "metadata": {},
   "outputs": [],
   "source": [
    "raw_experiment_sheet = raw_experiment_sheet.with_columns(\n",
    "    pl.col(\"dim\")\n",
    "    .map_elements(\n",
    "        lambda dim_: np.random.uniform(low=0.1, high=10, size=dim_),\n",
    "        return_dtype=pl.List(float),\n",
    "        returns_scalar=False,\n",
    "    )\n",
    "    .alias(\"a\"),\n",
    "    pl.col(\"dim\")\n",
    "    .map_elements(\n",
    "        lambda dim_: np.random.uniform(low=-10, high=10, size=1),\n",
    "        return_dtype=float,\n",
    "        returns_scalar=True,\n",
    "    )\n",
    "    .alias(\"b\"),\n",
    ")"
   ]
  },
  {
   "cell_type": "code",
   "execution_count": 5,
   "id": "c47405b8",
   "metadata": {},
   "outputs": [
    {
     "data": {
      "text/html": [
       "<div><style>\n",
       ".dataframe > thead > tr,\n",
       ".dataframe > tbody > tr {\n",
       "  text-align: right;\n",
       "  white-space: pre-wrap;\n",
       "}\n",
       "</style>\n",
       "<small>shape: (1_000, 3)</small><table border=\"1\" class=\"dataframe\"><thead><tr><th>dim</th><th>a</th><th>b</th></tr><tr><td>i64</td><td>list[f64]</td><td>f64</td></tr></thead><tbody><tr><td>10</td><td>[6.540121, 5.937077, … 6.738311]</td><td>-1.421913</td></tr><tr><td>10</td><td>[9.194265, 5.101666, … 2.060314]</td><td>0.57337</td></tr><tr><td>10</td><td>[4.387757, 1.16182, … 7.928853]</td><td>2.76018</td></tr><tr><td>10</td><td>[9.102635, 1.87349, … 4.304656]</td><td>2.32229</td></tr><tr><td>10</td><td>[6.857408, 9.455416, … 2.077583]</td><td>-5.056252</td></tr><tr><td>&hellip;</td><td>&hellip;</td><td>&hellip;</td></tr><tr><td>100</td><td>[2.086696, 0.155142, … 3.867535]</td><td>0.318747</td></tr><tr><td>100</td><td>[9.123822, 4.468367, … 6.809985]</td><td>9.127189</td></tr><tr><td>100</td><td>[6.821365, 0.384294, … 7.545377]</td><td>-8.989801</td></tr><tr><td>100</td><td>[6.247764, 9.971001, … 2.107755]</td><td>-6.597532</td></tr><tr><td>100</td><td>[4.222479, 2.755177, … 7.286934]</td><td>-8.310487</td></tr></tbody></table></div>"
      ],
      "text/plain": [
       "shape: (1_000, 3)\n",
       "┌─────┬─────────────────────────────────┬───────────┐\n",
       "│ dim ┆ a                               ┆ b         │\n",
       "│ --- ┆ ---                             ┆ ---       │\n",
       "│ i64 ┆ list[f64]                       ┆ f64       │\n",
       "╞═════╪═════════════════════════════════╪═══════════╡\n",
       "│ 10  ┆ [6.540121, 5.937077, … 6.73831… ┆ -1.421913 │\n",
       "│ 10  ┆ [9.194265, 5.101666, … 2.06031… ┆ 0.57337   │\n",
       "│ 10  ┆ [4.387757, 1.16182, … 7.928853… ┆ 2.76018   │\n",
       "│ 10  ┆ [9.102635, 1.87349, … 4.304656… ┆ 2.32229   │\n",
       "│ 10  ┆ [6.857408, 9.455416, … 2.07758… ┆ -5.056252 │\n",
       "│ …   ┆ …                               ┆ …         │\n",
       "│ 100 ┆ [2.086696, 0.155142, … 3.86753… ┆ 0.318747  │\n",
       "│ 100 ┆ [9.123822, 4.468367, … 6.80998… ┆ 9.127189  │\n",
       "│ 100 ┆ [6.821365, 0.384294, … 7.54537… ┆ -8.989801 │\n",
       "│ 100 ┆ [6.247764, 9.971001, … 2.10775… ┆ -6.597532 │\n",
       "│ 100 ┆ [4.222479, 2.755177, … 7.28693… ┆ -8.310487 │\n",
       "└─────┴─────────────────────────────────┴───────────┘"
      ]
     },
     "execution_count": 5,
     "metadata": {},
     "output_type": "execute_result"
    }
   ],
   "source": [
    "raw_experiment_sheet"
   ]
  },
  {
   "cell_type": "markdown",
   "id": "8ff9892f",
   "metadata": {},
   "source": [
    "## 2. Решение солвером CVXPY"
   ]
  },
  {
   "cell_type": "code",
   "execution_count": 6,
   "id": "ebd865e5",
   "metadata": {},
   "outputs": [],
   "source": [
    "def solve_oawrc(a, b):\n",
    "\n",
    "    a = np.asarray(a)\n",
    "\n",
    "    x = cp.Variable(a.shape[0])\n",
    "\n",
    "    objective = cp.Minimize(cp.sum(a @ cp.exp(x)))\n",
    "\n",
    "    constraints = [cp.sum(x) - b == 0]\n",
    "\n",
    "    prob = cp.Problem(objective, constraints)\n",
    "\n",
    "    try:\n",
    "        start_t = time.time()\n",
    "        result = prob.solve()\n",
    "        sovle_time = time.time() - start_t\n",
    "    except:\n",
    "        res = {\"cvxpy_x\": None, \"cvxpy_y\": None, \"cvxpy_t\": None}\n",
    "    else:\n",
    "        res = {\"cvxpy_x\": list(x.value), \"cvxpy_y\": result, \"cvxpy_t\": sovle_time}\n",
    "\n",
    "    return res"
   ]
  },
  {
   "cell_type": "code",
   "execution_count": 7,
   "id": "06f14da2",
   "metadata": {},
   "outputs": [],
   "source": [
    "raw_experiment_sheet = raw_experiment_sheet.with_columns(\n",
    "    (\n",
    "        pl.struct(\"a\", \"b\")\n",
    "        .map_elements(\n",
    "            lambda x: solve_oawrc(**x),\n",
    "            return_dtype=pl.Struct(\n",
    "                {\"cvxpy_x\": pl.List(float), \"cvxpy_y\": float, \"cvxpy_t\": float}\n",
    "            ),\n",
    "        )\n",
    "        .alias(\"cvxpy_out\")\n",
    "    )\n",
    ").unnest(\"cvxpy_out\")"
   ]
  },
  {
   "cell_type": "code",
   "execution_count": 8,
   "id": "510ca02a",
   "metadata": {},
   "outputs": [
    {
     "data": {
      "text/html": [
       "<div><style>\n",
       ".dataframe > thead > tr,\n",
       ".dataframe > tbody > tr {\n",
       "  text-align: right;\n",
       "  white-space: pre-wrap;\n",
       "}\n",
       "</style>\n",
       "<small>shape: (1_000, 6)</small><table border=\"1\" class=\"dataframe\"><thead><tr><th>dim</th><th>a</th><th>b</th><th>cvxpy_x</th><th>cvxpy_y</th><th>cvxpy_t</th></tr><tr><td>i64</td><td>list[f64]</td><td>f64</td><td>list[f64]</td><td>f64</td><td>f64</td></tr></thead><tbody><tr><td>10</td><td>[6.540121, 5.937077, … 6.738311]</td><td>-1.421913</td><td>[-0.434848, -0.338094, … -0.464706]</td><td>42.340207</td><td>0.024452</td></tr><tr><td>10</td><td>[9.194265, 5.101666, … 2.060314]</td><td>0.57337</td><td>[-0.723082, -0.134161, … 0.77275]</td><td>44.617356</td><td>0.014766</td></tr><tr><td>10</td><td>[4.387757, 1.16182, … 7.928853]</td><td>2.76018</td><td>[0.208135, 1.53701, … -0.383557]</td><td>54.030148</td><td>0.012615</td></tr><tr><td>10</td><td>[9.102635, 1.87349, … 4.304656]</td><td>2.32229</td><td>[-0.869806, 0.710937, … -0.121029]</td><td>38.140675</td><td>0.010477</td></tr><tr><td>10</td><td>[6.857408, 9.455416, … 2.077583]</td><td>-5.056252</td><td>[-0.981021, -1.302356, … 0.213104]</td><td>25.710213</td><td>0.009225</td></tr><tr><td>&hellip;</td><td>&hellip;</td><td>&hellip;</td><td>&hellip;</td><td>&hellip;</td><td>&hellip;</td></tr><tr><td>100</td><td>[2.086696, 0.155142, … 3.867535]</td><td>0.318747</td><td>[0.468086, 3.067032, … -0.149165]</td><td>333.230993</td><td>0.008897</td></tr><tr><td>100</td><td>[9.123822, 4.468367, … 6.809985]</td><td>9.127189</td><td>[-0.817832, -0.103955, … -0.525279]</td><td>402.728955</td><td>0.008288</td></tr><tr><td>100</td><td>[6.821365, 0.384294, … 7.545377]</td><td>-8.989801</td><td>[-0.585414, 2.290807, … -0.686408]</td><td>379.859047</td><td>0.009238</td></tr><tr><td>100</td><td>[6.247764, 9.971001, … 2.107755]</td><td>-6.597532</td><td>[-0.523791, -0.991277, … 0.56291]</td><td>370.04884</td><td>0.009572</td></tr><tr><td>100</td><td>[4.222479, 2.755177, … 7.286934]</td><td>-8.310487</td><td>[-0.016524, 0.410461, … -0.562142]</td><td>415.347342</td><td>0.0076</td></tr></tbody></table></div>"
      ],
      "text/plain": [
       "shape: (1_000, 6)\n",
       "┌─────┬────────────────────────┬───────────┬──────────────────────────┬────────────┬──────────┐\n",
       "│ dim ┆ a                      ┆ b         ┆ cvxpy_x                  ┆ cvxpy_y    ┆ cvxpy_t  │\n",
       "│ --- ┆ ---                    ┆ ---       ┆ ---                      ┆ ---        ┆ ---      │\n",
       "│ i64 ┆ list[f64]              ┆ f64       ┆ list[f64]                ┆ f64        ┆ f64      │\n",
       "╞═════╪════════════════════════╪═══════════╪══════════════════════════╪════════════╪══════════╡\n",
       "│ 10  ┆ [6.540121, 5.937077, … ┆ -1.421913 ┆ [-0.434848, -0.338094, … ┆ 42.340207  ┆ 0.024452 │\n",
       "│     ┆ 6.73831…               ┆           ┆ -0.46…                   ┆            ┆          │\n",
       "│ 10  ┆ [9.194265, 5.101666, … ┆ 0.57337   ┆ [-0.723082, -0.134161, … ┆ 44.617356  ┆ 0.014766 │\n",
       "│     ┆ 2.06031…               ┆           ┆ 0.772…                   ┆            ┆          │\n",
       "│ 10  ┆ [4.387757, 1.16182, …  ┆ 2.76018   ┆ [0.208135, 1.53701, …    ┆ 54.030148  ┆ 0.012615 │\n",
       "│     ┆ 7.928853…              ┆           ┆ -0.38355…                ┆            ┆          │\n",
       "│ 10  ┆ [9.102635, 1.87349, …  ┆ 2.32229   ┆ [-0.869806, 0.710937, …  ┆ 38.140675  ┆ 0.010477 │\n",
       "│     ┆ 4.304656…              ┆           ┆ -0.121…                  ┆            ┆          │\n",
       "│ 10  ┆ [6.857408, 9.455416, … ┆ -5.056252 ┆ [-0.981021, -1.302356, … ┆ 25.710213  ┆ 0.009225 │\n",
       "│     ┆ 2.07758…               ┆           ┆ 0.213…                   ┆            ┆          │\n",
       "│ …   ┆ …                      ┆ …         ┆ …                        ┆ …          ┆ …        │\n",
       "│ 100 ┆ [2.086696, 0.155142, … ┆ 0.318747  ┆ [0.468086, 3.067032, …   ┆ 333.230993 ┆ 0.008897 │\n",
       "│     ┆ 3.86753…               ┆           ┆ -0.1491…                 ┆            ┆          │\n",
       "│ 100 ┆ [9.123822, 4.468367, … ┆ 9.127189  ┆ [-0.817832, -0.103955, … ┆ 402.728955 ┆ 0.008288 │\n",
       "│     ┆ 6.80998…               ┆           ┆ -0.52…                   ┆            ┆          │\n",
       "│ 100 ┆ [6.821365, 0.384294, … ┆ -8.989801 ┆ [-0.585414, 2.290807, …  ┆ 379.859047 ┆ 0.009238 │\n",
       "│     ┆ 7.54537…               ┆           ┆ -0.686…                  ┆            ┆          │\n",
       "│ 100 ┆ [6.247764, 9.971001, … ┆ -6.597532 ┆ [-0.523791, -0.991277, … ┆ 370.04884  ┆ 0.009572 │\n",
       "│     ┆ 2.10775…               ┆           ┆ 0.562…                   ┆            ┆          │\n",
       "│ 100 ┆ [4.222479, 2.755177, … ┆ -8.310487 ┆ [-0.016524, 0.410461, …  ┆ 415.347342 ┆ 0.0076   │\n",
       "│     ┆ 7.28693…               ┆           ┆ -0.562…                  ┆            ┆          │\n",
       "└─────┴────────────────────────┴───────────┴──────────────────────────┴────────────┴──────────┘"
      ]
     },
     "execution_count": 8,
     "metadata": {},
     "output_type": "execute_result"
    }
   ],
   "source": [
    "raw_experiment_sheet"
   ]
  },
  {
   "cell_type": "markdown",
   "id": "523e1824",
   "metadata": {},
   "source": [
    "## 3. Решение прямой задачи методом Ньютона "
   ]
  },
  {
   "cell_type": "code",
   "execution_count": 9,
   "id": "aad5b752",
   "metadata": {},
   "outputs": [],
   "source": [
    "def random_sum_bound(dim, b):\n",
    "    rnd = np.random.uniform(size=dim)\n",
    "    return list(rnd / rnd.sum() * b)"
   ]
  },
  {
   "cell_type": "code",
   "execution_count": 10,
   "id": "0d8e1625",
   "metadata": {},
   "outputs": [],
   "source": [
    "raw_experiment_sheet = raw_experiment_sheet.select(\n",
    "    pl.all().repeat_by(n_seeds).flatten()\n",
    ").with_columns(\n",
    "    pl.struct(\"dim\", \"b\")\n",
    "    .map_elements(lambda x: random_sum_bound(**x), return_dtype=pl.List(float))\n",
    "    .alias(\"x_init\")\n",
    ")\n",
    "raw_experiment_sheet = raw_experiment_sheet.with_columns(pl.lit(np.random.uniform(size=len(raw_experiment_sheet))).alias(\"nu_init\"))"
   ]
  },
  {
   "cell_type": "code",
   "execution_count": 11,
   "id": "e1d82275",
   "metadata": {},
   "outputs": [],
   "source": [
    "raw_experiment_sheet = raw_experiment_sheet.drop_nans()"
   ]
  },
  {
   "cell_type": "code",
   "execution_count": 12,
   "id": "d5ca4b28",
   "metadata": {},
   "outputs": [],
   "source": [
    "def f(x, a):\n",
    "    return np.dot(a, np.exp(x)).reshape(1,1)\n",
    "\n",
    "def grad_f(x, a):\n",
    "    return (a * np.exp(x)).reshape(1,-1)\n",
    "\n",
    "def hessian_f(x, a):\n",
    "    return np.diag(a * np.exp(x))\n",
    "\n",
    "def g(x, b):\n",
    "    return np.array([np.sum(np.asarray(x)) - b]).reshape(1,1)\n",
    "\n",
    "def grad_g(x):\n",
    "    return np.ones(len(x)).reshape(1,-1)\n",
    "\n",
    "def hessian_g(x):\n",
    "    return np.zeros([len(x)]*2)"
   ]
  },
  {
   "cell_type": "code",
   "execution_count": 13,
   "id": "d5592bf9",
   "metadata": {},
   "outputs": [],
   "source": [
    "def solve_oawrc_newton(a, b, x_init, nu_init, cvxpy_y, eps=0.01, max_iters=10000):\n",
    "    sovle_time = 0\n",
    "    newton_hist_y = []\n",
    "    newton_hist_ops = []\n",
    "\n",
    "    x = np.asarray(x_init)\n",
    "    a = np.asarray(a)\n",
    "    nu = nu_init\n",
    "    \n",
    "    for i in range(max_iters):\n",
    "        iter_ops = 0\n",
    "        start_t_iter = time.time()\n",
    "\n",
    "        grad_L = grad_f(x, a) - grad_g(x) * nu\n",
    "        hessian_L = hessian_f(x, a)\n",
    "\n",
    "        iter_ops += int(3*grad_L.shape[-1])\n",
    "\n",
    "        hessian_L_full = np.block([\n",
    "            [hessian_L, grad_g(x).T],\n",
    "            [grad_g(x), np.zeros([1,1])]\n",
    "        ])\n",
    "        \n",
    "        grad_L_full = np.concatenate([grad_L, g(x, b).reshape(1,-1)], axis = -1)\n",
    "        d = np.linalg.solve(hessian_L_full, -grad_L_full.T)\n",
    "\n",
    "        iter_ops += int(hessian_L_full.shape[0]**3)\n",
    "\n",
    "        x += d[:len(x),0]\n",
    "        nu += d[len(x):,0]\n",
    "\n",
    "        iter_ops += d.shape[0]\n",
    "\n",
    "        sovle_time += time.time() - start_t_iter\n",
    "        newton_hist_y.append(float(f(x, a)[0]))\n",
    "        newton_hist_ops.append(int(i*iter_ops))\n",
    "\n",
    "        if np.abs(f(x, a)[0] - cvxpy_y) < eps:\n",
    "            break\n",
    "    \n",
    "    return {\"newton_x\": x.tolist(), \"newton_y\": f(x, a)[0], \"newton_t\": sovle_time, \"newton_hist_ops\": newton_hist_ops, \"newton_hist_y\": newton_hist_y}"
   ]
  },
  {
   "cell_type": "code",
   "execution_count": 14,
   "id": "6e7d244f",
   "metadata": {},
   "outputs": [
    {
     "name": "stderr",
     "output_type": "stream",
     "text": [
      "/tmp/ipykernel_57223/2671493511.py:35: DeprecationWarning: Conversion of an array with ndim > 0 to a scalar is deprecated, and will error in future. Ensure you extract a single element from your array before performing this operation. (Deprecated NumPy 1.25.)\n",
      "  newton_hist_y.append(float(f(x, a)[0]))\n"
     ]
    }
   ],
   "source": [
    "raw_experiment_sheet = raw_experiment_sheet.with_columns(\n",
    "    (\n",
    "        pl.struct(\"a\", \"b\", \"x_init\", \"nu_init\", \"cvxpy_y\")\n",
    "        .map_elements(\n",
    "            lambda x: solve_oawrc_newton(**x),\n",
    "            return_dtype=pl.Struct(\n",
    "                {\"newton_x\": pl.List(float), \"newton_y\": float, \"newton_t\": float, \"newton_hist_ops\": pl.List(int), \"newton_hist_y\": pl.List(float)}\n",
    "            ),\n",
    "        )\n",
    "        .alias(\"newton_out\")\n",
    "    )\n",
    ").unnest(\"newton_out\")"
   ]
  },
  {
   "cell_type": "code",
   "execution_count": 15,
   "id": "3bf10380",
   "metadata": {},
   "outputs": [
    {
     "data": {
      "text/html": [
       "<div><style>\n",
       ".dataframe > thead > tr,\n",
       ".dataframe > tbody > tr {\n",
       "  text-align: right;\n",
       "  white-space: pre-wrap;\n",
       "}\n",
       "</style>\n",
       "<small>shape: (100_000, 13)</small><table border=\"1\" class=\"dataframe\"><thead><tr><th>dim</th><th>a</th><th>b</th><th>cvxpy_x</th><th>cvxpy_y</th><th>cvxpy_t</th><th>x_init</th><th>nu_init</th><th>newton_x</th><th>newton_y</th><th>newton_t</th><th>newton_hist_ops</th><th>newton_hist_y</th></tr><tr><td>i64</td><td>list[f64]</td><td>f64</td><td>list[f64]</td><td>f64</td><td>f64</td><td>list[f64]</td><td>f64</td><td>list[f64]</td><td>f64</td><td>f64</td><td>list[i64]</td><td>list[f64]</td></tr></thead><tbody><tr><td>10</td><td>[6.540121, 5.937077, … 6.738311]</td><td>-1.421913</td><td>[-0.434848, -0.338094, … -0.464706]</td><td>42.340207</td><td>0.024452</td><td>[-0.250226, -0.154263, … -0.148234]</td><td>0.591354</td><td>[-0.437117, -0.340378, … -0.466889]</td><td>42.341272</td><td>0.019287</td><td>[0, 1372, 2744]</td><td>[44.335494, 42.466682, 42.341272]</td></tr><tr><td>10</td><td>[6.540121, 5.937077, … 6.738311]</td><td>-1.421913</td><td>[-0.434848, -0.338094, … -0.464706]</td><td>42.340207</td><td>0.024452</td><td>[-0.229003, -0.150289, … -0.043925]</td><td>0.676342</td><td>[-0.438952, -0.342232, … -0.468654]</td><td>42.343553</td><td>0.000638</td><td>[0, 1372, 2744]</td><td>[45.117556, 42.573098, 42.343553]</td></tr><tr><td>10</td><td>[6.540121, 5.937077, … 6.738311]</td><td>-1.421913</td><td>[-0.434848, -0.338094, … -0.464706]</td><td>42.340207</td><td>0.024452</td><td>[-0.100573, -0.114233, … -0.115444]</td><td>0.376444</td><td>[-0.438862, -0.342215, … -0.468706]</td><td>42.34364</td><td>0.000673</td><td>[0, 1372, 2744]</td><td>[45.168444, 42.576457, 42.34364]</td></tr><tr><td>10</td><td>[6.540121, 5.937077, … 6.738311]</td><td>-1.421913</td><td>[-0.434848, -0.338094, … -0.464706]</td><td>42.340207</td><td>0.024452</td><td>[-0.084767, -0.057075, … -0.166647]</td><td>0.406232</td><td>[-0.437927, -0.341242, … -0.46782]</td><td>42.342309</td><td>0.000483</td><td>[0, 1372, 2744]</td><td>[44.8344, 42.522079, 42.342309]</td></tr><tr><td>10</td><td>[6.540121, 5.937077, … 6.738311]</td><td>-1.421913</td><td>[-0.434848, -0.338094, … -0.464706]</td><td>42.340207</td><td>0.024452</td><td>[-0.042249, -0.232743, … -0.090528]</td><td>0.631019</td><td>[-0.437406, -0.340871, … -0.467266]</td><td>42.34165</td><td>0.000808</td><td>[0, 1372, 2744]</td><td>[44.500462, 42.488994, 42.34165]</td></tr><tr><td>&hellip;</td><td>&hellip;</td><td>&hellip;</td><td>&hellip;</td><td>&hellip;</td><td>&hellip;</td><td>&hellip;</td><td>&hellip;</td><td>&hellip;</td><td>&hellip;</td><td>&hellip;</td><td>&hellip;</td><td>&hellip;</td></tr><tr><td>100</td><td>[4.222479, 2.755177, … 7.286934]</td><td>-8.310487</td><td>[-0.016524, 0.410461, … -0.562142]</td><td>415.347342</td><td>0.0076</td><td>[-0.161772, -0.088202, … -0.000451]</td><td>0.436068</td><td>[-0.017113, 0.409827, … -0.562774]</td><td>415.355437</td><td>0.001237</td><td>[0, 1030702, … 5153510]</td><td>[683.473459, 492.583167, … 415.355437]</td></tr><tr><td>100</td><td>[4.222479, 2.755177, … 7.286934]</td><td>-8.310487</td><td>[-0.016524, 0.410461, … -0.562142]</td><td>415.347342</td><td>0.0076</td><td>[-0.072811, -0.0585, … -0.143472]</td><td>0.135594</td><td>[-0.016706, 0.410235, … -0.562366]</td><td>415.348338</td><td>0.001229</td><td>[0, 1030702, … 5153510]</td><td>[634.519614, 475.146837, … 415.348338]</td></tr><tr><td>100</td><td>[4.222479, 2.755177, … 7.286934]</td><td>-8.310487</td><td>[-0.016524, 0.410461, … -0.562142]</td><td>415.347342</td><td>0.0076</td><td>[-0.055949, -0.061476, … -0.145106]</td><td>0.496186</td><td>[-0.016516, 0.410424, … -0.562177]</td><td>415.347373</td><td>0.001442</td><td>[0, 1030702, … 6184212]</td><td>[703.530059, 499.547816, … 415.347373]</td></tr><tr><td>100</td><td>[4.222479, 2.755177, … 7.286934]</td><td>-8.310487</td><td>[-0.016524, 0.410461, … -0.562142]</td><td>415.347342</td><td>0.0076</td><td>[-0.013761, -0.097375, … -0.146159]</td><td>0.671224</td><td>[-0.01683, 0.410111, … -0.56249]</td><td>415.349706</td><td>0.001455</td><td>[0, 1030702, … 5153510]</td><td>[669.378841, 486.374998, … 415.349706]</td></tr><tr><td>100</td><td>[4.222479, 2.755177, … 7.286934]</td><td>-8.310487</td><td>[-0.016524, 0.410461, … -0.562142]</td><td>415.347342</td><td>0.0076</td><td>[-0.073669, -0.056971, … -0.02948]</td><td>0.814864</td><td>[-0.016711, 0.41023, … -0.562371]</td><td>415.348374</td><td>0.001374</td><td>[0, 1030702, … 5153510]</td><td>[637.274356, 475.710034, … 415.348374]</td></tr></tbody></table></div>"
      ],
      "text/plain": [
       "shape: (100_000, 13)\n",
       "┌─────┬─────────────┬───────────┬────────────┬───┬────────────┬──────────┬────────────┬────────────┐\n",
       "│ dim ┆ a           ┆ b         ┆ cvxpy_x    ┆ … ┆ newton_y   ┆ newton_t ┆ newton_his ┆ newton_his │\n",
       "│ --- ┆ ---         ┆ ---       ┆ ---        ┆   ┆ ---        ┆ ---      ┆ t_ops      ┆ t_y        │\n",
       "│ i64 ┆ list[f64]   ┆ f64       ┆ list[f64]  ┆   ┆ f64        ┆ f64      ┆ ---        ┆ ---        │\n",
       "│     ┆             ┆           ┆            ┆   ┆            ┆          ┆ list[i64]  ┆ list[f64]  │\n",
       "╞═════╪═════════════╪═══════════╪════════════╪═══╪════════════╪══════════╪════════════╪════════════╡\n",
       "│ 10  ┆ [6.540121,  ┆ -1.421913 ┆ [-0.434848 ┆ … ┆ 42.341272  ┆ 0.019287 ┆ [0, 1372,  ┆ [44.335494 │\n",
       "│     ┆ 5.937077, … ┆           ┆ ,          ┆   ┆            ┆          ┆ 2744]      ┆ ,          │\n",
       "│     ┆ 6.73831…    ┆           ┆ -0.338094, ┆   ┆            ┆          ┆            ┆ 42.466682, │\n",
       "│     ┆             ┆           ┆ … -0.46…   ┆   ┆            ┆          ┆            ┆ 42.3412…   │\n",
       "│ 10  ┆ [6.540121,  ┆ -1.421913 ┆ [-0.434848 ┆ … ┆ 42.343553  ┆ 0.000638 ┆ [0, 1372,  ┆ [45.117556 │\n",
       "│     ┆ 5.937077, … ┆           ┆ ,          ┆   ┆            ┆          ┆ 2744]      ┆ ,          │\n",
       "│     ┆ 6.73831…    ┆           ┆ -0.338094, ┆   ┆            ┆          ┆            ┆ 42.573098, │\n",
       "│     ┆             ┆           ┆ … -0.46…   ┆   ┆            ┆          ┆            ┆ 42.3435…   │\n",
       "│ 10  ┆ [6.540121,  ┆ -1.421913 ┆ [-0.434848 ┆ … ┆ 42.34364   ┆ 0.000673 ┆ [0, 1372,  ┆ [45.168444 │\n",
       "│     ┆ 5.937077, … ┆           ┆ ,          ┆   ┆            ┆          ┆ 2744]      ┆ ,          │\n",
       "│     ┆ 6.73831…    ┆           ┆ -0.338094, ┆   ┆            ┆          ┆            ┆ 42.576457, │\n",
       "│     ┆             ┆           ┆ … -0.46…   ┆   ┆            ┆          ┆            ┆ 42.3436…   │\n",
       "│ 10  ┆ [6.540121,  ┆ -1.421913 ┆ [-0.434848 ┆ … ┆ 42.342309  ┆ 0.000483 ┆ [0, 1372,  ┆ [44.8344,  │\n",
       "│     ┆ 5.937077, … ┆           ┆ ,          ┆   ┆            ┆          ┆ 2744]      ┆ 42.522079, │\n",
       "│     ┆ 6.73831…    ┆           ┆ -0.338094, ┆   ┆            ┆          ┆            ┆ 42.342309… │\n",
       "│     ┆             ┆           ┆ … -0.46…   ┆   ┆            ┆          ┆            ┆            │\n",
       "│ 10  ┆ [6.540121,  ┆ -1.421913 ┆ [-0.434848 ┆ … ┆ 42.34165   ┆ 0.000808 ┆ [0, 1372,  ┆ [44.500462 │\n",
       "│     ┆ 5.937077, … ┆           ┆ ,          ┆   ┆            ┆          ┆ 2744]      ┆ ,          │\n",
       "│     ┆ 6.73831…    ┆           ┆ -0.338094, ┆   ┆            ┆          ┆            ┆ 42.488994, │\n",
       "│     ┆             ┆           ┆ … -0.46…   ┆   ┆            ┆          ┆            ┆ 42.3416…   │\n",
       "│ …   ┆ …           ┆ …         ┆ …          ┆ … ┆ …          ┆ …        ┆ …          ┆ …          │\n",
       "│ 100 ┆ [4.222479,  ┆ -8.310487 ┆ [-0.016524 ┆ … ┆ 415.355437 ┆ 0.001237 ┆ [0,        ┆ [683.47345 │\n",
       "│     ┆ 2.755177, … ┆           ┆ ,          ┆   ┆            ┆          ┆ 1030702, … ┆ 9, 492.583 │\n",
       "│     ┆ 7.28693…    ┆           ┆ 0.410461,  ┆   ┆            ┆          ┆ 5153510]   ┆ 167, …     │\n",
       "│     ┆             ┆           ┆ … -0.562…  ┆   ┆            ┆          ┆            ┆ 415…       │\n",
       "│ 100 ┆ [4.222479,  ┆ -8.310487 ┆ [-0.016524 ┆ … ┆ 415.348338 ┆ 0.001229 ┆ [0,        ┆ [634.51961 │\n",
       "│     ┆ 2.755177, … ┆           ┆ ,          ┆   ┆            ┆          ┆ 1030702, … ┆ 4, 475.146 │\n",
       "│     ┆ 7.28693…    ┆           ┆ 0.410461,  ┆   ┆            ┆          ┆ 5153510]   ┆ 837, …     │\n",
       "│     ┆             ┆           ┆ … -0.562…  ┆   ┆            ┆          ┆            ┆ 415…       │\n",
       "│ 100 ┆ [4.222479,  ┆ -8.310487 ┆ [-0.016524 ┆ … ┆ 415.347373 ┆ 0.001442 ┆ [0,        ┆ [703.53005 │\n",
       "│     ┆ 2.755177, … ┆           ┆ ,          ┆   ┆            ┆          ┆ 1030702, … ┆ 9, 499.547 │\n",
       "│     ┆ 7.28693…    ┆           ┆ 0.410461,  ┆   ┆            ┆          ┆ 6184212]   ┆ 816, …     │\n",
       "│     ┆             ┆           ┆ … -0.562…  ┆   ┆            ┆          ┆            ┆ 415…       │\n",
       "│ 100 ┆ [4.222479,  ┆ -8.310487 ┆ [-0.016524 ┆ … ┆ 415.349706 ┆ 0.001455 ┆ [0,        ┆ [669.37884 │\n",
       "│     ┆ 2.755177, … ┆           ┆ ,          ┆   ┆            ┆          ┆ 1030702, … ┆ 1, 486.374 │\n",
       "│     ┆ 7.28693…    ┆           ┆ 0.410461,  ┆   ┆            ┆          ┆ 5153510]   ┆ 998, …     │\n",
       "│     ┆             ┆           ┆ … -0.562…  ┆   ┆            ┆          ┆            ┆ 415…       │\n",
       "│ 100 ┆ [4.222479,  ┆ -8.310487 ┆ [-0.016524 ┆ … ┆ 415.348374 ┆ 0.001374 ┆ [0,        ┆ [637.27435 │\n",
       "│     ┆ 2.755177, … ┆           ┆ ,          ┆   ┆            ┆          ┆ 1030702, … ┆ 6, 475.710 │\n",
       "│     ┆ 7.28693…    ┆           ┆ 0.410461,  ┆   ┆            ┆          ┆ 5153510]   ┆ 034, …     │\n",
       "│     ┆             ┆           ┆ … -0.562…  ┆   ┆            ┆          ┆            ┆ 415…       │\n",
       "└─────┴─────────────┴───────────┴────────────┴───┴────────────┴──────────┴────────────┴────────────┘"
      ]
     },
     "execution_count": 15,
     "metadata": {},
     "output_type": "execute_result"
    }
   ],
   "source": [
    "raw_experiment_sheet"
   ]
  },
  {
   "cell_type": "markdown",
   "id": "be006551",
   "metadata": {},
   "source": [
    "## 4. Решение двойственной задачи методом Ньютона \n",
    "\n",
    "Для двойственной задачи шаг оптимизации метода Ньютона:\n",
    "$$\\nu^{k+1} = \\nu^k - \\left[\\nabla^2 g(\\nu^k)\\right]^{-1} \\nabla g(\\nu^k)$$\n",
    "\n",
    "\n",
    "В случае рассматриваемой двойственной функции $$g(\\nu) = \\nu \\left( n \\left(1 - ln(\\nu)\\right) + \\sum^{n}_{i=1}ln(a_i) + b \\right)$$\n",
    "\n",
    "Градиент: \n",
    "$\\nabla g(\\nu) = - \\nu ln(\\nu) + \\sum^{n}_{i=1}ln(a_i) + b $\n",
    "\n",
    "Гессиан:\n",
    "$\\nabla^2 g(\\nu) = - \\frac{n}{\\nu}$ \n",
    "\n",
    "Градиент и гессиан одномерные, поэтому шаг оптимизации упрощается: \n",
    "$$\\nu^{k+1} = \\nu^k - \\frac{g'(\\nu^k)}{g''(\\nu^k)} $$\n",
    "\n",
    "Число арифметических операций за одну итерацию - $2n + 6$; с учетом перевода $\\nu$ в $x$ на каждой итерации для используемого критерия остановки $4n+6$."
   ]
  },
  {
   "cell_type": "code",
   "execution_count": 16,
   "id": "43dd8aa0",
   "metadata": {},
   "outputs": [],
   "source": [
    "def dual_g(nu, a, b):\n",
    "    return nu * (len(a) * (1 - np.log(-nu)) + np.sum(np.log(a)) + b)\n",
    "\n",
    "def grad_dual_g(nu, a, b):\n",
    "    return - len(a) * np.log(nu) + np.sum(np.log(a)) + b\n",
    "\n",
    "def hess_dual_g(nu, a):\n",
    "    return - len(a) / nu\n",
    "\n",
    "def nu_to_x(nu, a):\n",
    "    return np.log(nu / a)"
   ]
  },
  {
   "cell_type": "code",
   "execution_count": 17,
   "id": "0edc1c9a",
   "metadata": {},
   "outputs": [],
   "source": [
    "def solve_dual_newton(a, b, nu_init, cvxpy_y, eps=0.01, max_iters=10000):\n",
    "    sovle_time = 0\n",
    "    newton_hist_y = []\n",
    "\n",
    "    a = np.asarray(a)\n",
    "    nu = nu_init\n",
    "    \n",
    "    for i in range(max_iters):\n",
    "        start_t_iter = time.time()\n",
    "\n",
    "        grad = grad_dual_g(nu, a, b)\n",
    "        hess = hess_dual_g(nu, a)\n",
    "\n",
    "        nu -= grad / hess\n",
    "        x = nu_to_x(nu, a)\n",
    "\n",
    "        sovle_time += time.time() - start_t_iter\n",
    "        newton_hist_y.append(float(f(x, a)[0]))\n",
    "\n",
    "        if np.abs(f(x, a)[0] - cvxpy_y) < eps:\n",
    "            break\n",
    "    \n",
    "    return {\"dual_newton_x\": x.tolist(), \"dual_newton_y\": f(x, a)[0], \"dual_newton_t\": sovle_time, \"dual_newton_hist_y\": newton_hist_y}"
   ]
  },
  {
   "cell_type": "code",
   "execution_count": null,
   "id": "91edeb57",
   "metadata": {},
   "outputs": [],
   "source": [
    "raw_experiment_sheet = raw_experiment_sheet.with_columns(\n",
    "    (\n",
    "        pl.struct(\"a\", \"b\", \"nu_init\", \"cvxpy_y\")\n",
    "        .map_elements(\n",
    "            lambda x: solve_dual_newton(**x),\n",
    "            return_dtype=pl.Struct(\n",
    "                {\"dual_newton_x\": pl.List(float), \"dual_newton_y\": float, \"dual_newton_t\": float, \"dual_newton_hist_y\": pl.List(float)}\n",
    "            ),\n",
    "        )\n",
    "        .alias(\"dual_newton_out\")\n",
    "    )\n",
    ").unnest(\"dual_newton_out\")"
   ]
  },
  {
   "cell_type": "markdown",
   "id": "84008abe",
   "metadata": {},
   "source": [
    "# III. Анализ зависимостей"
   ]
  },
  {
   "cell_type": "code",
   "execution_count": 34,
   "id": "c59c5c17",
   "metadata": {},
   "outputs": [],
   "source": [
    "res_data = raw_experiment_sheet.clone()\n",
    "res_data = (res_data\n",
    "    .with_columns(pl.col(\"newton_hist_y\").list.len().alias(\"iter_num\"))\n",
    "    .with_columns(pl.col(\"dual_newton_hist_y\").list.len().alias(\"dual_iter_num\"))\n",
    "    .with_columns((pl.col(\"cvxpy_y\") - pl.col(\"newton_y\")).abs().alias(\"primal_diff\"))\n",
    "    .with_columns((pl.col(\"cvxpy_y\") - pl.col(\"dual_newton_y\")).abs().alias(\"dual_diff\"))\n",
    "    .select(\"dim\", \"newton_t\", \"dual_newton_t\", \"iter_num\", \"dual_iter_num\", \"primal_diff\", \"dual_diff\")\n",
    "    .group_by(\"dim\")\n",
    "    .agg(pl.all().mean().name.suffix(\"_mean\"))\n",
    "    .sort(\"dim\")\n",
    ")"
   ]
  },
  {
   "cell_type": "code",
   "execution_count": 39,
   "id": "542485e7",
   "metadata": {},
   "outputs": [
    {
     "data": {
      "application/vnd.plotly.v1+json": {
       "config": {
        "plotlyServerURL": "https://plot.ly"
       },
       "data": [
        {
         "line": {
          "shape": "linear"
         },
         "mode": "lines+markers",
         "name": "primal",
         "type": "scatter",
         "x": [
          10,
          20,
          30,
          40,
          50,
          60,
          70,
          80,
          90,
          100
         ],
         "y": [
          0.000343859601020813,
          0.000588671898841858,
          0.0008236295938491822,
          0.0010991824865341187,
          0.001318910002708435,
          0.001355668258666992,
          0.0016269052982330321,
          0.0018851421117782592,
          0.002165090036392212,
          0.0024938061237335207
         ]
        },
        {
         "line": {
          "shape": "linear"
         },
         "mode": "lines+markers",
         "name": "dual",
         "type": "scatter",
         "x": [
          10,
          20,
          30,
          40,
          50,
          60,
          70,
          80,
          90,
          100
         ],
         "y": [
          0.00006604812145233154,
          0.00006675710678100586,
          0.00006811857223510742,
          0.00006885759830474854,
          0.00007078251838684082,
          0.00007194805145263672,
          0.00007373559474945068,
          0.00007437295913696289,
          0.00007565546035766602,
          0.00007659573554992676
         ]
        }
       ],
       "layout": {
        "showlegend": true,
        "template": {
         "data": {
          "bar": [
           {
            "error_x": {
             "color": "#2a3f5f"
            },
            "error_y": {
             "color": "#2a3f5f"
            },
            "marker": {
             "line": {
              "color": "#E5ECF6",
              "width": 0.5
             },
             "pattern": {
              "fillmode": "overlay",
              "size": 10,
              "solidity": 0.2
             }
            },
            "type": "bar"
           }
          ],
          "barpolar": [
           {
            "marker": {
             "line": {
              "color": "#E5ECF6",
              "width": 0.5
             },
             "pattern": {
              "fillmode": "overlay",
              "size": 10,
              "solidity": 0.2
             }
            },
            "type": "barpolar"
           }
          ],
          "carpet": [
           {
            "aaxis": {
             "endlinecolor": "#2a3f5f",
             "gridcolor": "white",
             "linecolor": "white",
             "minorgridcolor": "white",
             "startlinecolor": "#2a3f5f"
            },
            "baxis": {
             "endlinecolor": "#2a3f5f",
             "gridcolor": "white",
             "linecolor": "white",
             "minorgridcolor": "white",
             "startlinecolor": "#2a3f5f"
            },
            "type": "carpet"
           }
          ],
          "choropleth": [
           {
            "colorbar": {
             "outlinewidth": 0,
             "ticks": ""
            },
            "type": "choropleth"
           }
          ],
          "contour": [
           {
            "colorbar": {
             "outlinewidth": 0,
             "ticks": ""
            },
            "colorscale": [
             [
              0,
              "#0d0887"
             ],
             [
              0.1111111111111111,
              "#46039f"
             ],
             [
              0.2222222222222222,
              "#7201a8"
             ],
             [
              0.3333333333333333,
              "#9c179e"
             ],
             [
              0.4444444444444444,
              "#bd3786"
             ],
             [
              0.5555555555555556,
              "#d8576b"
             ],
             [
              0.6666666666666666,
              "#ed7953"
             ],
             [
              0.7777777777777778,
              "#fb9f3a"
             ],
             [
              0.8888888888888888,
              "#fdca26"
             ],
             [
              1,
              "#f0f921"
             ]
            ],
            "type": "contour"
           }
          ],
          "contourcarpet": [
           {
            "colorbar": {
             "outlinewidth": 0,
             "ticks": ""
            },
            "type": "contourcarpet"
           }
          ],
          "heatmap": [
           {
            "colorbar": {
             "outlinewidth": 0,
             "ticks": ""
            },
            "colorscale": [
             [
              0,
              "#0d0887"
             ],
             [
              0.1111111111111111,
              "#46039f"
             ],
             [
              0.2222222222222222,
              "#7201a8"
             ],
             [
              0.3333333333333333,
              "#9c179e"
             ],
             [
              0.4444444444444444,
              "#bd3786"
             ],
             [
              0.5555555555555556,
              "#d8576b"
             ],
             [
              0.6666666666666666,
              "#ed7953"
             ],
             [
              0.7777777777777778,
              "#fb9f3a"
             ],
             [
              0.8888888888888888,
              "#fdca26"
             ],
             [
              1,
              "#f0f921"
             ]
            ],
            "type": "heatmap"
           }
          ],
          "heatmapgl": [
           {
            "colorbar": {
             "outlinewidth": 0,
             "ticks": ""
            },
            "colorscale": [
             [
              0,
              "#0d0887"
             ],
             [
              0.1111111111111111,
              "#46039f"
             ],
             [
              0.2222222222222222,
              "#7201a8"
             ],
             [
              0.3333333333333333,
              "#9c179e"
             ],
             [
              0.4444444444444444,
              "#bd3786"
             ],
             [
              0.5555555555555556,
              "#d8576b"
             ],
             [
              0.6666666666666666,
              "#ed7953"
             ],
             [
              0.7777777777777778,
              "#fb9f3a"
             ],
             [
              0.8888888888888888,
              "#fdca26"
             ],
             [
              1,
              "#f0f921"
             ]
            ],
            "type": "heatmapgl"
           }
          ],
          "histogram": [
           {
            "marker": {
             "pattern": {
              "fillmode": "overlay",
              "size": 10,
              "solidity": 0.2
             }
            },
            "type": "histogram"
           }
          ],
          "histogram2d": [
           {
            "colorbar": {
             "outlinewidth": 0,
             "ticks": ""
            },
            "colorscale": [
             [
              0,
              "#0d0887"
             ],
             [
              0.1111111111111111,
              "#46039f"
             ],
             [
              0.2222222222222222,
              "#7201a8"
             ],
             [
              0.3333333333333333,
              "#9c179e"
             ],
             [
              0.4444444444444444,
              "#bd3786"
             ],
             [
              0.5555555555555556,
              "#d8576b"
             ],
             [
              0.6666666666666666,
              "#ed7953"
             ],
             [
              0.7777777777777778,
              "#fb9f3a"
             ],
             [
              0.8888888888888888,
              "#fdca26"
             ],
             [
              1,
              "#f0f921"
             ]
            ],
            "type": "histogram2d"
           }
          ],
          "histogram2dcontour": [
           {
            "colorbar": {
             "outlinewidth": 0,
             "ticks": ""
            },
            "colorscale": [
             [
              0,
              "#0d0887"
             ],
             [
              0.1111111111111111,
              "#46039f"
             ],
             [
              0.2222222222222222,
              "#7201a8"
             ],
             [
              0.3333333333333333,
              "#9c179e"
             ],
             [
              0.4444444444444444,
              "#bd3786"
             ],
             [
              0.5555555555555556,
              "#d8576b"
             ],
             [
              0.6666666666666666,
              "#ed7953"
             ],
             [
              0.7777777777777778,
              "#fb9f3a"
             ],
             [
              0.8888888888888888,
              "#fdca26"
             ],
             [
              1,
              "#f0f921"
             ]
            ],
            "type": "histogram2dcontour"
           }
          ],
          "mesh3d": [
           {
            "colorbar": {
             "outlinewidth": 0,
             "ticks": ""
            },
            "type": "mesh3d"
           }
          ],
          "parcoords": [
           {
            "line": {
             "colorbar": {
              "outlinewidth": 0,
              "ticks": ""
             }
            },
            "type": "parcoords"
           }
          ],
          "pie": [
           {
            "automargin": true,
            "type": "pie"
           }
          ],
          "scatter": [
           {
            "fillpattern": {
             "fillmode": "overlay",
             "size": 10,
             "solidity": 0.2
            },
            "type": "scatter"
           }
          ],
          "scatter3d": [
           {
            "line": {
             "colorbar": {
              "outlinewidth": 0,
              "ticks": ""
             }
            },
            "marker": {
             "colorbar": {
              "outlinewidth": 0,
              "ticks": ""
             }
            },
            "type": "scatter3d"
           }
          ],
          "scattercarpet": [
           {
            "marker": {
             "colorbar": {
              "outlinewidth": 0,
              "ticks": ""
             }
            },
            "type": "scattercarpet"
           }
          ],
          "scattergeo": [
           {
            "marker": {
             "colorbar": {
              "outlinewidth": 0,
              "ticks": ""
             }
            },
            "type": "scattergeo"
           }
          ],
          "scattergl": [
           {
            "marker": {
             "colorbar": {
              "outlinewidth": 0,
              "ticks": ""
             }
            },
            "type": "scattergl"
           }
          ],
          "scattermapbox": [
           {
            "marker": {
             "colorbar": {
              "outlinewidth": 0,
              "ticks": ""
             }
            },
            "type": "scattermapbox"
           }
          ],
          "scatterpolar": [
           {
            "marker": {
             "colorbar": {
              "outlinewidth": 0,
              "ticks": ""
             }
            },
            "type": "scatterpolar"
           }
          ],
          "scatterpolargl": [
           {
            "marker": {
             "colorbar": {
              "outlinewidth": 0,
              "ticks": ""
             }
            },
            "type": "scatterpolargl"
           }
          ],
          "scatterternary": [
           {
            "marker": {
             "colorbar": {
              "outlinewidth": 0,
              "ticks": ""
             }
            },
            "type": "scatterternary"
           }
          ],
          "surface": [
           {
            "colorbar": {
             "outlinewidth": 0,
             "ticks": ""
            },
            "colorscale": [
             [
              0,
              "#0d0887"
             ],
             [
              0.1111111111111111,
              "#46039f"
             ],
             [
              0.2222222222222222,
              "#7201a8"
             ],
             [
              0.3333333333333333,
              "#9c179e"
             ],
             [
              0.4444444444444444,
              "#bd3786"
             ],
             [
              0.5555555555555556,
              "#d8576b"
             ],
             [
              0.6666666666666666,
              "#ed7953"
             ],
             [
              0.7777777777777778,
              "#fb9f3a"
             ],
             [
              0.8888888888888888,
              "#fdca26"
             ],
             [
              1,
              "#f0f921"
             ]
            ],
            "type": "surface"
           }
          ],
          "table": [
           {
            "cells": {
             "fill": {
              "color": "#EBF0F8"
             },
             "line": {
              "color": "white"
             }
            },
            "header": {
             "fill": {
              "color": "#C8D4E3"
             },
             "line": {
              "color": "white"
             }
            },
            "type": "table"
           }
          ]
         },
         "layout": {
          "annotationdefaults": {
           "arrowcolor": "#2a3f5f",
           "arrowhead": 0,
           "arrowwidth": 1
          },
          "autotypenumbers": "strict",
          "coloraxis": {
           "colorbar": {
            "outlinewidth": 0,
            "ticks": ""
           }
          },
          "colorscale": {
           "diverging": [
            [
             0,
             "#8e0152"
            ],
            [
             0.1,
             "#c51b7d"
            ],
            [
             0.2,
             "#de77ae"
            ],
            [
             0.3,
             "#f1b6da"
            ],
            [
             0.4,
             "#fde0ef"
            ],
            [
             0.5,
             "#f7f7f7"
            ],
            [
             0.6,
             "#e6f5d0"
            ],
            [
             0.7,
             "#b8e186"
            ],
            [
             0.8,
             "#7fbc41"
            ],
            [
             0.9,
             "#4d9221"
            ],
            [
             1,
             "#276419"
            ]
           ],
           "sequential": [
            [
             0,
             "#0d0887"
            ],
            [
             0.1111111111111111,
             "#46039f"
            ],
            [
             0.2222222222222222,
             "#7201a8"
            ],
            [
             0.3333333333333333,
             "#9c179e"
            ],
            [
             0.4444444444444444,
             "#bd3786"
            ],
            [
             0.5555555555555556,
             "#d8576b"
            ],
            [
             0.6666666666666666,
             "#ed7953"
            ],
            [
             0.7777777777777778,
             "#fb9f3a"
            ],
            [
             0.8888888888888888,
             "#fdca26"
            ],
            [
             1,
             "#f0f921"
            ]
           ],
           "sequentialminus": [
            [
             0,
             "#0d0887"
            ],
            [
             0.1111111111111111,
             "#46039f"
            ],
            [
             0.2222222222222222,
             "#7201a8"
            ],
            [
             0.3333333333333333,
             "#9c179e"
            ],
            [
             0.4444444444444444,
             "#bd3786"
            ],
            [
             0.5555555555555556,
             "#d8576b"
            ],
            [
             0.6666666666666666,
             "#ed7953"
            ],
            [
             0.7777777777777778,
             "#fb9f3a"
            ],
            [
             0.8888888888888888,
             "#fdca26"
            ],
            [
             1,
             "#f0f921"
            ]
           ]
          },
          "colorway": [
           "#636efa",
           "#EF553B",
           "#00cc96",
           "#ab63fa",
           "#FFA15A",
           "#19d3f3",
           "#FF6692",
           "#B6E880",
           "#FF97FF",
           "#FECB52"
          ],
          "font": {
           "color": "#2a3f5f"
          },
          "geo": {
           "bgcolor": "white",
           "lakecolor": "white",
           "landcolor": "#E5ECF6",
           "showlakes": true,
           "showland": true,
           "subunitcolor": "white"
          },
          "hoverlabel": {
           "align": "left"
          },
          "hovermode": "closest",
          "mapbox": {
           "style": "light"
          },
          "paper_bgcolor": "white",
          "plot_bgcolor": "#E5ECF6",
          "polar": {
           "angularaxis": {
            "gridcolor": "white",
            "linecolor": "white",
            "ticks": ""
           },
           "bgcolor": "#E5ECF6",
           "radialaxis": {
            "gridcolor": "white",
            "linecolor": "white",
            "ticks": ""
           }
          },
          "scene": {
           "xaxis": {
            "backgroundcolor": "#E5ECF6",
            "gridcolor": "white",
            "gridwidth": 2,
            "linecolor": "white",
            "showbackground": true,
            "ticks": "",
            "zerolinecolor": "white"
           },
           "yaxis": {
            "backgroundcolor": "#E5ECF6",
            "gridcolor": "white",
            "gridwidth": 2,
            "linecolor": "white",
            "showbackground": true,
            "ticks": "",
            "zerolinecolor": "white"
           },
           "zaxis": {
            "backgroundcolor": "#E5ECF6",
            "gridcolor": "white",
            "gridwidth": 2,
            "linecolor": "white",
            "showbackground": true,
            "ticks": "",
            "zerolinecolor": "white"
           }
          },
          "shapedefaults": {
           "line": {
            "color": "#2a3f5f"
           }
          },
          "ternary": {
           "aaxis": {
            "gridcolor": "white",
            "linecolor": "white",
            "ticks": ""
           },
           "baxis": {
            "gridcolor": "white",
            "linecolor": "white",
            "ticks": ""
           },
           "bgcolor": "#E5ECF6",
           "caxis": {
            "gridcolor": "white",
            "linecolor": "white",
            "ticks": ""
           }
          },
          "title": {
           "x": 0.05
          },
          "xaxis": {
           "automargin": true,
           "gridcolor": "white",
           "linecolor": "white",
           "ticks": "",
           "title": {
            "standoff": 15
           },
           "zerolinecolor": "white",
           "zerolinewidth": 2
          },
          "yaxis": {
           "automargin": true,
           "gridcolor": "white",
           "linecolor": "white",
           "ticks": "",
           "title": {
            "standoff": 15
           },
           "zerolinecolor": "white",
           "zerolinewidth": 2
          }
         }
        },
        "title": {
         "text": "Среднее время в зависимости от размерности переменной"
        },
        "xaxis": {
         "title": {
          "text": "Размерность"
         }
        },
        "yaxis": {
         "title": {
          "text": "Среднее время"
         }
        }
       }
      }
     },
     "metadata": {},
     "output_type": "display_data"
    },
    {
     "data": {
      "application/vnd.plotly.v1+json": {
       "config": {
        "plotlyServerURL": "https://plot.ly"
       },
       "data": [
        {
         "line": {
          "shape": "linear"
         },
         "mode": "lines+markers",
         "name": "primal",
         "type": "scatter",
         "x": [
          10,
          20,
          30,
          40,
          50,
          60,
          70,
          80,
          90,
          100
         ],
         "y": [
          3.4597,
          5.4721,
          6.8519,
          8.1097,
          8.8568,
          8.8315,
          9.6583,
          10.2854,
          10.9571,
          11.2809
         ]
        },
        {
         "line": {
          "shape": "linear"
         },
         "mode": "lines+markers",
         "name": "dual",
         "type": "scatter",
         "x": [
          10,
          20,
          30,
          40,
          50,
          60,
          70,
          80,
          90,
          100
         ],
         "y": [
          4.7127,
          4.8699,
          4.9238,
          4.9746,
          5.0248,
          5.0275,
          5.0691,
          5.0852,
          5.1071,
          5.13
         ]
        }
       ],
       "layout": {
        "showlegend": true,
        "template": {
         "data": {
          "bar": [
           {
            "error_x": {
             "color": "#2a3f5f"
            },
            "error_y": {
             "color": "#2a3f5f"
            },
            "marker": {
             "line": {
              "color": "#E5ECF6",
              "width": 0.5
             },
             "pattern": {
              "fillmode": "overlay",
              "size": 10,
              "solidity": 0.2
             }
            },
            "type": "bar"
           }
          ],
          "barpolar": [
           {
            "marker": {
             "line": {
              "color": "#E5ECF6",
              "width": 0.5
             },
             "pattern": {
              "fillmode": "overlay",
              "size": 10,
              "solidity": 0.2
             }
            },
            "type": "barpolar"
           }
          ],
          "carpet": [
           {
            "aaxis": {
             "endlinecolor": "#2a3f5f",
             "gridcolor": "white",
             "linecolor": "white",
             "minorgridcolor": "white",
             "startlinecolor": "#2a3f5f"
            },
            "baxis": {
             "endlinecolor": "#2a3f5f",
             "gridcolor": "white",
             "linecolor": "white",
             "minorgridcolor": "white",
             "startlinecolor": "#2a3f5f"
            },
            "type": "carpet"
           }
          ],
          "choropleth": [
           {
            "colorbar": {
             "outlinewidth": 0,
             "ticks": ""
            },
            "type": "choropleth"
           }
          ],
          "contour": [
           {
            "colorbar": {
             "outlinewidth": 0,
             "ticks": ""
            },
            "colorscale": [
             [
              0,
              "#0d0887"
             ],
             [
              0.1111111111111111,
              "#46039f"
             ],
             [
              0.2222222222222222,
              "#7201a8"
             ],
             [
              0.3333333333333333,
              "#9c179e"
             ],
             [
              0.4444444444444444,
              "#bd3786"
             ],
             [
              0.5555555555555556,
              "#d8576b"
             ],
             [
              0.6666666666666666,
              "#ed7953"
             ],
             [
              0.7777777777777778,
              "#fb9f3a"
             ],
             [
              0.8888888888888888,
              "#fdca26"
             ],
             [
              1,
              "#f0f921"
             ]
            ],
            "type": "contour"
           }
          ],
          "contourcarpet": [
           {
            "colorbar": {
             "outlinewidth": 0,
             "ticks": ""
            },
            "type": "contourcarpet"
           }
          ],
          "heatmap": [
           {
            "colorbar": {
             "outlinewidth": 0,
             "ticks": ""
            },
            "colorscale": [
             [
              0,
              "#0d0887"
             ],
             [
              0.1111111111111111,
              "#46039f"
             ],
             [
              0.2222222222222222,
              "#7201a8"
             ],
             [
              0.3333333333333333,
              "#9c179e"
             ],
             [
              0.4444444444444444,
              "#bd3786"
             ],
             [
              0.5555555555555556,
              "#d8576b"
             ],
             [
              0.6666666666666666,
              "#ed7953"
             ],
             [
              0.7777777777777778,
              "#fb9f3a"
             ],
             [
              0.8888888888888888,
              "#fdca26"
             ],
             [
              1,
              "#f0f921"
             ]
            ],
            "type": "heatmap"
           }
          ],
          "heatmapgl": [
           {
            "colorbar": {
             "outlinewidth": 0,
             "ticks": ""
            },
            "colorscale": [
             [
              0,
              "#0d0887"
             ],
             [
              0.1111111111111111,
              "#46039f"
             ],
             [
              0.2222222222222222,
              "#7201a8"
             ],
             [
              0.3333333333333333,
              "#9c179e"
             ],
             [
              0.4444444444444444,
              "#bd3786"
             ],
             [
              0.5555555555555556,
              "#d8576b"
             ],
             [
              0.6666666666666666,
              "#ed7953"
             ],
             [
              0.7777777777777778,
              "#fb9f3a"
             ],
             [
              0.8888888888888888,
              "#fdca26"
             ],
             [
              1,
              "#f0f921"
             ]
            ],
            "type": "heatmapgl"
           }
          ],
          "histogram": [
           {
            "marker": {
             "pattern": {
              "fillmode": "overlay",
              "size": 10,
              "solidity": 0.2
             }
            },
            "type": "histogram"
           }
          ],
          "histogram2d": [
           {
            "colorbar": {
             "outlinewidth": 0,
             "ticks": ""
            },
            "colorscale": [
             [
              0,
              "#0d0887"
             ],
             [
              0.1111111111111111,
              "#46039f"
             ],
             [
              0.2222222222222222,
              "#7201a8"
             ],
             [
              0.3333333333333333,
              "#9c179e"
             ],
             [
              0.4444444444444444,
              "#bd3786"
             ],
             [
              0.5555555555555556,
              "#d8576b"
             ],
             [
              0.6666666666666666,
              "#ed7953"
             ],
             [
              0.7777777777777778,
              "#fb9f3a"
             ],
             [
              0.8888888888888888,
              "#fdca26"
             ],
             [
              1,
              "#f0f921"
             ]
            ],
            "type": "histogram2d"
           }
          ],
          "histogram2dcontour": [
           {
            "colorbar": {
             "outlinewidth": 0,
             "ticks": ""
            },
            "colorscale": [
             [
              0,
              "#0d0887"
             ],
             [
              0.1111111111111111,
              "#46039f"
             ],
             [
              0.2222222222222222,
              "#7201a8"
             ],
             [
              0.3333333333333333,
              "#9c179e"
             ],
             [
              0.4444444444444444,
              "#bd3786"
             ],
             [
              0.5555555555555556,
              "#d8576b"
             ],
             [
              0.6666666666666666,
              "#ed7953"
             ],
             [
              0.7777777777777778,
              "#fb9f3a"
             ],
             [
              0.8888888888888888,
              "#fdca26"
             ],
             [
              1,
              "#f0f921"
             ]
            ],
            "type": "histogram2dcontour"
           }
          ],
          "mesh3d": [
           {
            "colorbar": {
             "outlinewidth": 0,
             "ticks": ""
            },
            "type": "mesh3d"
           }
          ],
          "parcoords": [
           {
            "line": {
             "colorbar": {
              "outlinewidth": 0,
              "ticks": ""
             }
            },
            "type": "parcoords"
           }
          ],
          "pie": [
           {
            "automargin": true,
            "type": "pie"
           }
          ],
          "scatter": [
           {
            "fillpattern": {
             "fillmode": "overlay",
             "size": 10,
             "solidity": 0.2
            },
            "type": "scatter"
           }
          ],
          "scatter3d": [
           {
            "line": {
             "colorbar": {
              "outlinewidth": 0,
              "ticks": ""
             }
            },
            "marker": {
             "colorbar": {
              "outlinewidth": 0,
              "ticks": ""
             }
            },
            "type": "scatter3d"
           }
          ],
          "scattercarpet": [
           {
            "marker": {
             "colorbar": {
              "outlinewidth": 0,
              "ticks": ""
             }
            },
            "type": "scattercarpet"
           }
          ],
          "scattergeo": [
           {
            "marker": {
             "colorbar": {
              "outlinewidth": 0,
              "ticks": ""
             }
            },
            "type": "scattergeo"
           }
          ],
          "scattergl": [
           {
            "marker": {
             "colorbar": {
              "outlinewidth": 0,
              "ticks": ""
             }
            },
            "type": "scattergl"
           }
          ],
          "scattermapbox": [
           {
            "marker": {
             "colorbar": {
              "outlinewidth": 0,
              "ticks": ""
             }
            },
            "type": "scattermapbox"
           }
          ],
          "scatterpolar": [
           {
            "marker": {
             "colorbar": {
              "outlinewidth": 0,
              "ticks": ""
             }
            },
            "type": "scatterpolar"
           }
          ],
          "scatterpolargl": [
           {
            "marker": {
             "colorbar": {
              "outlinewidth": 0,
              "ticks": ""
             }
            },
            "type": "scatterpolargl"
           }
          ],
          "scatterternary": [
           {
            "marker": {
             "colorbar": {
              "outlinewidth": 0,
              "ticks": ""
             }
            },
            "type": "scatterternary"
           }
          ],
          "surface": [
           {
            "colorbar": {
             "outlinewidth": 0,
             "ticks": ""
            },
            "colorscale": [
             [
              0,
              "#0d0887"
             ],
             [
              0.1111111111111111,
              "#46039f"
             ],
             [
              0.2222222222222222,
              "#7201a8"
             ],
             [
              0.3333333333333333,
              "#9c179e"
             ],
             [
              0.4444444444444444,
              "#bd3786"
             ],
             [
              0.5555555555555556,
              "#d8576b"
             ],
             [
              0.6666666666666666,
              "#ed7953"
             ],
             [
              0.7777777777777778,
              "#fb9f3a"
             ],
             [
              0.8888888888888888,
              "#fdca26"
             ],
             [
              1,
              "#f0f921"
             ]
            ],
            "type": "surface"
           }
          ],
          "table": [
           {
            "cells": {
             "fill": {
              "color": "#EBF0F8"
             },
             "line": {
              "color": "white"
             }
            },
            "header": {
             "fill": {
              "color": "#C8D4E3"
             },
             "line": {
              "color": "white"
             }
            },
            "type": "table"
           }
          ]
         },
         "layout": {
          "annotationdefaults": {
           "arrowcolor": "#2a3f5f",
           "arrowhead": 0,
           "arrowwidth": 1
          },
          "autotypenumbers": "strict",
          "coloraxis": {
           "colorbar": {
            "outlinewidth": 0,
            "ticks": ""
           }
          },
          "colorscale": {
           "diverging": [
            [
             0,
             "#8e0152"
            ],
            [
             0.1,
             "#c51b7d"
            ],
            [
             0.2,
             "#de77ae"
            ],
            [
             0.3,
             "#f1b6da"
            ],
            [
             0.4,
             "#fde0ef"
            ],
            [
             0.5,
             "#f7f7f7"
            ],
            [
             0.6,
             "#e6f5d0"
            ],
            [
             0.7,
             "#b8e186"
            ],
            [
             0.8,
             "#7fbc41"
            ],
            [
             0.9,
             "#4d9221"
            ],
            [
             1,
             "#276419"
            ]
           ],
           "sequential": [
            [
             0,
             "#0d0887"
            ],
            [
             0.1111111111111111,
             "#46039f"
            ],
            [
             0.2222222222222222,
             "#7201a8"
            ],
            [
             0.3333333333333333,
             "#9c179e"
            ],
            [
             0.4444444444444444,
             "#bd3786"
            ],
            [
             0.5555555555555556,
             "#d8576b"
            ],
            [
             0.6666666666666666,
             "#ed7953"
            ],
            [
             0.7777777777777778,
             "#fb9f3a"
            ],
            [
             0.8888888888888888,
             "#fdca26"
            ],
            [
             1,
             "#f0f921"
            ]
           ],
           "sequentialminus": [
            [
             0,
             "#0d0887"
            ],
            [
             0.1111111111111111,
             "#46039f"
            ],
            [
             0.2222222222222222,
             "#7201a8"
            ],
            [
             0.3333333333333333,
             "#9c179e"
            ],
            [
             0.4444444444444444,
             "#bd3786"
            ],
            [
             0.5555555555555556,
             "#d8576b"
            ],
            [
             0.6666666666666666,
             "#ed7953"
            ],
            [
             0.7777777777777778,
             "#fb9f3a"
            ],
            [
             0.8888888888888888,
             "#fdca26"
            ],
            [
             1,
             "#f0f921"
            ]
           ]
          },
          "colorway": [
           "#636efa",
           "#EF553B",
           "#00cc96",
           "#ab63fa",
           "#FFA15A",
           "#19d3f3",
           "#FF6692",
           "#B6E880",
           "#FF97FF",
           "#FECB52"
          ],
          "font": {
           "color": "#2a3f5f"
          },
          "geo": {
           "bgcolor": "white",
           "lakecolor": "white",
           "landcolor": "#E5ECF6",
           "showlakes": true,
           "showland": true,
           "subunitcolor": "white"
          },
          "hoverlabel": {
           "align": "left"
          },
          "hovermode": "closest",
          "mapbox": {
           "style": "light"
          },
          "paper_bgcolor": "white",
          "plot_bgcolor": "#E5ECF6",
          "polar": {
           "angularaxis": {
            "gridcolor": "white",
            "linecolor": "white",
            "ticks": ""
           },
           "bgcolor": "#E5ECF6",
           "radialaxis": {
            "gridcolor": "white",
            "linecolor": "white",
            "ticks": ""
           }
          },
          "scene": {
           "xaxis": {
            "backgroundcolor": "#E5ECF6",
            "gridcolor": "white",
            "gridwidth": 2,
            "linecolor": "white",
            "showbackground": true,
            "ticks": "",
            "zerolinecolor": "white"
           },
           "yaxis": {
            "backgroundcolor": "#E5ECF6",
            "gridcolor": "white",
            "gridwidth": 2,
            "linecolor": "white",
            "showbackground": true,
            "ticks": "",
            "zerolinecolor": "white"
           },
           "zaxis": {
            "backgroundcolor": "#E5ECF6",
            "gridcolor": "white",
            "gridwidth": 2,
            "linecolor": "white",
            "showbackground": true,
            "ticks": "",
            "zerolinecolor": "white"
           }
          },
          "shapedefaults": {
           "line": {
            "color": "#2a3f5f"
           }
          },
          "ternary": {
           "aaxis": {
            "gridcolor": "white",
            "linecolor": "white",
            "ticks": ""
           },
           "baxis": {
            "gridcolor": "white",
            "linecolor": "white",
            "ticks": ""
           },
           "bgcolor": "#E5ECF6",
           "caxis": {
            "gridcolor": "white",
            "linecolor": "white",
            "ticks": ""
           }
          },
          "title": {
           "x": 0.05
          },
          "xaxis": {
           "automargin": true,
           "gridcolor": "white",
           "linecolor": "white",
           "ticks": "",
           "title": {
            "standoff": 15
           },
           "zerolinecolor": "white",
           "zerolinewidth": 2
          },
          "yaxis": {
           "automargin": true,
           "gridcolor": "white",
           "linecolor": "white",
           "ticks": "",
           "title": {
            "standoff": 15
           },
           "zerolinecolor": "white",
           "zerolinewidth": 2
          }
         }
        },
        "title": {
         "text": "Среднее число итераций для достижения сходимости в зависимости от размерности переменной"
        },
        "xaxis": {
         "title": {
          "text": "Размерность"
         }
        },
        "yaxis": {
         "title": {
          "text": "Среднее число итераций"
         }
        }
       }
      }
     },
     "metadata": {},
     "output_type": "display_data"
    },
    {
     "data": {
      "application/vnd.plotly.v1+json": {
       "config": {
        "plotlyServerURL": "https://plot.ly"
       },
       "data": [
        {
         "line": {
          "shape": "linear"
         },
         "mode": "lines+markers",
         "name": "primal",
         "type": "scatter",
         "x": [
          10,
          20,
          30,
          40,
          50,
          60,
          70,
          80,
          90,
          100
         ],
         "y": [
          0.001909036882380544,
          0.0017172977361597204,
          0.001762628529718009,
          0.0018241856431917385,
          0.0018164097185966142,
          0.001840434203104985,
          0.0017503565054226044,
          0.0018958450515944663,
          0.002017109203423627,
          0.0019168612084315554
         ]
        },
        {
         "line": {
          "shape": "linear"
         },
         "mode": "lines+markers",
         "name": "dual",
         "type": "scatter",
         "x": [
          10,
          20,
          30,
          40,
          50,
          60,
          70,
          80,
          90,
          100
         ],
         "y": [
          0.0014847500393882181,
          0.001386605919244333,
          0.0014563002649300386,
          0.0014481249577651184,
          0.0013850052867812764,
          0.0014236083182446635,
          0.0014094051299643837,
          0.0013428741034649818,
          0.0013537393025587732,
          0.0012913209159370752
         ]
        }
       ],
       "layout": {
        "showlegend": true,
        "template": {
         "data": {
          "bar": [
           {
            "error_x": {
             "color": "#2a3f5f"
            },
            "error_y": {
             "color": "#2a3f5f"
            },
            "marker": {
             "line": {
              "color": "#E5ECF6",
              "width": 0.5
             },
             "pattern": {
              "fillmode": "overlay",
              "size": 10,
              "solidity": 0.2
             }
            },
            "type": "bar"
           }
          ],
          "barpolar": [
           {
            "marker": {
             "line": {
              "color": "#E5ECF6",
              "width": 0.5
             },
             "pattern": {
              "fillmode": "overlay",
              "size": 10,
              "solidity": 0.2
             }
            },
            "type": "barpolar"
           }
          ],
          "carpet": [
           {
            "aaxis": {
             "endlinecolor": "#2a3f5f",
             "gridcolor": "white",
             "linecolor": "white",
             "minorgridcolor": "white",
             "startlinecolor": "#2a3f5f"
            },
            "baxis": {
             "endlinecolor": "#2a3f5f",
             "gridcolor": "white",
             "linecolor": "white",
             "minorgridcolor": "white",
             "startlinecolor": "#2a3f5f"
            },
            "type": "carpet"
           }
          ],
          "choropleth": [
           {
            "colorbar": {
             "outlinewidth": 0,
             "ticks": ""
            },
            "type": "choropleth"
           }
          ],
          "contour": [
           {
            "colorbar": {
             "outlinewidth": 0,
             "ticks": ""
            },
            "colorscale": [
             [
              0,
              "#0d0887"
             ],
             [
              0.1111111111111111,
              "#46039f"
             ],
             [
              0.2222222222222222,
              "#7201a8"
             ],
             [
              0.3333333333333333,
              "#9c179e"
             ],
             [
              0.4444444444444444,
              "#bd3786"
             ],
             [
              0.5555555555555556,
              "#d8576b"
             ],
             [
              0.6666666666666666,
              "#ed7953"
             ],
             [
              0.7777777777777778,
              "#fb9f3a"
             ],
             [
              0.8888888888888888,
              "#fdca26"
             ],
             [
              1,
              "#f0f921"
             ]
            ],
            "type": "contour"
           }
          ],
          "contourcarpet": [
           {
            "colorbar": {
             "outlinewidth": 0,
             "ticks": ""
            },
            "type": "contourcarpet"
           }
          ],
          "heatmap": [
           {
            "colorbar": {
             "outlinewidth": 0,
             "ticks": ""
            },
            "colorscale": [
             [
              0,
              "#0d0887"
             ],
             [
              0.1111111111111111,
              "#46039f"
             ],
             [
              0.2222222222222222,
              "#7201a8"
             ],
             [
              0.3333333333333333,
              "#9c179e"
             ],
             [
              0.4444444444444444,
              "#bd3786"
             ],
             [
              0.5555555555555556,
              "#d8576b"
             ],
             [
              0.6666666666666666,
              "#ed7953"
             ],
             [
              0.7777777777777778,
              "#fb9f3a"
             ],
             [
              0.8888888888888888,
              "#fdca26"
             ],
             [
              1,
              "#f0f921"
             ]
            ],
            "type": "heatmap"
           }
          ],
          "heatmapgl": [
           {
            "colorbar": {
             "outlinewidth": 0,
             "ticks": ""
            },
            "colorscale": [
             [
              0,
              "#0d0887"
             ],
             [
              0.1111111111111111,
              "#46039f"
             ],
             [
              0.2222222222222222,
              "#7201a8"
             ],
             [
              0.3333333333333333,
              "#9c179e"
             ],
             [
              0.4444444444444444,
              "#bd3786"
             ],
             [
              0.5555555555555556,
              "#d8576b"
             ],
             [
              0.6666666666666666,
              "#ed7953"
             ],
             [
              0.7777777777777778,
              "#fb9f3a"
             ],
             [
              0.8888888888888888,
              "#fdca26"
             ],
             [
              1,
              "#f0f921"
             ]
            ],
            "type": "heatmapgl"
           }
          ],
          "histogram": [
           {
            "marker": {
             "pattern": {
              "fillmode": "overlay",
              "size": 10,
              "solidity": 0.2
             }
            },
            "type": "histogram"
           }
          ],
          "histogram2d": [
           {
            "colorbar": {
             "outlinewidth": 0,
             "ticks": ""
            },
            "colorscale": [
             [
              0,
              "#0d0887"
             ],
             [
              0.1111111111111111,
              "#46039f"
             ],
             [
              0.2222222222222222,
              "#7201a8"
             ],
             [
              0.3333333333333333,
              "#9c179e"
             ],
             [
              0.4444444444444444,
              "#bd3786"
             ],
             [
              0.5555555555555556,
              "#d8576b"
             ],
             [
              0.6666666666666666,
              "#ed7953"
             ],
             [
              0.7777777777777778,
              "#fb9f3a"
             ],
             [
              0.8888888888888888,
              "#fdca26"
             ],
             [
              1,
              "#f0f921"
             ]
            ],
            "type": "histogram2d"
           }
          ],
          "histogram2dcontour": [
           {
            "colorbar": {
             "outlinewidth": 0,
             "ticks": ""
            },
            "colorscale": [
             [
              0,
              "#0d0887"
             ],
             [
              0.1111111111111111,
              "#46039f"
             ],
             [
              0.2222222222222222,
              "#7201a8"
             ],
             [
              0.3333333333333333,
              "#9c179e"
             ],
             [
              0.4444444444444444,
              "#bd3786"
             ],
             [
              0.5555555555555556,
              "#d8576b"
             ],
             [
              0.6666666666666666,
              "#ed7953"
             ],
             [
              0.7777777777777778,
              "#fb9f3a"
             ],
             [
              0.8888888888888888,
              "#fdca26"
             ],
             [
              1,
              "#f0f921"
             ]
            ],
            "type": "histogram2dcontour"
           }
          ],
          "mesh3d": [
           {
            "colorbar": {
             "outlinewidth": 0,
             "ticks": ""
            },
            "type": "mesh3d"
           }
          ],
          "parcoords": [
           {
            "line": {
             "colorbar": {
              "outlinewidth": 0,
              "ticks": ""
             }
            },
            "type": "parcoords"
           }
          ],
          "pie": [
           {
            "automargin": true,
            "type": "pie"
           }
          ],
          "scatter": [
           {
            "fillpattern": {
             "fillmode": "overlay",
             "size": 10,
             "solidity": 0.2
            },
            "type": "scatter"
           }
          ],
          "scatter3d": [
           {
            "line": {
             "colorbar": {
              "outlinewidth": 0,
              "ticks": ""
             }
            },
            "marker": {
             "colorbar": {
              "outlinewidth": 0,
              "ticks": ""
             }
            },
            "type": "scatter3d"
           }
          ],
          "scattercarpet": [
           {
            "marker": {
             "colorbar": {
              "outlinewidth": 0,
              "ticks": ""
             }
            },
            "type": "scattercarpet"
           }
          ],
          "scattergeo": [
           {
            "marker": {
             "colorbar": {
              "outlinewidth": 0,
              "ticks": ""
             }
            },
            "type": "scattergeo"
           }
          ],
          "scattergl": [
           {
            "marker": {
             "colorbar": {
              "outlinewidth": 0,
              "ticks": ""
             }
            },
            "type": "scattergl"
           }
          ],
          "scattermapbox": [
           {
            "marker": {
             "colorbar": {
              "outlinewidth": 0,
              "ticks": ""
             }
            },
            "type": "scattermapbox"
           }
          ],
          "scatterpolar": [
           {
            "marker": {
             "colorbar": {
              "outlinewidth": 0,
              "ticks": ""
             }
            },
            "type": "scatterpolar"
           }
          ],
          "scatterpolargl": [
           {
            "marker": {
             "colorbar": {
              "outlinewidth": 0,
              "ticks": ""
             }
            },
            "type": "scatterpolargl"
           }
          ],
          "scatterternary": [
           {
            "marker": {
             "colorbar": {
              "outlinewidth": 0,
              "ticks": ""
             }
            },
            "type": "scatterternary"
           }
          ],
          "surface": [
           {
            "colorbar": {
             "outlinewidth": 0,
             "ticks": ""
            },
            "colorscale": [
             [
              0,
              "#0d0887"
             ],
             [
              0.1111111111111111,
              "#46039f"
             ],
             [
              0.2222222222222222,
              "#7201a8"
             ],
             [
              0.3333333333333333,
              "#9c179e"
             ],
             [
              0.4444444444444444,
              "#bd3786"
             ],
             [
              0.5555555555555556,
              "#d8576b"
             ],
             [
              0.6666666666666666,
              "#ed7953"
             ],
             [
              0.7777777777777778,
              "#fb9f3a"
             ],
             [
              0.8888888888888888,
              "#fdca26"
             ],
             [
              1,
              "#f0f921"
             ]
            ],
            "type": "surface"
           }
          ],
          "table": [
           {
            "cells": {
             "fill": {
              "color": "#EBF0F8"
             },
             "line": {
              "color": "white"
             }
            },
            "header": {
             "fill": {
              "color": "#C8D4E3"
             },
             "line": {
              "color": "white"
             }
            },
            "type": "table"
           }
          ]
         },
         "layout": {
          "annotationdefaults": {
           "arrowcolor": "#2a3f5f",
           "arrowhead": 0,
           "arrowwidth": 1
          },
          "autotypenumbers": "strict",
          "coloraxis": {
           "colorbar": {
            "outlinewidth": 0,
            "ticks": ""
           }
          },
          "colorscale": {
           "diverging": [
            [
             0,
             "#8e0152"
            ],
            [
             0.1,
             "#c51b7d"
            ],
            [
             0.2,
             "#de77ae"
            ],
            [
             0.3,
             "#f1b6da"
            ],
            [
             0.4,
             "#fde0ef"
            ],
            [
             0.5,
             "#f7f7f7"
            ],
            [
             0.6,
             "#e6f5d0"
            ],
            [
             0.7,
             "#b8e186"
            ],
            [
             0.8,
             "#7fbc41"
            ],
            [
             0.9,
             "#4d9221"
            ],
            [
             1,
             "#276419"
            ]
           ],
           "sequential": [
            [
             0,
             "#0d0887"
            ],
            [
             0.1111111111111111,
             "#46039f"
            ],
            [
             0.2222222222222222,
             "#7201a8"
            ],
            [
             0.3333333333333333,
             "#9c179e"
            ],
            [
             0.4444444444444444,
             "#bd3786"
            ],
            [
             0.5555555555555556,
             "#d8576b"
            ],
            [
             0.6666666666666666,
             "#ed7953"
            ],
            [
             0.7777777777777778,
             "#fb9f3a"
            ],
            [
             0.8888888888888888,
             "#fdca26"
            ],
            [
             1,
             "#f0f921"
            ]
           ],
           "sequentialminus": [
            [
             0,
             "#0d0887"
            ],
            [
             0.1111111111111111,
             "#46039f"
            ],
            [
             0.2222222222222222,
             "#7201a8"
            ],
            [
             0.3333333333333333,
             "#9c179e"
            ],
            [
             0.4444444444444444,
             "#bd3786"
            ],
            [
             0.5555555555555556,
             "#d8576b"
            ],
            [
             0.6666666666666666,
             "#ed7953"
            ],
            [
             0.7777777777777778,
             "#fb9f3a"
            ],
            [
             0.8888888888888888,
             "#fdca26"
            ],
            [
             1,
             "#f0f921"
            ]
           ]
          },
          "colorway": [
           "#636efa",
           "#EF553B",
           "#00cc96",
           "#ab63fa",
           "#FFA15A",
           "#19d3f3",
           "#FF6692",
           "#B6E880",
           "#FF97FF",
           "#FECB52"
          ],
          "font": {
           "color": "#2a3f5f"
          },
          "geo": {
           "bgcolor": "white",
           "lakecolor": "white",
           "landcolor": "#E5ECF6",
           "showlakes": true,
           "showland": true,
           "subunitcolor": "white"
          },
          "hoverlabel": {
           "align": "left"
          },
          "hovermode": "closest",
          "mapbox": {
           "style": "light"
          },
          "paper_bgcolor": "white",
          "plot_bgcolor": "#E5ECF6",
          "polar": {
           "angularaxis": {
            "gridcolor": "white",
            "linecolor": "white",
            "ticks": ""
           },
           "bgcolor": "#E5ECF6",
           "radialaxis": {
            "gridcolor": "white",
            "linecolor": "white",
            "ticks": ""
           }
          },
          "scene": {
           "xaxis": {
            "backgroundcolor": "#E5ECF6",
            "gridcolor": "white",
            "gridwidth": 2,
            "linecolor": "white",
            "showbackground": true,
            "ticks": "",
            "zerolinecolor": "white"
           },
           "yaxis": {
            "backgroundcolor": "#E5ECF6",
            "gridcolor": "white",
            "gridwidth": 2,
            "linecolor": "white",
            "showbackground": true,
            "ticks": "",
            "zerolinecolor": "white"
           },
           "zaxis": {
            "backgroundcolor": "#E5ECF6",
            "gridcolor": "white",
            "gridwidth": 2,
            "linecolor": "white",
            "showbackground": true,
            "ticks": "",
            "zerolinecolor": "white"
           }
          },
          "shapedefaults": {
           "line": {
            "color": "#2a3f5f"
           }
          },
          "ternary": {
           "aaxis": {
            "gridcolor": "white",
            "linecolor": "white",
            "ticks": ""
           },
           "baxis": {
            "gridcolor": "white",
            "linecolor": "white",
            "ticks": ""
           },
           "bgcolor": "#E5ECF6",
           "caxis": {
            "gridcolor": "white",
            "linecolor": "white",
            "ticks": ""
           }
          },
          "title": {
           "x": 0.05
          },
          "xaxis": {
           "automargin": true,
           "gridcolor": "white",
           "linecolor": "white",
           "ticks": "",
           "title": {
            "standoff": 15
           },
           "zerolinecolor": "white",
           "zerolinewidth": 2
          },
          "yaxis": {
           "automargin": true,
           "gridcolor": "white",
           "linecolor": "white",
           "ticks": "",
           "title": {
            "standoff": 15
           },
           "zerolinecolor": "white",
           "zerolinewidth": 2
          }
         }
        },
        "title": {
         "text": "Средний модуль разности значений ф-й в опт.точке с решением солвера в зависимости от размерности переменной"
        },
        "xaxis": {
         "title": {
          "text": "Размерность"
         }
        },
        "yaxis": {
         "title": {
          "text": "Средний модуль разности значений ф-й в опт.точке"
         }
        }
       }
      }
     },
     "metadata": {},
     "output_type": "display_data"
    }
   ],
   "source": [
    "fig = go.Figure()\n",
    "fig2 = go.Figure()\n",
    "fig3 = go.Figure()\n",
    "\n",
    "fig.add_trace(go.Scatter(x=res_data[\"dim\"], y=res_data[\"newton_t_mean\"],mode=\"lines+markers\", name=\"primal\", line_shape='linear'))\n",
    "fig.add_trace(go.Scatter(x=res_data[\"dim\"], y=res_data[\"dual_newton_t_mean\"],mode=\"lines+markers\", name=\"dual\", line_shape='linear'))\n",
    "\n",
    "fig2.add_trace(go.Scatter(x=res_data[\"dim\"], y=res_data[\"iter_num_mean\"],mode=\"lines+markers\", name=\"primal\", line_shape='linear'))\n",
    "fig2.add_trace(go.Scatter(x=res_data[\"dim\"], y=res_data[\"dual_iter_num_mean\"],mode=\"lines+markers\", name=\"dual\", line_shape='linear'))\n",
    "\n",
    "fig3.add_trace(go.Scatter(x=res_data[\"dim\"], y=res_data[\"primal_diff_mean\"],mode=\"lines+markers\", name=\"primal\", line_shape='linear'))\n",
    "fig3.add_trace(go.Scatter(x=res_data[\"dim\"], y=res_data[\"dual_diff_mean\"],mode=\"lines+markers\", name=\"dual\", line_shape='linear'))\n",
    "\n",
    "fig.update_layout(\n",
    "    title=\"Среднее время в зависимости от размерности переменной\",\n",
    "    xaxis_title=\"Размерность\",\n",
    "    yaxis_title=\"Среднее время\",\n",
    "    showlegend=True\n",
    ")\n",
    "fig2.update_layout(\n",
    "    title=\"Среднее число итераций для достижения сходимости в зависимости от размерности переменной\",\n",
    "    xaxis_title=\"Размерность\",\n",
    "    yaxis_title=\"Среднее число итераций\",\n",
    "    showlegend=True\n",
    ")\n",
    "fig3.update_layout(\n",
    "    title=\"Средний модуль разности значений ф-й в опт.точке с решением солвера в зависимости от размерности переменной\",\n",
    "    xaxis_title=\"Размерность\",\n",
    "    yaxis_title=\"Средний модуль разности значений ф-й в опт.точке\",\n",
    "    showlegend=True\n",
    ")\n",
    "fig.show()\n",
    "fig2.show()\n",
    "fig3.show()"
   ]
  },
  {
   "cell_type": "code",
   "execution_count": 28,
   "id": "9b7ee95a",
   "metadata": {},
   "outputs": [
    {
     "data": {
      "application/vnd.plotly.v1+json": {
       "config": {
        "plotlyServerURL": "https://plot.ly"
       },
       "data": [
        {
         "line": {
          "color": "blue"
         },
         "name": "primal",
         "showlegend": true,
         "type": "scatter",
         "xaxis": "x",
         "y": [
          45.11755643793697,
          42.57309775434784,
          42.34355312319782
         ],
         "yaxis": "y"
        },
        {
         "line": {
          "color": "red"
         },
         "name": "dual",
         "showlegend": true,
         "type": "scatter",
         "xaxis": "x",
         "y": [
          19.168937975246322,
          34.359285865924946,
          41.53573208948658,
          42.33251481553182
         ],
         "yaxis": "y"
        },
        {
         "line": {
          "color": "green",
          "dash": "dash"
         },
         "name": "solver",
         "showlegend": true,
         "type": "scatter",
         "x": [
          0,
          3
         ],
         "xaxis": "x",
         "y": [
          42.34020652246437,
          42.34020652246437
         ],
         "yaxis": "y"
        },
        {
         "line": {
          "color": "blue"
         },
         "name": "primal",
         "showlegend": false,
         "type": "scatter",
         "xaxis": "x2",
         "y": [
          45.11755643793697,
          42.57309775434784,
          42.34355312319782
         ],
         "yaxis": "y2"
        },
        {
         "line": {
          "color": "red"
         },
         "name": "dual",
         "showlegend": false,
         "type": "scatter",
         "xaxis": "x2",
         "y": [
          19.168937975246322,
          34.359285865924946,
          41.53573208948658,
          42.33251481553182
         ],
         "yaxis": "y2"
        },
        {
         "line": {
          "color": "green",
          "dash": "dash"
         },
         "name": "solver",
         "showlegend": false,
         "type": "scatter",
         "x": [
          0,
          3
         ],
         "xaxis": "x2",
         "y": [
          42.34020652246437,
          42.34020652246437
         ],
         "yaxis": "y2"
        },
        {
         "line": {
          "color": "blue"
         },
         "name": "primal",
         "showlegend": false,
         "type": "scatter",
         "xaxis": "x3",
         "y": [
          45.16844376086359,
          42.57645691184575,
          42.34364009103594
         ],
         "yaxis": "y3"
        },
        {
         "line": {
          "color": "red"
         },
         "name": "dual",
         "showlegend": false,
         "type": "scatter",
         "xaxis": "x3",
         "y": [
          12.87489809087175,
          28.20191845737227,
          39.66168713419872,
          42.25363691783545,
          42.340117726128796
         ],
         "yaxis": "y3"
        },
        {
         "line": {
          "color": "green",
          "dash": "dash"
         },
         "name": "solver",
         "showlegend": false,
         "type": "scatter",
         "x": [
          0,
          4
         ],
         "xaxis": "x3",
         "y": [
          42.34020652246437,
          42.34020652246437
         ],
         "yaxis": "y3"
        },
        {
         "line": {
          "color": "blue"
         },
         "name": "primal",
         "showlegend": false,
         "type": "scatter",
         "xaxis": "x4",
         "y": [
          45.16844376086359,
          42.57645691184575,
          42.34364009103594
         ],
         "yaxis": "y4"
        },
        {
         "line": {
          "color": "red"
         },
         "name": "dual",
         "showlegend": false,
         "type": "scatter",
         "xaxis": "x4",
         "y": [
          12.87489809087175,
          28.20191845737227,
          39.66168713419872,
          42.25363691783545,
          42.340117726128796
         ],
         "yaxis": "y4"
        },
        {
         "line": {
          "color": "green",
          "dash": "dash"
         },
         "name": "solver",
         "showlegend": false,
         "type": "scatter",
         "x": [
          0,
          4
         ],
         "xaxis": "x4",
         "y": [
          42.34020652246437,
          42.34020652246437
         ],
         "yaxis": "y4"
        },
        {
         "line": {
          "color": "blue"
         },
         "name": "primal",
         "showlegend": false,
         "type": "scatter",
         "xaxis": "x5",
         "y": [
          44.83439952936217,
          42.52207887563655,
          42.34230900330775
         ],
         "yaxis": "y5"
        },
        {
         "line": {
          "color": "red"
         },
         "name": "dual",
         "showlegend": false,
         "type": "scatter",
         "xaxis": "x5",
         "y": [
          13.584333378937625,
          29.027274796387214,
          39.98510701551089,
          42.27345779590887,
          42.34015364546667
         ],
         "yaxis": "y5"
        },
        {
         "line": {
          "color": "green",
          "dash": "dash"
         },
         "name": "solver",
         "showlegend": false,
         "type": "scatter",
         "x": [
          0,
          4
         ],
         "xaxis": "x5",
         "y": [
          42.34020652246437,
          42.34020652246437
         ],
         "yaxis": "y5"
        },
        {
         "line": {
          "color": "blue"
         },
         "name": "primal",
         "showlegend": false,
         "type": "scatter",
         "xaxis": "x6",
         "y": [
          44.83439952936217,
          42.52207887563655,
          42.34230900330775
         ],
         "yaxis": "y6"
        },
        {
         "line": {
          "color": "red"
         },
         "name": "dual",
         "showlegend": false,
         "type": "scatter",
         "xaxis": "x6",
         "y": [
          13.584333378937625,
          29.027274796387214,
          39.98510701551089,
          42.27345779590887,
          42.34015364546667
         ],
         "yaxis": "y6"
        },
        {
         "line": {
          "color": "green",
          "dash": "dash"
         },
         "name": "solver",
         "showlegend": false,
         "type": "scatter",
         "x": [
          0,
          4
         ],
         "xaxis": "x6",
         "y": [
          42.34020652246437,
          42.34020652246437
         ],
         "yaxis": "y6"
        }
       ],
       "layout": {
        "height": 800,
        "legend": {
         "title": {
          "text": "Метод"
         }
        },
        "template": {
         "data": {
          "bar": [
           {
            "error_x": {
             "color": "#2a3f5f"
            },
            "error_y": {
             "color": "#2a3f5f"
            },
            "marker": {
             "line": {
              "color": "#E5ECF6",
              "width": 0.5
             },
             "pattern": {
              "fillmode": "overlay",
              "size": 10,
              "solidity": 0.2
             }
            },
            "type": "bar"
           }
          ],
          "barpolar": [
           {
            "marker": {
             "line": {
              "color": "#E5ECF6",
              "width": 0.5
             },
             "pattern": {
              "fillmode": "overlay",
              "size": 10,
              "solidity": 0.2
             }
            },
            "type": "barpolar"
           }
          ],
          "carpet": [
           {
            "aaxis": {
             "endlinecolor": "#2a3f5f",
             "gridcolor": "white",
             "linecolor": "white",
             "minorgridcolor": "white",
             "startlinecolor": "#2a3f5f"
            },
            "baxis": {
             "endlinecolor": "#2a3f5f",
             "gridcolor": "white",
             "linecolor": "white",
             "minorgridcolor": "white",
             "startlinecolor": "#2a3f5f"
            },
            "type": "carpet"
           }
          ],
          "choropleth": [
           {
            "colorbar": {
             "outlinewidth": 0,
             "ticks": ""
            },
            "type": "choropleth"
           }
          ],
          "contour": [
           {
            "colorbar": {
             "outlinewidth": 0,
             "ticks": ""
            },
            "colorscale": [
             [
              0,
              "#0d0887"
             ],
             [
              0.1111111111111111,
              "#46039f"
             ],
             [
              0.2222222222222222,
              "#7201a8"
             ],
             [
              0.3333333333333333,
              "#9c179e"
             ],
             [
              0.4444444444444444,
              "#bd3786"
             ],
             [
              0.5555555555555556,
              "#d8576b"
             ],
             [
              0.6666666666666666,
              "#ed7953"
             ],
             [
              0.7777777777777778,
              "#fb9f3a"
             ],
             [
              0.8888888888888888,
              "#fdca26"
             ],
             [
              1,
              "#f0f921"
             ]
            ],
            "type": "contour"
           }
          ],
          "contourcarpet": [
           {
            "colorbar": {
             "outlinewidth": 0,
             "ticks": ""
            },
            "type": "contourcarpet"
           }
          ],
          "heatmap": [
           {
            "colorbar": {
             "outlinewidth": 0,
             "ticks": ""
            },
            "colorscale": [
             [
              0,
              "#0d0887"
             ],
             [
              0.1111111111111111,
              "#46039f"
             ],
             [
              0.2222222222222222,
              "#7201a8"
             ],
             [
              0.3333333333333333,
              "#9c179e"
             ],
             [
              0.4444444444444444,
              "#bd3786"
             ],
             [
              0.5555555555555556,
              "#d8576b"
             ],
             [
              0.6666666666666666,
              "#ed7953"
             ],
             [
              0.7777777777777778,
              "#fb9f3a"
             ],
             [
              0.8888888888888888,
              "#fdca26"
             ],
             [
              1,
              "#f0f921"
             ]
            ],
            "type": "heatmap"
           }
          ],
          "heatmapgl": [
           {
            "colorbar": {
             "outlinewidth": 0,
             "ticks": ""
            },
            "colorscale": [
             [
              0,
              "#0d0887"
             ],
             [
              0.1111111111111111,
              "#46039f"
             ],
             [
              0.2222222222222222,
              "#7201a8"
             ],
             [
              0.3333333333333333,
              "#9c179e"
             ],
             [
              0.4444444444444444,
              "#bd3786"
             ],
             [
              0.5555555555555556,
              "#d8576b"
             ],
             [
              0.6666666666666666,
              "#ed7953"
             ],
             [
              0.7777777777777778,
              "#fb9f3a"
             ],
             [
              0.8888888888888888,
              "#fdca26"
             ],
             [
              1,
              "#f0f921"
             ]
            ],
            "type": "heatmapgl"
           }
          ],
          "histogram": [
           {
            "marker": {
             "pattern": {
              "fillmode": "overlay",
              "size": 10,
              "solidity": 0.2
             }
            },
            "type": "histogram"
           }
          ],
          "histogram2d": [
           {
            "colorbar": {
             "outlinewidth": 0,
             "ticks": ""
            },
            "colorscale": [
             [
              0,
              "#0d0887"
             ],
             [
              0.1111111111111111,
              "#46039f"
             ],
             [
              0.2222222222222222,
              "#7201a8"
             ],
             [
              0.3333333333333333,
              "#9c179e"
             ],
             [
              0.4444444444444444,
              "#bd3786"
             ],
             [
              0.5555555555555556,
              "#d8576b"
             ],
             [
              0.6666666666666666,
              "#ed7953"
             ],
             [
              0.7777777777777778,
              "#fb9f3a"
             ],
             [
              0.8888888888888888,
              "#fdca26"
             ],
             [
              1,
              "#f0f921"
             ]
            ],
            "type": "histogram2d"
           }
          ],
          "histogram2dcontour": [
           {
            "colorbar": {
             "outlinewidth": 0,
             "ticks": ""
            },
            "colorscale": [
             [
              0,
              "#0d0887"
             ],
             [
              0.1111111111111111,
              "#46039f"
             ],
             [
              0.2222222222222222,
              "#7201a8"
             ],
             [
              0.3333333333333333,
              "#9c179e"
             ],
             [
              0.4444444444444444,
              "#bd3786"
             ],
             [
              0.5555555555555556,
              "#d8576b"
             ],
             [
              0.6666666666666666,
              "#ed7953"
             ],
             [
              0.7777777777777778,
              "#fb9f3a"
             ],
             [
              0.8888888888888888,
              "#fdca26"
             ],
             [
              1,
              "#f0f921"
             ]
            ],
            "type": "histogram2dcontour"
           }
          ],
          "mesh3d": [
           {
            "colorbar": {
             "outlinewidth": 0,
             "ticks": ""
            },
            "type": "mesh3d"
           }
          ],
          "parcoords": [
           {
            "line": {
             "colorbar": {
              "outlinewidth": 0,
              "ticks": ""
             }
            },
            "type": "parcoords"
           }
          ],
          "pie": [
           {
            "automargin": true,
            "type": "pie"
           }
          ],
          "scatter": [
           {
            "fillpattern": {
             "fillmode": "overlay",
             "size": 10,
             "solidity": 0.2
            },
            "type": "scatter"
           }
          ],
          "scatter3d": [
           {
            "line": {
             "colorbar": {
              "outlinewidth": 0,
              "ticks": ""
             }
            },
            "marker": {
             "colorbar": {
              "outlinewidth": 0,
              "ticks": ""
             }
            },
            "type": "scatter3d"
           }
          ],
          "scattercarpet": [
           {
            "marker": {
             "colorbar": {
              "outlinewidth": 0,
              "ticks": ""
             }
            },
            "type": "scattercarpet"
           }
          ],
          "scattergeo": [
           {
            "marker": {
             "colorbar": {
              "outlinewidth": 0,
              "ticks": ""
             }
            },
            "type": "scattergeo"
           }
          ],
          "scattergl": [
           {
            "marker": {
             "colorbar": {
              "outlinewidth": 0,
              "ticks": ""
             }
            },
            "type": "scattergl"
           }
          ],
          "scattermapbox": [
           {
            "marker": {
             "colorbar": {
              "outlinewidth": 0,
              "ticks": ""
             }
            },
            "type": "scattermapbox"
           }
          ],
          "scatterpolar": [
           {
            "marker": {
             "colorbar": {
              "outlinewidth": 0,
              "ticks": ""
             }
            },
            "type": "scatterpolar"
           }
          ],
          "scatterpolargl": [
           {
            "marker": {
             "colorbar": {
              "outlinewidth": 0,
              "ticks": ""
             }
            },
            "type": "scatterpolargl"
           }
          ],
          "scatterternary": [
           {
            "marker": {
             "colorbar": {
              "outlinewidth": 0,
              "ticks": ""
             }
            },
            "type": "scatterternary"
           }
          ],
          "surface": [
           {
            "colorbar": {
             "outlinewidth": 0,
             "ticks": ""
            },
            "colorscale": [
             [
              0,
              "#0d0887"
             ],
             [
              0.1111111111111111,
              "#46039f"
             ],
             [
              0.2222222222222222,
              "#7201a8"
             ],
             [
              0.3333333333333333,
              "#9c179e"
             ],
             [
              0.4444444444444444,
              "#bd3786"
             ],
             [
              0.5555555555555556,
              "#d8576b"
             ],
             [
              0.6666666666666666,
              "#ed7953"
             ],
             [
              0.7777777777777778,
              "#fb9f3a"
             ],
             [
              0.8888888888888888,
              "#fdca26"
             ],
             [
              1,
              "#f0f921"
             ]
            ],
            "type": "surface"
           }
          ],
          "table": [
           {
            "cells": {
             "fill": {
              "color": "#EBF0F8"
             },
             "line": {
              "color": "white"
             }
            },
            "header": {
             "fill": {
              "color": "#C8D4E3"
             },
             "line": {
              "color": "white"
             }
            },
            "type": "table"
           }
          ]
         },
         "layout": {
          "annotationdefaults": {
           "arrowcolor": "#2a3f5f",
           "arrowhead": 0,
           "arrowwidth": 1
          },
          "autotypenumbers": "strict",
          "coloraxis": {
           "colorbar": {
            "outlinewidth": 0,
            "ticks": ""
           }
          },
          "colorscale": {
           "diverging": [
            [
             0,
             "#8e0152"
            ],
            [
             0.1,
             "#c51b7d"
            ],
            [
             0.2,
             "#de77ae"
            ],
            [
             0.3,
             "#f1b6da"
            ],
            [
             0.4,
             "#fde0ef"
            ],
            [
             0.5,
             "#f7f7f7"
            ],
            [
             0.6,
             "#e6f5d0"
            ],
            [
             0.7,
             "#b8e186"
            ],
            [
             0.8,
             "#7fbc41"
            ],
            [
             0.9,
             "#4d9221"
            ],
            [
             1,
             "#276419"
            ]
           ],
           "sequential": [
            [
             0,
             "#0d0887"
            ],
            [
             0.1111111111111111,
             "#46039f"
            ],
            [
             0.2222222222222222,
             "#7201a8"
            ],
            [
             0.3333333333333333,
             "#9c179e"
            ],
            [
             0.4444444444444444,
             "#bd3786"
            ],
            [
             0.5555555555555556,
             "#d8576b"
            ],
            [
             0.6666666666666666,
             "#ed7953"
            ],
            [
             0.7777777777777778,
             "#fb9f3a"
            ],
            [
             0.8888888888888888,
             "#fdca26"
            ],
            [
             1,
             "#f0f921"
            ]
           ],
           "sequentialminus": [
            [
             0,
             "#0d0887"
            ],
            [
             0.1111111111111111,
             "#46039f"
            ],
            [
             0.2222222222222222,
             "#7201a8"
            ],
            [
             0.3333333333333333,
             "#9c179e"
            ],
            [
             0.4444444444444444,
             "#bd3786"
            ],
            [
             0.5555555555555556,
             "#d8576b"
            ],
            [
             0.6666666666666666,
             "#ed7953"
            ],
            [
             0.7777777777777778,
             "#fb9f3a"
            ],
            [
             0.8888888888888888,
             "#fdca26"
            ],
            [
             1,
             "#f0f921"
            ]
           ]
          },
          "colorway": [
           "#636efa",
           "#EF553B",
           "#00cc96",
           "#ab63fa",
           "#FFA15A",
           "#19d3f3",
           "#FF6692",
           "#B6E880",
           "#FF97FF",
           "#FECB52"
          ],
          "font": {
           "color": "#2a3f5f"
          },
          "geo": {
           "bgcolor": "white",
           "lakecolor": "white",
           "landcolor": "#E5ECF6",
           "showlakes": true,
           "showland": true,
           "subunitcolor": "white"
          },
          "hoverlabel": {
           "align": "left"
          },
          "hovermode": "closest",
          "mapbox": {
           "style": "light"
          },
          "paper_bgcolor": "white",
          "plot_bgcolor": "#E5ECF6",
          "polar": {
           "angularaxis": {
            "gridcolor": "white",
            "linecolor": "white",
            "ticks": ""
           },
           "bgcolor": "#E5ECF6",
           "radialaxis": {
            "gridcolor": "white",
            "linecolor": "white",
            "ticks": ""
           }
          },
          "scene": {
           "xaxis": {
            "backgroundcolor": "#E5ECF6",
            "gridcolor": "white",
            "gridwidth": 2,
            "linecolor": "white",
            "showbackground": true,
            "ticks": "",
            "zerolinecolor": "white"
           },
           "yaxis": {
            "backgroundcolor": "#E5ECF6",
            "gridcolor": "white",
            "gridwidth": 2,
            "linecolor": "white",
            "showbackground": true,
            "ticks": "",
            "zerolinecolor": "white"
           },
           "zaxis": {
            "backgroundcolor": "#E5ECF6",
            "gridcolor": "white",
            "gridwidth": 2,
            "linecolor": "white",
            "showbackground": true,
            "ticks": "",
            "zerolinecolor": "white"
           }
          },
          "shapedefaults": {
           "line": {
            "color": "#2a3f5f"
           }
          },
          "ternary": {
           "aaxis": {
            "gridcolor": "white",
            "linecolor": "white",
            "ticks": ""
           },
           "baxis": {
            "gridcolor": "white",
            "linecolor": "white",
            "ticks": ""
           },
           "bgcolor": "#E5ECF6",
           "caxis": {
            "gridcolor": "white",
            "linecolor": "white",
            "ticks": ""
           }
          },
          "title": {
           "x": 0.05
          },
          "xaxis": {
           "automargin": true,
           "gridcolor": "white",
           "linecolor": "white",
           "ticks": "",
           "title": {
            "standoff": 15
           },
           "zerolinecolor": "white",
           "zerolinewidth": 2
          },
          "yaxis": {
           "automargin": true,
           "gridcolor": "white",
           "linecolor": "white",
           "ticks": "",
           "title": {
            "standoff": 15
           },
           "zerolinecolor": "white",
           "zerolinewidth": 2
          }
         }
        },
        "title": {
         "text": "Зависимость от начального решения при размерности 10"
        },
        "width": 1500,
        "xaxis": {
         "anchor": "y",
         "domain": [
          0,
          0.49
         ],
         "title": {
          "font": {
           "size": 10
          },
          "text": "Номер итерации"
         }
        },
        "xaxis2": {
         "anchor": "y2",
         "domain": [
          0.51,
          1
         ],
         "title": {
          "font": {
           "size": 10
          },
          "text": "Номер итерации"
         }
        },
        "xaxis3": {
         "anchor": "y3",
         "domain": [
          0,
          0.49
         ],
         "title": {
          "font": {
           "size": 10
          },
          "text": "Номер итерации"
         }
        },
        "xaxis4": {
         "anchor": "y4",
         "domain": [
          0.51,
          1
         ],
         "title": {
          "font": {
           "size": 10
          },
          "text": "Номер итерации"
         }
        },
        "xaxis5": {
         "anchor": "y5",
         "domain": [
          0,
          0.49
         ],
         "title": {
          "font": {
           "size": 10
          },
          "text": "Номер итерации"
         }
        },
        "xaxis6": {
         "anchor": "y6",
         "domain": [
          0.51,
          1
         ],
         "title": {
          "font": {
           "size": 10
          },
          "text": "Номер итерации"
         }
        },
        "yaxis": {
         "anchor": "x",
         "domain": [
          0.7333333333333334,
          1
         ],
         "title": {
          "font": {
           "size": 10
          },
          "text": "f(x)"
         }
        },
        "yaxis2": {
         "anchor": "x2",
         "domain": [
          0.7333333333333334,
          1
         ],
         "title": {
          "font": {
           "size": 10
          },
          "text": "f(x)"
         }
        },
        "yaxis3": {
         "anchor": "x3",
         "domain": [
          0.3666666666666667,
          0.6333333333333333
         ],
         "title": {
          "font": {
           "size": 10
          },
          "text": "f(x)"
         }
        },
        "yaxis4": {
         "anchor": "x4",
         "domain": [
          0.3666666666666667,
          0.6333333333333333
         ],
         "title": {
          "font": {
           "size": 10
          },
          "text": "f(x)"
         }
        },
        "yaxis5": {
         "anchor": "x5",
         "domain": [
          0,
          0.26666666666666666
         ],
         "title": {
          "font": {
           "size": 10
          },
          "text": "f(x)"
         }
        },
        "yaxis6": {
         "anchor": "x6",
         "domain": [
          0,
          0.26666666666666666
         ],
         "title": {
          "font": {
           "size": 10
          },
          "text": "f(x)"
         }
        }
       }
      }
     },
     "metadata": {},
     "output_type": "display_data"
    }
   ],
   "source": [
    "def comp_plot(dim=10):\n",
    "\n",
    "    init_comp_data = raw_experiment_sheet.filter(pl.col(\"dim\") == dim).limit(6).to_pandas().reset_index()\n",
    "\n",
    "    fig = make_subplots(rows=3, cols=2, vertical_spacing=0.1, horizontal_spacing=0.02)\n",
    "\n",
    "    for row in range(1, 4):\n",
    "        for col in range(1, 3):\n",
    "            show_legend = False\n",
    "            if row == 1 and col == 1:\n",
    "                show_legend = True\n",
    "\n",
    "            primal = init_comp_data.loc[row, \"newton_hist_y\"]\n",
    "            dual = init_comp_data.loc[row, \"dual_newton_hist_y\"]\n",
    "            s = init_comp_data.loc[row, \"cvxpy_y\"]\n",
    "\n",
    "            fig.add_scatter(y=primal, row=row, col=col, name=\"primal\", line=dict(color=\"blue\"), showlegend=show_legend)\n",
    "            fig.add_scatter(y=dual, row=row, col=col, name=\"dual\", line=dict(color=\"red\"), showlegend=show_legend)\n",
    "            \n",
    "            fig.add_scatter(x=[0, max(len(primal), len(dual)) - 1], y=[s, s], \n",
    "                            line=dict(dash=\"dash\", color=\"green\"), name=\"solver\", showlegend=show_legend, row=row, col=col)\n",
    "            \n",
    "\n",
    "            fig.update_xaxes(title_text=\"Номер итерации\", row=row, col=col, title_font=dict(size=10))\n",
    "            fig.update_yaxes(title_text=\"f(x)\", row=row, col=col, title_font=dict(size=10))\n",
    "\n",
    "    fig.update_layout(\n",
    "        title_text=f\"Зависимость от начального решения при размерности {dim}\",\n",
    "        legend_title=\"Метод\",\n",
    "        width=1500,     \n",
    "        height=800, \n",
    "        )\n",
    "    fig.show()\n",
    "\n",
    "comp_plot(dim=10)"
   ]
  },
  {
   "cell_type": "code",
   "execution_count": 29,
   "id": "09069fea",
   "metadata": {},
   "outputs": [
    {
     "data": {
      "application/vnd.plotly.v1+json": {
       "config": {
        "plotlyServerURL": "https://plot.ly"
       },
       "data": [
        {
         "line": {
          "color": "blue"
         },
         "name": "primal",
         "showlegend": true,
         "type": "scatter",
         "xaxis": "x",
         "y": [
          20854.655158278474,
          7782.839040043743,
          2978.2680915481337,
          1213.2133016320624,
          566.3001988830587,
          330.758260269067,
          246.5483573785783,
          217.91675129612798,
          209.42182209207976,
          207.65684951621546,
          207.5020205714606
         ],
         "yaxis": "y"
        },
        {
         "line": {
          "color": "red"
         },
         "name": "dual",
         "showlegend": true,
         "type": "scatter",
         "xaxis": "x",
         "y": [
          71.53449136289585,
          147.71526506078771,
          197.91553440131946,
          207.2751622114934,
          207.4998838777065
         ],
         "yaxis": "y"
        },
        {
         "line": {
          "color": "green",
          "dash": "dash"
         },
         "name": "solver",
         "showlegend": true,
         "type": "scatter",
         "x": [
          0,
          10
         ],
         "xaxis": "x",
         "y": [
          207.5000060023575,
          207.5000060023575
         ],
         "yaxis": "y"
        },
        {
         "line": {
          "color": "blue"
         },
         "name": "primal",
         "showlegend": false,
         "type": "scatter",
         "xaxis": "x2",
         "y": [
          20854.655158278474,
          7782.839040043743,
          2978.2680915481337,
          1213.2133016320624,
          566.3001988830587,
          330.758260269067,
          246.5483573785783,
          217.91675129612798,
          209.42182209207976,
          207.65684951621546,
          207.5020205714606
         ],
         "yaxis": "y2"
        },
        {
         "line": {
          "color": "red"
         },
         "name": "dual",
         "showlegend": false,
         "type": "scatter",
         "xaxis": "x2",
         "y": [
          71.53449136289585,
          147.71526506078771,
          197.91553440131946,
          207.2751622114934,
          207.4998838777065
         ],
         "yaxis": "y2"
        },
        {
         "line": {
          "color": "green",
          "dash": "dash"
         },
         "name": "solver",
         "showlegend": false,
         "type": "scatter",
         "x": [
          0,
          10
         ],
         "xaxis": "x2",
         "y": [
          207.5000060023575,
          207.5000060023575
         ],
         "yaxis": "y2"
        },
        {
         "line": {
          "color": "blue"
         },
         "name": "primal",
         "showlegend": false,
         "type": "scatter",
         "xaxis": "x3",
         "y": [
          9749.67855394251,
          3699.2630195516354,
          1477.8240713427342,
          663.0872464072984,
          365.80194458635924,
          258.8837053274207,
          221.93286656429953,
          210.476767944222,
          207.81176293000226,
          207.5070583997379
         ],
         "yaxis": "y3"
        },
        {
         "line": {
          "color": "red"
         },
         "name": "dual",
         "showlegend": false,
         "type": "scatter",
         "xaxis": "x3",
         "y": [
          57.72461101846312,
          131.5802347428371,
          191.51694637722107,
          206.8680005813684,
          207.49904227824393
         ],
         "yaxis": "y3"
        },
        {
         "line": {
          "color": "green",
          "dash": "dash"
         },
         "name": "solver",
         "showlegend": false,
         "type": "scatter",
         "x": [
          0,
          9
         ],
         "xaxis": "x3",
         "y": [
          207.5000060023575,
          207.5000060023575
         ],
         "yaxis": "y3"
        },
        {
         "line": {
          "color": "blue"
         },
         "name": "primal",
         "showlegend": false,
         "type": "scatter",
         "xaxis": "x4",
         "y": [
          9749.67855394251,
          3699.2630195516354,
          1477.8240713427342,
          663.0872464072984,
          365.80194458635924,
          258.8837053274207,
          221.93286656429953,
          210.476767944222,
          207.81176293000226,
          207.5070583997379
         ],
         "yaxis": "y4"
        },
        {
         "line": {
          "color": "red"
         },
         "name": "dual",
         "showlegend": false,
         "type": "scatter",
         "xaxis": "x4",
         "y": [
          57.72461101846312,
          131.5802347428371,
          191.51694637722107,
          206.8680005813684,
          207.49904227824393
         ],
         "yaxis": "y4"
        },
        {
         "line": {
          "color": "green",
          "dash": "dash"
         },
         "name": "solver",
         "showlegend": false,
         "type": "scatter",
         "x": [
          0,
          9
         ],
         "xaxis": "x4",
         "y": [
          207.5000060023575,
          207.5000060023575
         ],
         "yaxis": "y4"
        },
        {
         "line": {
          "color": "blue"
         },
         "name": "primal",
         "showlegend": false,
         "type": "scatter",
         "xaxis": "x5",
         "y": [
          9877.918969100003,
          3746.210781496812,
          1495.037945639525,
          669.3873001198116,
          368.08716317328475,
          259.6921652054854,
          222.19976456736848,
          210.54957756425586,
          207.82357188183624,
          207.50754525419654
         ],
         "yaxis": "y5"
        },
        {
         "line": {
          "color": "red"
         },
         "name": "dual",
         "showlegend": false,
         "type": "scatter",
         "xaxis": "x5",
         "y": [
          26.00882810041123,
          80.02124033556225,
          156.26862005768686,
          200.5793557178603,
          207.38329023546277,
          207.49997290859176
         ],
         "yaxis": "y5"
        },
        {
         "line": {
          "color": "green",
          "dash": "dash"
         },
         "name": "solver",
         "showlegend": false,
         "type": "scatter",
         "x": [
          0,
          9
         ],
         "xaxis": "x5",
         "y": [
          207.5000060023575,
          207.5000060023575
         ],
         "yaxis": "y5"
        },
        {
         "line": {
          "color": "blue"
         },
         "name": "primal",
         "showlegend": false,
         "type": "scatter",
         "xaxis": "x6",
         "y": [
          9877.918969100003,
          3746.210781496812,
          1495.037945639525,
          669.3873001198116,
          368.08716317328475,
          259.6921652054854,
          222.19976456736848,
          210.54957756425586,
          207.82357188183624,
          207.50754525419654
         ],
         "yaxis": "y6"
        },
        {
         "line": {
          "color": "red"
         },
         "name": "dual",
         "showlegend": false,
         "type": "scatter",
         "xaxis": "x6",
         "y": [
          26.00882810041123,
          80.02124033556225,
          156.26862005768686,
          200.5793557178603,
          207.38329023546277,
          207.49997290859176
         ],
         "yaxis": "y6"
        },
        {
         "line": {
          "color": "green",
          "dash": "dash"
         },
         "name": "solver",
         "showlegend": false,
         "type": "scatter",
         "x": [
          0,
          9
         ],
         "xaxis": "x6",
         "y": [
          207.5000060023575,
          207.5000060023575
         ],
         "yaxis": "y6"
        }
       ],
       "layout": {
        "height": 800,
        "legend": {
         "title": {
          "text": "Метод"
         }
        },
        "template": {
         "data": {
          "bar": [
           {
            "error_x": {
             "color": "#2a3f5f"
            },
            "error_y": {
             "color": "#2a3f5f"
            },
            "marker": {
             "line": {
              "color": "#E5ECF6",
              "width": 0.5
             },
             "pattern": {
              "fillmode": "overlay",
              "size": 10,
              "solidity": 0.2
             }
            },
            "type": "bar"
           }
          ],
          "barpolar": [
           {
            "marker": {
             "line": {
              "color": "#E5ECF6",
              "width": 0.5
             },
             "pattern": {
              "fillmode": "overlay",
              "size": 10,
              "solidity": 0.2
             }
            },
            "type": "barpolar"
           }
          ],
          "carpet": [
           {
            "aaxis": {
             "endlinecolor": "#2a3f5f",
             "gridcolor": "white",
             "linecolor": "white",
             "minorgridcolor": "white",
             "startlinecolor": "#2a3f5f"
            },
            "baxis": {
             "endlinecolor": "#2a3f5f",
             "gridcolor": "white",
             "linecolor": "white",
             "minorgridcolor": "white",
             "startlinecolor": "#2a3f5f"
            },
            "type": "carpet"
           }
          ],
          "choropleth": [
           {
            "colorbar": {
             "outlinewidth": 0,
             "ticks": ""
            },
            "type": "choropleth"
           }
          ],
          "contour": [
           {
            "colorbar": {
             "outlinewidth": 0,
             "ticks": ""
            },
            "colorscale": [
             [
              0,
              "#0d0887"
             ],
             [
              0.1111111111111111,
              "#46039f"
             ],
             [
              0.2222222222222222,
              "#7201a8"
             ],
             [
              0.3333333333333333,
              "#9c179e"
             ],
             [
              0.4444444444444444,
              "#bd3786"
             ],
             [
              0.5555555555555556,
              "#d8576b"
             ],
             [
              0.6666666666666666,
              "#ed7953"
             ],
             [
              0.7777777777777778,
              "#fb9f3a"
             ],
             [
              0.8888888888888888,
              "#fdca26"
             ],
             [
              1,
              "#f0f921"
             ]
            ],
            "type": "contour"
           }
          ],
          "contourcarpet": [
           {
            "colorbar": {
             "outlinewidth": 0,
             "ticks": ""
            },
            "type": "contourcarpet"
           }
          ],
          "heatmap": [
           {
            "colorbar": {
             "outlinewidth": 0,
             "ticks": ""
            },
            "colorscale": [
             [
              0,
              "#0d0887"
             ],
             [
              0.1111111111111111,
              "#46039f"
             ],
             [
              0.2222222222222222,
              "#7201a8"
             ],
             [
              0.3333333333333333,
              "#9c179e"
             ],
             [
              0.4444444444444444,
              "#bd3786"
             ],
             [
              0.5555555555555556,
              "#d8576b"
             ],
             [
              0.6666666666666666,
              "#ed7953"
             ],
             [
              0.7777777777777778,
              "#fb9f3a"
             ],
             [
              0.8888888888888888,
              "#fdca26"
             ],
             [
              1,
              "#f0f921"
             ]
            ],
            "type": "heatmap"
           }
          ],
          "heatmapgl": [
           {
            "colorbar": {
             "outlinewidth": 0,
             "ticks": ""
            },
            "colorscale": [
             [
              0,
              "#0d0887"
             ],
             [
              0.1111111111111111,
              "#46039f"
             ],
             [
              0.2222222222222222,
              "#7201a8"
             ],
             [
              0.3333333333333333,
              "#9c179e"
             ],
             [
              0.4444444444444444,
              "#bd3786"
             ],
             [
              0.5555555555555556,
              "#d8576b"
             ],
             [
              0.6666666666666666,
              "#ed7953"
             ],
             [
              0.7777777777777778,
              "#fb9f3a"
             ],
             [
              0.8888888888888888,
              "#fdca26"
             ],
             [
              1,
              "#f0f921"
             ]
            ],
            "type": "heatmapgl"
           }
          ],
          "histogram": [
           {
            "marker": {
             "pattern": {
              "fillmode": "overlay",
              "size": 10,
              "solidity": 0.2
             }
            },
            "type": "histogram"
           }
          ],
          "histogram2d": [
           {
            "colorbar": {
             "outlinewidth": 0,
             "ticks": ""
            },
            "colorscale": [
             [
              0,
              "#0d0887"
             ],
             [
              0.1111111111111111,
              "#46039f"
             ],
             [
              0.2222222222222222,
              "#7201a8"
             ],
             [
              0.3333333333333333,
              "#9c179e"
             ],
             [
              0.4444444444444444,
              "#bd3786"
             ],
             [
              0.5555555555555556,
              "#d8576b"
             ],
             [
              0.6666666666666666,
              "#ed7953"
             ],
             [
              0.7777777777777778,
              "#fb9f3a"
             ],
             [
              0.8888888888888888,
              "#fdca26"
             ],
             [
              1,
              "#f0f921"
             ]
            ],
            "type": "histogram2d"
           }
          ],
          "histogram2dcontour": [
           {
            "colorbar": {
             "outlinewidth": 0,
             "ticks": ""
            },
            "colorscale": [
             [
              0,
              "#0d0887"
             ],
             [
              0.1111111111111111,
              "#46039f"
             ],
             [
              0.2222222222222222,
              "#7201a8"
             ],
             [
              0.3333333333333333,
              "#9c179e"
             ],
             [
              0.4444444444444444,
              "#bd3786"
             ],
             [
              0.5555555555555556,
              "#d8576b"
             ],
             [
              0.6666666666666666,
              "#ed7953"
             ],
             [
              0.7777777777777778,
              "#fb9f3a"
             ],
             [
              0.8888888888888888,
              "#fdca26"
             ],
             [
              1,
              "#f0f921"
             ]
            ],
            "type": "histogram2dcontour"
           }
          ],
          "mesh3d": [
           {
            "colorbar": {
             "outlinewidth": 0,
             "ticks": ""
            },
            "type": "mesh3d"
           }
          ],
          "parcoords": [
           {
            "line": {
             "colorbar": {
              "outlinewidth": 0,
              "ticks": ""
             }
            },
            "type": "parcoords"
           }
          ],
          "pie": [
           {
            "automargin": true,
            "type": "pie"
           }
          ],
          "scatter": [
           {
            "fillpattern": {
             "fillmode": "overlay",
             "size": 10,
             "solidity": 0.2
            },
            "type": "scatter"
           }
          ],
          "scatter3d": [
           {
            "line": {
             "colorbar": {
              "outlinewidth": 0,
              "ticks": ""
             }
            },
            "marker": {
             "colorbar": {
              "outlinewidth": 0,
              "ticks": ""
             }
            },
            "type": "scatter3d"
           }
          ],
          "scattercarpet": [
           {
            "marker": {
             "colorbar": {
              "outlinewidth": 0,
              "ticks": ""
             }
            },
            "type": "scattercarpet"
           }
          ],
          "scattergeo": [
           {
            "marker": {
             "colorbar": {
              "outlinewidth": 0,
              "ticks": ""
             }
            },
            "type": "scattergeo"
           }
          ],
          "scattergl": [
           {
            "marker": {
             "colorbar": {
              "outlinewidth": 0,
              "ticks": ""
             }
            },
            "type": "scattergl"
           }
          ],
          "scattermapbox": [
           {
            "marker": {
             "colorbar": {
              "outlinewidth": 0,
              "ticks": ""
             }
            },
            "type": "scattermapbox"
           }
          ],
          "scatterpolar": [
           {
            "marker": {
             "colorbar": {
              "outlinewidth": 0,
              "ticks": ""
             }
            },
            "type": "scatterpolar"
           }
          ],
          "scatterpolargl": [
           {
            "marker": {
             "colorbar": {
              "outlinewidth": 0,
              "ticks": ""
             }
            },
            "type": "scatterpolargl"
           }
          ],
          "scatterternary": [
           {
            "marker": {
             "colorbar": {
              "outlinewidth": 0,
              "ticks": ""
             }
            },
            "type": "scatterternary"
           }
          ],
          "surface": [
           {
            "colorbar": {
             "outlinewidth": 0,
             "ticks": ""
            },
            "colorscale": [
             [
              0,
              "#0d0887"
             ],
             [
              0.1111111111111111,
              "#46039f"
             ],
             [
              0.2222222222222222,
              "#7201a8"
             ],
             [
              0.3333333333333333,
              "#9c179e"
             ],
             [
              0.4444444444444444,
              "#bd3786"
             ],
             [
              0.5555555555555556,
              "#d8576b"
             ],
             [
              0.6666666666666666,
              "#ed7953"
             ],
             [
              0.7777777777777778,
              "#fb9f3a"
             ],
             [
              0.8888888888888888,
              "#fdca26"
             ],
             [
              1,
              "#f0f921"
             ]
            ],
            "type": "surface"
           }
          ],
          "table": [
           {
            "cells": {
             "fill": {
              "color": "#EBF0F8"
             },
             "line": {
              "color": "white"
             }
            },
            "header": {
             "fill": {
              "color": "#C8D4E3"
             },
             "line": {
              "color": "white"
             }
            },
            "type": "table"
           }
          ]
         },
         "layout": {
          "annotationdefaults": {
           "arrowcolor": "#2a3f5f",
           "arrowhead": 0,
           "arrowwidth": 1
          },
          "autotypenumbers": "strict",
          "coloraxis": {
           "colorbar": {
            "outlinewidth": 0,
            "ticks": ""
           }
          },
          "colorscale": {
           "diverging": [
            [
             0,
             "#8e0152"
            ],
            [
             0.1,
             "#c51b7d"
            ],
            [
             0.2,
             "#de77ae"
            ],
            [
             0.3,
             "#f1b6da"
            ],
            [
             0.4,
             "#fde0ef"
            ],
            [
             0.5,
             "#f7f7f7"
            ],
            [
             0.6,
             "#e6f5d0"
            ],
            [
             0.7,
             "#b8e186"
            ],
            [
             0.8,
             "#7fbc41"
            ],
            [
             0.9,
             "#4d9221"
            ],
            [
             1,
             "#276419"
            ]
           ],
           "sequential": [
            [
             0,
             "#0d0887"
            ],
            [
             0.1111111111111111,
             "#46039f"
            ],
            [
             0.2222222222222222,
             "#7201a8"
            ],
            [
             0.3333333333333333,
             "#9c179e"
            ],
            [
             0.4444444444444444,
             "#bd3786"
            ],
            [
             0.5555555555555556,
             "#d8576b"
            ],
            [
             0.6666666666666666,
             "#ed7953"
            ],
            [
             0.7777777777777778,
             "#fb9f3a"
            ],
            [
             0.8888888888888888,
             "#fdca26"
            ],
            [
             1,
             "#f0f921"
            ]
           ],
           "sequentialminus": [
            [
             0,
             "#0d0887"
            ],
            [
             0.1111111111111111,
             "#46039f"
            ],
            [
             0.2222222222222222,
             "#7201a8"
            ],
            [
             0.3333333333333333,
             "#9c179e"
            ],
            [
             0.4444444444444444,
             "#bd3786"
            ],
            [
             0.5555555555555556,
             "#d8576b"
            ],
            [
             0.6666666666666666,
             "#ed7953"
            ],
            [
             0.7777777777777778,
             "#fb9f3a"
            ],
            [
             0.8888888888888888,
             "#fdca26"
            ],
            [
             1,
             "#f0f921"
            ]
           ]
          },
          "colorway": [
           "#636efa",
           "#EF553B",
           "#00cc96",
           "#ab63fa",
           "#FFA15A",
           "#19d3f3",
           "#FF6692",
           "#B6E880",
           "#FF97FF",
           "#FECB52"
          ],
          "font": {
           "color": "#2a3f5f"
          },
          "geo": {
           "bgcolor": "white",
           "lakecolor": "white",
           "landcolor": "#E5ECF6",
           "showlakes": true,
           "showland": true,
           "subunitcolor": "white"
          },
          "hoverlabel": {
           "align": "left"
          },
          "hovermode": "closest",
          "mapbox": {
           "style": "light"
          },
          "paper_bgcolor": "white",
          "plot_bgcolor": "#E5ECF6",
          "polar": {
           "angularaxis": {
            "gridcolor": "white",
            "linecolor": "white",
            "ticks": ""
           },
           "bgcolor": "#E5ECF6",
           "radialaxis": {
            "gridcolor": "white",
            "linecolor": "white",
            "ticks": ""
           }
          },
          "scene": {
           "xaxis": {
            "backgroundcolor": "#E5ECF6",
            "gridcolor": "white",
            "gridwidth": 2,
            "linecolor": "white",
            "showbackground": true,
            "ticks": "",
            "zerolinecolor": "white"
           },
           "yaxis": {
            "backgroundcolor": "#E5ECF6",
            "gridcolor": "white",
            "gridwidth": 2,
            "linecolor": "white",
            "showbackground": true,
            "ticks": "",
            "zerolinecolor": "white"
           },
           "zaxis": {
            "backgroundcolor": "#E5ECF6",
            "gridcolor": "white",
            "gridwidth": 2,
            "linecolor": "white",
            "showbackground": true,
            "ticks": "",
            "zerolinecolor": "white"
           }
          },
          "shapedefaults": {
           "line": {
            "color": "#2a3f5f"
           }
          },
          "ternary": {
           "aaxis": {
            "gridcolor": "white",
            "linecolor": "white",
            "ticks": ""
           },
           "baxis": {
            "gridcolor": "white",
            "linecolor": "white",
            "ticks": ""
           },
           "bgcolor": "#E5ECF6",
           "caxis": {
            "gridcolor": "white",
            "linecolor": "white",
            "ticks": ""
           }
          },
          "title": {
           "x": 0.05
          },
          "xaxis": {
           "automargin": true,
           "gridcolor": "white",
           "linecolor": "white",
           "ticks": "",
           "title": {
            "standoff": 15
           },
           "zerolinecolor": "white",
           "zerolinewidth": 2
          },
          "yaxis": {
           "automargin": true,
           "gridcolor": "white",
           "linecolor": "white",
           "ticks": "",
           "title": {
            "standoff": 15
           },
           "zerolinecolor": "white",
           "zerolinewidth": 2
          }
         }
        },
        "title": {
         "text": "Зависимость от начального решения при размерности 50"
        },
        "width": 1500,
        "xaxis": {
         "anchor": "y",
         "domain": [
          0,
          0.49
         ],
         "title": {
          "font": {
           "size": 10
          },
          "text": "Номер итерации"
         }
        },
        "xaxis2": {
         "anchor": "y2",
         "domain": [
          0.51,
          1
         ],
         "title": {
          "font": {
           "size": 10
          },
          "text": "Номер итерации"
         }
        },
        "xaxis3": {
         "anchor": "y3",
         "domain": [
          0,
          0.49
         ],
         "title": {
          "font": {
           "size": 10
          },
          "text": "Номер итерации"
         }
        },
        "xaxis4": {
         "anchor": "y4",
         "domain": [
          0.51,
          1
         ],
         "title": {
          "font": {
           "size": 10
          },
          "text": "Номер итерации"
         }
        },
        "xaxis5": {
         "anchor": "y5",
         "domain": [
          0,
          0.49
         ],
         "title": {
          "font": {
           "size": 10
          },
          "text": "Номер итерации"
         }
        },
        "xaxis6": {
         "anchor": "y6",
         "domain": [
          0.51,
          1
         ],
         "title": {
          "font": {
           "size": 10
          },
          "text": "Номер итерации"
         }
        },
        "yaxis": {
         "anchor": "x",
         "domain": [
          0.7333333333333334,
          1
         ],
         "title": {
          "font": {
           "size": 10
          },
          "text": "f(x)"
         }
        },
        "yaxis2": {
         "anchor": "x2",
         "domain": [
          0.7333333333333334,
          1
         ],
         "title": {
          "font": {
           "size": 10
          },
          "text": "f(x)"
         }
        },
        "yaxis3": {
         "anchor": "x3",
         "domain": [
          0.3666666666666667,
          0.6333333333333333
         ],
         "title": {
          "font": {
           "size": 10
          },
          "text": "f(x)"
         }
        },
        "yaxis4": {
         "anchor": "x4",
         "domain": [
          0.3666666666666667,
          0.6333333333333333
         ],
         "title": {
          "font": {
           "size": 10
          },
          "text": "f(x)"
         }
        },
        "yaxis5": {
         "anchor": "x5",
         "domain": [
          0,
          0.26666666666666666
         ],
         "title": {
          "font": {
           "size": 10
          },
          "text": "f(x)"
         }
        },
        "yaxis6": {
         "anchor": "x6",
         "domain": [
          0,
          0.26666666666666666
         ],
         "title": {
          "font": {
           "size": 10
          },
          "text": "f(x)"
         }
        }
       }
      }
     },
     "metadata": {},
     "output_type": "display_data"
    }
   ],
   "source": [
    "comp_plot(dim=50)"
   ]
  },
  {
   "cell_type": "markdown",
   "id": "b760f5fb",
   "metadata": {},
   "source": [
    "# IV. Выводы"
   ]
  },
  {
   "cell_type": "markdown",
   "id": "45f5eb12",
   "metadata": {},
   "source": [
    "1. При увеличении размерности среднее время прямого метода растет быстрее по сравнению с двойственным из-за сложности вычисления матриц первых и вторых производных (время при dim=100 в 7 раз больше, чем при dim=10). Среднее время обратного метода также растет, но ощутимо медленее (менее, чем в 1.5 раза). \n",
    "\n",
    "2. Обратный метод сходится быстрее прямого, за исключением случая с размерностью 10. Число итераций до сходимости также увеличивается по мере увеличения размерности, но для обратного метода также значительно медленее. Для прямого метода с 3.5 до 11, для обратного с 4.7 до 5.1 с.\n",
    "\n",
    "3. Если сравнивать среднюю разность значений функций в точке оптимума, найденных прямым\\двойственныым методом и найденных с помощью солвера, то решение двойственного метода всегда точнее, причем точность увеличивается по мере увеличения размерности, а точность прямого метода, наоборот, растет.\n",
    "\n",
    "4. Начальное решение несильно влияет на сходимость на маленькой размерности (10): в прямом методе значения функции на начальном решении очень близки, метод сходится за 2 итерации. В обратном методе значения функции в начальной точке отличаются, но метод сходится за 3-4 итерации.\n",
    "На большей размерности (в примере 50) начальное решение влияет сильнее: в прямом методе значения целевой функции в начальной точке могут сильно различаться, в результате он сходится за 8-10 итераций, в обратном методе значения функции тоже отличаются (но в меньшем масштабе), что также влияет на сходимость (4-5 итераций)."
   ]
  }
 ],
 "metadata": {
  "kernelspec": {
   "display_name": "base",
   "language": "python",
   "name": "python3"
  },
  "language_info": {
   "codemirror_mode": {
    "name": "ipython",
    "version": 3
   },
   "file_extension": ".py",
   "mimetype": "text/x-python",
   "name": "python",
   "nbconvert_exporter": "python",
   "pygments_lexer": "ipython3",
   "version": "3.10.14"
  }
 },
 "nbformat": 4,
 "nbformat_minor": 5
}
