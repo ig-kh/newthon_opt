{
 "cells": [
  {
   "cell_type": "markdown",
   "id": "ba9c65ae",
   "metadata": {},
   "source": [
    "# I. Выпуклость, необходимое условие минимума, двойственная задача"
   ]
  },
  {
   "cell_type": "markdown",
   "id": "61957af0",
   "metadata": {},
   "source": [
    "## 1. Критерий выпуклости второго порядка"
   ]
  },
  {
   "cell_type": "markdown",
   "id": "778f9dee",
   "metadata": {},
   "source": [
    "Optimal allocation with resource constraint:\n",
    "$$f_{i}\\left(x_{i}\\right) = a_{i}e^{x_{i}}, a_{i} > 0, i \\in \\{ 1, ..., n\\}$$"
   ]
  },
  {
   "cell_type": "markdown",
   "id": "96dbbe40",
   "metadata": {},
   "source": [
    "Также ограничение бюджета:\n",
    "$$\\sum^{n}_{i=1}x_{i} = b, b \\in R$$"
   ]
  },
  {
   "cell_type": "markdown",
   "id": "384a0c11",
   "metadata": {},
   "source": [
    "Задача минимизации:\n",
    "$$\\sum^{n}_{i=1}a_{i}e^{x_{i}} \\rightarrow min, a_{i} > 0, i \\in \\{ 1, ..., n\\}$$"
   ]
  },
  {
   "cell_type": "markdown",
   "id": "10c9f198",
   "metadata": {},
   "source": [
    "Итоговая задача:\n",
    "$$\\sum^{n}_{i=1}a_{i}e^{x_{i}} \\rightarrow min, a_{i} > 0, i \\in \\{ 1, ..., n\\}, \\sum^{n}_{i=1}x_{i} = b, b \\in R$$"
   ]
  },
  {
   "cell_type": "markdown",
   "id": "041956f8",
   "metadata": {},
   "source": [
    "Для изучения выпуклости рассмотрим гессиан оптимизируемой функции:\n",
    "$$H(x)_{i,j} = 0, i \\neq j$$\n",
    "$$H(x)_{i,j} = a_{j}e^{x_{j}}, i = j$$\n",
    "$$\\text{При } a_{i} > 0 \\text{ очевидно, что } H(x)_{i,i} = a_{i}e^{x_{i}} > 0, \\text{ так как } \\forall x \\in R: e^{x_{i}} > 0$$\n",
    "Матрица такого вида является положительно определенной."
   ]
  },
  {
   "cell_type": "markdown",
   "id": "f996d725",
   "metadata": {},
   "source": [
    "Так же рассмотрим знакоопределенность гессиана ограничений:\n",
    "$$H(x) = \\textbf{0}$$ "
   ]
  },
  {
   "cell_type": "markdown",
   "id": "856719b9",
   "metadata": {},
   "source": [
    "Таким образом, задача является выпуклой."
   ]
  },
  {
   "cell_type": "markdown",
   "id": "d32378e3",
   "metadata": {},
   "source": [
    "## 2. Условие оптимальности"
   ]
  },
  {
   "cell_type": "markdown",
   "id": "7c341514",
   "metadata": {},
   "source": [
    "Рассмотрим Лангранжиан системы:\n",
    "$$L(x, \\nu) = \\sum^{n}_{i=1}a_{i}e^{x_{i}} + \\nu (\\textbf{1}^Tx-b)$$"
   ]
  },
  {
   "cell_type": "markdown",
   "id": "5940f8a4",
   "metadata": {},
   "source": [
    "Для потимальности найдем точки нуля производной лагранжиана, такие точки отметим звездой:\n",
    "$$\\nabla L (x^{\\star}, \\nu^{\\star}) = \\left( a_{1}e^{x_{1}^{\\star}}, ... , a_{n}e^{x_{n}^{\\star}} \\right)^T + {\\boldsymbol\\nu^{\\star}}^T  = 0$$"
   ]
  },
  {
   "cell_type": "markdown",
   "id": "77369bb2",
   "metadata": {},
   "source": [
    "Выражая покомпонентно элементы вектора x*:\n",
    "$$a_{i}e^{x_{i}^{\\star}} = -\\nu^{\\star}, i \\in \\{ 1, ..., n\\}$$\n",
    "$$x_{i}^{\\star} = ln\\left( - \\frac{\\nu^{\\star}}{a_{i}}\\right), i \\in \\{ 1, ..., n\\}$$"
   ]
  },
  {
   "cell_type": "markdown",
   "id": "6bf5b93b",
   "metadata": {},
   "source": [
    "Таким образом условия оптимума ККТ будут иметь вид следующей системы:\n",
    "\n",
    "\\begin{cases}\n",
    "  x_{i}^{\\star} = ln\\left( - \\frac{\\nu^{\\star}}{a_{i}}\\right), i \\in \\{ 1, ..., n\\}\\\\\n",
    "  \\textbf{1}^Tx^{\\star} = b\n",
    "\\end{cases}"
   ]
  },
  {
   "cell_type": "markdown",
   "id": "f852ef94",
   "metadata": {},
   "source": [
    "## 3. Двойственная задача"
   ]
  },
  {
   "cell_type": "markdown",
   "id": "79118aff",
   "metadata": {},
   "source": [
    "Двойственной к оригинальной задачей будет инфинум лагранжиана по вектору переменных x."
   ]
  },
  {
   "cell_type": "markdown",
   "id": "6be60897",
   "metadata": {},
   "source": [
    "$$g(\\nu) = \\underset{x}{inf} L(x, \\nu)$$\n",
    "$$g(\\nu) = -n \\nu + \\nu \\left( \\sum^{n}_{i=1}ln\\left( -\\frac{\\nu}{a_{i}}\\right) -b \\right) = \\nu \\left( \\sum^{n}_{i=1}ln\\left( -\\frac{\\nu}{a_{i}}\\right) -n -b \\right)$$"
   ]
  },
  {
   "cell_type": "markdown",
   "id": "56e7eb86",
   "metadata": {},
   "source": [
    "Тогда двойственная задача есть:\n",
    "$$\\nu \\left( \\sum^{n}_{i=1}ln\\left( -\\frac{\\nu}{a_{i}}\\right) -n -b \\right) \\rightarrow max$$"
   ]
  },
  {
   "cell_type": "markdown",
   "id": "e95bf5b4",
   "metadata": {},
   "source": [
    "# II. Решение тестовых примеров"
   ]
  },
  {
   "cell_type": "code",
   "execution_count": 1,
   "id": "cda79a75",
   "metadata": {},
   "outputs": [],
   "source": [
    "import numpy as np\n",
    "import cvxpy as cp\n",
    "import time\n",
    "import polars as pl\n",
    "import matplotlib.pyplot as plt\n",
    "import os"
   ]
  },
  {
   "cell_type": "markdown",
   "id": "01671441",
   "metadata": {},
   "source": [
    "## 1. Генерация примеров"
   ]
  },
  {
   "cell_type": "code",
   "execution_count": 2,
   "id": "5949eab8",
   "metadata": {},
   "outputs": [],
   "source": [
    "n_dims = range(10, 110, 10)\n",
    "n_examples = 100\n",
    "n_seeds = 100"
   ]
  },
  {
   "cell_type": "code",
   "execution_count": 3,
   "id": "c6ac7673",
   "metadata": {},
   "outputs": [],
   "source": [
    "raw_experiment_sheet = pl.DataFrame({\"dim\": n_dims}).select(\n",
    "    pl.all().repeat_by(n_examples).flatten()\n",
    ")"
   ]
  },
  {
   "cell_type": "code",
   "execution_count": null,
   "id": "bb5881fc",
   "metadata": {},
   "outputs": [],
   "source": [
    "raw_experiment_sheet = raw_experiment_sheet.with_columns(\n",
    "    pl.col(\"dim\")\n",
    "    .map_elements(\n",
    "        lambda dim_: np.random.uniform(low=0.1, high=100, size=dim_),\n",
    "        return_dtype=pl.List(float),\n",
    "        returns_scalar=False,\n",
    "    )\n",
    "    .alias(\"a\"),\n",
    "    pl.col(\"dim\")\n",
    "    .map_elements(\n",
    "        lambda dim_: np.random.uniform(low=-100, high=100, size=1),\n",
    "        return_dtype=float,\n",
    "        returns_scalar=True,\n",
    "    )\n",
    "    .alias(\"b\"),\n",
    ")"
   ]
  },
  {
   "cell_type": "code",
   "execution_count": 5,
   "id": "c47405b8",
   "metadata": {},
   "outputs": [
    {
     "data": {
      "text/html": [
       "<div><style>\n",
       ".dataframe > thead > tr,\n",
       ".dataframe > tbody > tr {\n",
       "  text-align: right;\n",
       "  white-space: pre-wrap;\n",
       "}\n",
       "</style>\n",
       "<small>shape: (1_000, 3)</small><table border=\"1\" class=\"dataframe\"><thead><tr><th>dim</th><th>a</th><th>b</th></tr><tr><td>i64</td><td>list[f64]</td><td>f64</td></tr></thead><tbody><tr><td>10</td><td>[98.623768, 17.622572, … 76.756343]</td><td>-1.377702</td></tr><tr><td>10</td><td>[87.46204, 71.092403, … 40.224658]</td><td>-76.654283</td></tr><tr><td>10</td><td>[78.127373, 6.493261, … 45.204324]</td><td>-0.595597</td></tr><tr><td>10</td><td>[94.079596, 43.463478, … 65.397703]</td><td>92.569535</td></tr><tr><td>10</td><td>[59.991563, 99.909557, … 12.030155]</td><td>43.24865</td></tr><tr><td>&hellip;</td><td>&hellip;</td><td>&hellip;</td></tr><tr><td>100</td><td>[4.327401, 10.366394, … 27.713563]</td><td>-76.934482</td></tr><tr><td>100</td><td>[55.736813, 79.941932, … 31.637637]</td><td>68.342216</td></tr><tr><td>100</td><td>[55.764994, 88.193946, … 12.331152]</td><td>-59.567157</td></tr><tr><td>100</td><td>[58.794788, 85.47005, … 60.02833]</td><td>24.254582</td></tr><tr><td>100</td><td>[34.487485, 21.377496, … 33.723074]</td><td>81.846787</td></tr></tbody></table></div>"
      ],
      "text/plain": [
       "shape: (1_000, 3)\n",
       "┌─────┬─────────────────────────────────┬────────────┐\n",
       "│ dim ┆ a                               ┆ b          │\n",
       "│ --- ┆ ---                             ┆ ---        │\n",
       "│ i64 ┆ list[f64]                       ┆ f64        │\n",
       "╞═════╪═════════════════════════════════╪════════════╡\n",
       "│ 10  ┆ [98.623768, 17.622572, … 76.75… ┆ -1.377702  │\n",
       "│ 10  ┆ [87.46204, 71.092403, … 40.224… ┆ -76.654283 │\n",
       "│ 10  ┆ [78.127373, 6.493261, … 45.204… ┆ -0.595597  │\n",
       "│ 10  ┆ [94.079596, 43.463478, … 65.39… ┆ 92.569535  │\n",
       "│ 10  ┆ [59.991563, 99.909557, … 12.03… ┆ 43.24865   │\n",
       "│ …   ┆ …                               ┆ …          │\n",
       "│ 100 ┆ [4.327401, 10.366394, … 27.713… ┆ -76.934482 │\n",
       "│ 100 ┆ [55.736813, 79.941932, … 31.63… ┆ 68.342216  │\n",
       "│ 100 ┆ [55.764994, 88.193946, … 12.33… ┆ -59.567157 │\n",
       "│ 100 ┆ [58.794788, 85.47005, … 60.028… ┆ 24.254582  │\n",
       "│ 100 ┆ [34.487485, 21.377496, … 33.72… ┆ 81.846787  │\n",
       "└─────┴─────────────────────────────────┴────────────┘"
      ]
     },
     "execution_count": 5,
     "metadata": {},
     "output_type": "execute_result"
    }
   ],
   "source": [
    "raw_experiment_sheet"
   ]
  },
  {
   "cell_type": "markdown",
   "id": "8ff9892f",
   "metadata": {},
   "source": [
    "## 2. Решение солвером CVXPY"
   ]
  },
  {
   "cell_type": "code",
   "execution_count": null,
   "id": "ebd865e5",
   "metadata": {},
   "outputs": [],
   "source": [
    "def solve_oawrc(a, b):\n",
    "\n",
    "    a = np.asarray(a)\n",
    "\n",
    "    x = cp.Variable(a.shape[0])\n",
    "\n",
    "    objective = cp.Minimize(cp.sum(a @ cp.exp(x)))\n",
    "\n",
    "    constraints = [cp.sum(x) - b == 0]\n",
    "\n",
    "    prob = cp.Problem(objective, constraints)\n",
    "\n",
    "    try:\n",
    "        start_t = time.time()\n",
    "        result = prob.solve()\n",
    "        sovle_time = time.time() - start_t\n",
    "    except:\n",
    "        res = {\"cvxpy_x\": None, \"cvxpy_y\": None, \"cvxpy_t\": None}\n",
    "    else:\n",
    "        res = {\"cvxpy_x\": list(x.value), \"cvxpy_y\": result, \"cvxpy_t\": sovle_time}\n",
    "\n",
    "    return res"
   ]
  },
  {
   "cell_type": "code",
   "execution_count": null,
   "id": "06f14da2",
   "metadata": {},
   "outputs": [
    {
     "name": "stderr",
     "output_type": "stream",
     "text": [
      "/home/igkh/.venv/lib/python3.12/site-packages/cvxpy/problems/problem.py:1481: UserWarning: Solution may be inaccurate. Try another solver, adjusting the solver settings, or solve with verbose=True for more information.\n",
      "  warnings.warn(\n"
     ]
    }
   ],
   "source": [
    "raw_experiment_sheet = raw_experiment_sheet.with_columns(\n",
    "    (\n",
    "        pl.struct(\"a\", \"b\")\n",
    "        .map_elements(\n",
    "            lambda x: solve_oawrc(**x),\n",
    "            return_dtype=pl.Struct(\n",
    "                {\"cvxpy_x\": pl.List(float), \"cvxpy_y\": float, \"cvxpy_t\": float}\n",
    "            ),\n",
    "        )\n",
    "        .alias(\"cvxpy_out\")\n",
    "    )\n",
    ").unnest(\"cvxpy_out\")"
   ]
  },
  {
   "cell_type": "code",
   "execution_count": 8,
   "id": "510ca02a",
   "metadata": {},
   "outputs": [
    {
     "data": {
      "text/html": [
       "<div><style>\n",
       ".dataframe > thead > tr,\n",
       ".dataframe > tbody > tr {\n",
       "  text-align: right;\n",
       "  white-space: pre-wrap;\n",
       "}\n",
       "</style>\n",
       "<small>shape: (1_000, 5)</small><table border=\"1\" class=\"dataframe\"><thead><tr><th>dim</th><th>a</th><th>b</th><th>cvxpy_x</th><th>cvxpy_y</th></tr><tr><td>i64</td><td>list[f64]</td><td>f64</td><td>list[f64]</td><td>f64</td></tr></thead><tbody><tr><td>10</td><td>[98.623768, 17.622572, … 76.756343]</td><td>-1.377702</td><td>[-1.047906, 0.674315, … -0.797123]</td><td>345.848778</td></tr><tr><td>10</td><td>[87.46204, 71.092403, … 40.224658]</td><td>-76.654283</td><td>[-8.693696, -8.486249, … -7.916634]</td><td>0.146666</td></tr><tr><td>10</td><td>[78.127373, 6.493261, … 45.204324]</td><td>-0.595597</td><td>[-1.053569, 1.434052, … -0.506469]</td><td>272.417762</td></tr><tr><td>10</td><td>[94.079596, 43.463478, … 65.397703]</td><td>92.569535</td><td>[8.027426, 8.799692, … 8.391119]</td><td>2.8823e6</td></tr><tr><td>10</td><td>[59.991563, 99.909557, … 12.030155]</td><td>43.24865</td><td>[4.326456, 3.816393, … 5.933241]</td><td>45399.739668</td></tr><tr><td>&hellip;</td><td>&hellip;</td><td>&hellip;</td><td>&hellip;</td><td>&hellip;</td></tr><tr><td>100</td><td>[4.327401, 10.366394, … 27.713563]</td><td>-76.934482</td><td>[1.382804, 0.509202, … -0.474151]</td><td>1724.92786</td></tr><tr><td>100</td><td>[55.736813, 79.941932, … 31.637637]</td><td>68.342216</td><td>[0.305232, -0.055428, … 0.871495]</td><td>7563.079362</td></tr><tr><td>100</td><td>[55.764994, 88.193946, … 12.331152]</td><td>-59.567157</td><td>[-1.029215, -1.487623, … 0.479811]</td><td>1992.425675</td></tr><tr><td>100</td><td>[58.794788, 85.47005, … 60.02833]</td><td>24.254582</td><td>[-0.317357, -0.691465, … -0.33812]</td><td>4280.677719</td></tr><tr><td>100</td><td>[34.487485, 21.377496, … 33.723074]</td><td>81.846787</td><td>[0.793328, 1.271548, … 0.815723]</td><td>7624.461176</td></tr></tbody></table></div>"
      ],
      "text/plain": [
       "shape: (1_000, 5)\n",
       "┌─────┬──────────────────────────┬────────────┬─────────────────────────────────┬──────────────┐\n",
       "│ dim ┆ a                        ┆ b          ┆ cvxpy_x                         ┆ cvxpy_y      │\n",
       "│ --- ┆ ---                      ┆ ---        ┆ ---                             ┆ ---          │\n",
       "│ i64 ┆ list[f64]                ┆ f64        ┆ list[f64]                       ┆ f64          │\n",
       "╞═════╪══════════════════════════╪════════════╪═════════════════════════════════╪══════════════╡\n",
       "│ 10  ┆ [98.623768, 17.622572, … ┆ -1.377702  ┆ [-1.047906, 0.674315, … -0.797… ┆ 345.848778   │\n",
       "│     ┆ 76.75…                   ┆            ┆                                 ┆              │\n",
       "│ 10  ┆ [87.46204, 71.092403, …  ┆ -76.654283 ┆ [-8.693696, -8.486249, … -7.91… ┆ 0.146666     │\n",
       "│     ┆ 40.224…                  ┆            ┆                                 ┆              │\n",
       "│ 10  ┆ [78.127373, 6.493261, …  ┆ -0.595597  ┆ [-1.053569, 1.434052, … -0.506… ┆ 272.417762   │\n",
       "│     ┆ 45.204…                  ┆            ┆                                 ┆              │\n",
       "│ 10  ┆ [94.079596, 43.463478, … ┆ 92.569535  ┆ [8.027426, 8.799692, … 8.39111… ┆ 2.8823e6     │\n",
       "│     ┆ 65.39…                   ┆            ┆                                 ┆              │\n",
       "│ 10  ┆ [59.991563, 99.909557, … ┆ 43.24865   ┆ [4.326456, 3.816393, … 5.93324… ┆ 45399.739668 │\n",
       "│     ┆ 12.03…                   ┆            ┆                                 ┆              │\n",
       "│ …   ┆ …                        ┆ …          ┆ …                               ┆ …            │\n",
       "│ 100 ┆ [4.327401, 10.366394, …  ┆ -76.934482 ┆ [1.382804, 0.509202, … -0.4741… ┆ 1724.92786   │\n",
       "│     ┆ 27.713…                  ┆            ┆                                 ┆              │\n",
       "│ 100 ┆ [55.736813, 79.941932, … ┆ 68.342216  ┆ [0.305232, -0.055428, … 0.8714… ┆ 7563.079362  │\n",
       "│     ┆ 31.63…                   ┆            ┆                                 ┆              │\n",
       "│ 100 ┆ [55.764994, 88.193946, … ┆ -59.567157 ┆ [-1.029215, -1.487623, … 0.479… ┆ 1992.425675  │\n",
       "│     ┆ 12.33…                   ┆            ┆                                 ┆              │\n",
       "│ 100 ┆ [58.794788, 85.47005, …  ┆ 24.254582  ┆ [-0.317357, -0.691465, … -0.33… ┆ 4280.677719  │\n",
       "│     ┆ 60.028…                  ┆            ┆                                 ┆              │\n",
       "│ 100 ┆ [34.487485, 21.377496, … ┆ 81.846787  ┆ [0.793328, 1.271548, … 0.81572… ┆ 7624.461176  │\n",
       "│     ┆ 33.72…                   ┆            ┆                                 ┆              │\n",
       "└─────┴──────────────────────────┴────────────┴─────────────────────────────────┴──────────────┘"
      ]
     },
     "execution_count": 8,
     "metadata": {},
     "output_type": "execute_result"
    }
   ],
   "source": [
    "raw_experiment_sheet"
   ]
  },
  {
   "cell_type": "markdown",
   "id": "523e1824",
   "metadata": {},
   "source": [
    "## 3. Решение прямой задачи методом Ньютона "
   ]
  },
  {
   "cell_type": "code",
   "execution_count": 9,
   "id": "aad5b752",
   "metadata": {},
   "outputs": [],
   "source": [
    "def random_sum_bound(dim, b):\n",
    "    rnd = np.random.uniform(size=dim)\n",
    "    return list(rnd / rnd.sum() * b)"
   ]
  },
  {
   "cell_type": "code",
   "execution_count": 10,
   "id": "0d8e1625",
   "metadata": {},
   "outputs": [],
   "source": [
    "raw_experiment_sheet = raw_experiment_sheet.select(\n",
    "    pl.all().repeat_by(n_seeds).flatten()\n",
    ").with_columns(\n",
    "    pl.struct(\"dim\", \"b\")\n",
    "    .map_elements(lambda x: random_sum_bound(**x), return_dtype=pl.List(float))\n",
    "    .alias(\"x_init\")\n",
    ")"
   ]
  },
  {
   "cell_type": "code",
   "execution_count": 11,
   "id": "e1d82275",
   "metadata": {},
   "outputs": [
    {
     "data": {
      "text/html": [
       "<div><style>\n",
       ".dataframe > thead > tr,\n",
       ".dataframe > tbody > tr {\n",
       "  text-align: right;\n",
       "  white-space: pre-wrap;\n",
       "}\n",
       "</style>\n",
       "<small>shape: (100_000, 6)</small><table border=\"1\" class=\"dataframe\"><thead><tr><th>dim</th><th>a</th><th>b</th><th>cvxpy_x</th><th>cvxpy_y</th><th>x_init</th></tr><tr><td>i64</td><td>list[f64]</td><td>f64</td><td>list[f64]</td><td>f64</td><td>list[f64]</td></tr></thead><tbody><tr><td>10</td><td>[98.623768, 17.622572, … 76.756343]</td><td>-1.377702</td><td>[-1.047906, 0.674315, … -0.797123]</td><td>345.848778</td><td>[-0.178878, -0.074887, … -0.141447]</td></tr><tr><td>10</td><td>[98.623768, 17.622572, … 76.756343]</td><td>-1.377702</td><td>[-1.047906, 0.674315, … -0.797123]</td><td>345.848778</td><td>[-0.041772, -0.037545, … -0.139961]</td></tr><tr><td>10</td><td>[98.623768, 17.622572, … 76.756343]</td><td>-1.377702</td><td>[-1.047906, 0.674315, … -0.797123]</td><td>345.848778</td><td>[-0.158572, -0.213413, … -0.135807]</td></tr><tr><td>10</td><td>[98.623768, 17.622572, … 76.756343]</td><td>-1.377702</td><td>[-1.047906, 0.674315, … -0.797123]</td><td>345.848778</td><td>[-0.13982, -0.259188, … -0.213816]</td></tr><tr><td>10</td><td>[98.623768, 17.622572, … 76.756343]</td><td>-1.377702</td><td>[-1.047906, 0.674315, … -0.797123]</td><td>345.848778</td><td>[-0.10706, -0.1904, … -0.139037]</td></tr><tr><td>&hellip;</td><td>&hellip;</td><td>&hellip;</td><td>&hellip;</td><td>&hellip;</td><td>&hellip;</td></tr><tr><td>100</td><td>[34.487485, 21.377496, … 33.723074]</td><td>81.846787</td><td>[0.793328, 1.271548, … 0.815723]</td><td>7624.461176</td><td>[1.405423, 0.823007, … 0.667615]</td></tr><tr><td>100</td><td>[34.487485, 21.377496, … 33.723074]</td><td>81.846787</td><td>[0.793328, 1.271548, … 0.815723]</td><td>7624.461176</td><td>[0.361587, 0.005409, … 0.332045]</td></tr><tr><td>100</td><td>[34.487485, 21.377496, … 33.723074]</td><td>81.846787</td><td>[0.793328, 1.271548, … 0.815723]</td><td>7624.461176</td><td>[0.464278, 1.362884, … 0.673694]</td></tr><tr><td>100</td><td>[34.487485, 21.377496, … 33.723074]</td><td>81.846787</td><td>[0.793328, 1.271548, … 0.815723]</td><td>7624.461176</td><td>[0.300471, 0.942728, … 1.552028]</td></tr><tr><td>100</td><td>[34.487485, 21.377496, … 33.723074]</td><td>81.846787</td><td>[0.793328, 1.271548, … 0.815723]</td><td>7624.461176</td><td>[0.756978, 0.743313, … 1.139425]</td></tr></tbody></table></div>"
      ],
      "text/plain": [
       "shape: (100_000, 6)\n",
       "┌─────┬──────────────────────┬───────────┬─────────────────────┬─────────────┬─────────────────────┐\n",
       "│ dim ┆ a                    ┆ b         ┆ cvxpy_x             ┆ cvxpy_y     ┆ x_init              │\n",
       "│ --- ┆ ---                  ┆ ---       ┆ ---                 ┆ ---         ┆ ---                 │\n",
       "│ i64 ┆ list[f64]            ┆ f64       ┆ list[f64]           ┆ f64         ┆ list[f64]           │\n",
       "╞═════╪══════════════════════╪═══════════╪═════════════════════╪═════════════╪═════════════════════╡\n",
       "│ 10  ┆ [98.623768,          ┆ -1.377702 ┆ [-1.047906,         ┆ 345.848778  ┆ [-0.178878,         │\n",
       "│     ┆ 17.622572, … 76.75…  ┆           ┆ 0.674315, … -0.797… ┆             ┆ -0.074887, … -0.14… │\n",
       "│ 10  ┆ [98.623768,          ┆ -1.377702 ┆ [-1.047906,         ┆ 345.848778  ┆ [-0.041772,         │\n",
       "│     ┆ 17.622572, … 76.75…  ┆           ┆ 0.674315, … -0.797… ┆             ┆ -0.037545, … -0.13… │\n",
       "│ 10  ┆ [98.623768,          ┆ -1.377702 ┆ [-1.047906,         ┆ 345.848778  ┆ [-0.158572,         │\n",
       "│     ┆ 17.622572, … 76.75…  ┆           ┆ 0.674315, … -0.797… ┆             ┆ -0.213413, … -0.13… │\n",
       "│ 10  ┆ [98.623768,          ┆ -1.377702 ┆ [-1.047906,         ┆ 345.848778  ┆ [-0.13982,          │\n",
       "│     ┆ 17.622572, … 76.75…  ┆           ┆ 0.674315, … -0.797… ┆             ┆ -0.259188, …        │\n",
       "│     ┆                      ┆           ┆                     ┆             ┆ -0.213…             │\n",
       "│ 10  ┆ [98.623768,          ┆ -1.377702 ┆ [-1.047906,         ┆ 345.848778  ┆ [-0.10706, -0.1904, │\n",
       "│     ┆ 17.622572, … 76.75…  ┆           ┆ 0.674315, … -0.797… ┆             ┆ … -0.13903…         │\n",
       "│ …   ┆ …                    ┆ …         ┆ …                   ┆ …           ┆ …                   │\n",
       "│ 100 ┆ [34.487485,          ┆ 81.846787 ┆ [0.793328,          ┆ 7624.461176 ┆ [1.405423,          │\n",
       "│     ┆ 21.377496, … 33.72…  ┆           ┆ 1.271548, …         ┆             ┆ 0.823007, …         │\n",
       "│     ┆                      ┆           ┆ 0.81572…            ┆             ┆ 0.66761…            │\n",
       "│ 100 ┆ [34.487485,          ┆ 81.846787 ┆ [0.793328,          ┆ 7624.461176 ┆ [0.361587,          │\n",
       "│     ┆ 21.377496, … 33.72…  ┆           ┆ 1.271548, …         ┆             ┆ 0.005409, …         │\n",
       "│     ┆                      ┆           ┆ 0.81572…            ┆             ┆ 0.33204…            │\n",
       "│ 100 ┆ [34.487485,          ┆ 81.846787 ┆ [0.793328,          ┆ 7624.461176 ┆ [0.464278,          │\n",
       "│     ┆ 21.377496, … 33.72…  ┆           ┆ 1.271548, …         ┆             ┆ 1.362884, …         │\n",
       "│     ┆                      ┆           ┆ 0.81572…            ┆             ┆ 0.67369…            │\n",
       "│ 100 ┆ [34.487485,          ┆ 81.846787 ┆ [0.793328,          ┆ 7624.461176 ┆ [0.300471,          │\n",
       "│     ┆ 21.377496, … 33.72…  ┆           ┆ 1.271548, …         ┆             ┆ 0.942728, …         │\n",
       "│     ┆                      ┆           ┆ 0.81572…            ┆             ┆ 1.55202…            │\n",
       "│ 100 ┆ [34.487485,          ┆ 81.846787 ┆ [0.793328,          ┆ 7624.461176 ┆ [0.756978,          │\n",
       "│     ┆ 21.377496, … 33.72…  ┆           ┆ 1.271548, …         ┆             ┆ 0.743313, …         │\n",
       "│     ┆                      ┆           ┆ 0.81572…            ┆             ┆ 1.13942…            │\n",
       "└─────┴──────────────────────┴───────────┴─────────────────────┴─────────────┴─────────────────────┘"
      ]
     },
     "execution_count": 11,
     "metadata": {},
     "output_type": "execute_result"
    }
   ],
   "source": [
    "raw_experiment_sheet"
   ]
  },
  {
   "cell_type": "markdown",
   "id": "7af7df7b",
   "metadata": {},
   "source": [
    "## 4. Решение двойственной задачи методом Ньютона"
   ]
  },
  {
   "cell_type": "markdown",
   "id": "84008abe",
   "metadata": {},
   "source": [
    "# III. Анализ зависимостей"
   ]
  },
  {
   "cell_type": "markdown",
   "id": "b760f5fb",
   "metadata": {},
   "source": [
    "# IV. Выводы"
   ]
  },
  {
   "cell_type": "markdown",
   "id": "45f5eb12",
   "metadata": {},
   "source": []
  }
 ],
 "metadata": {
  "kernelspec": {
   "display_name": ".venv",
   "language": "python",
   "name": "python3"
  },
  "language_info": {
   "codemirror_mode": {
    "name": "ipython",
    "version": 3
   },
   "file_extension": ".py",
   "mimetype": "text/x-python",
   "name": "python",
   "nbconvert_exporter": "python",
   "pygments_lexer": "ipython3",
   "version": "3.12.3"
  }
 },
 "nbformat": 4,
 "nbformat_minor": 5
}
