{
 "cells": [
  {
   "cell_type": "markdown",
   "id": "ba9c65ae",
   "metadata": {},
   "source": [
    "# I. Выпуклость, необходимое условие минимума, двойственная задача"
   ]
  },
  {
   "cell_type": "markdown",
   "id": "61957af0",
   "metadata": {},
   "source": [
    "## 1. Критерий выпуклости второго порядка"
   ]
  },
  {
   "cell_type": "markdown",
   "id": "778f9dee",
   "metadata": {},
   "source": [
    "Optimal allocation with resource constraint:\n",
    "$$f_{i}\\left(x_{i}\\right) = a_{i}e^{x_{i}}, a_{i} > 0, i \\in \\{ 1, ..., n\\}$$"
   ]
  },
  {
   "cell_type": "markdown",
   "id": "96dbbe40",
   "metadata": {},
   "source": [
    "Также ограничение бюджета:\n",
    "$$\\sum^{n}_{i=1}x_{i} = b, b \\in R$$"
   ]
  },
  {
   "cell_type": "markdown",
   "id": "384a0c11",
   "metadata": {},
   "source": [
    "Задача минимизации:\n",
    "$$\\sum^{n}_{i=1}a_{i}e^{x_{i}} \\rightarrow min, a_{i} > 0, i \\in \\{ 1, ..., n\\}$$"
   ]
  },
  {
   "cell_type": "markdown",
   "id": "10c9f198",
   "metadata": {},
   "source": [
    "Итоговая задача:\n",
    "$$\\sum^{n}_{i=1}a_{i}e^{x_{i}} \\rightarrow min, a_{i} > 0, i \\in \\{ 1, ..., n\\}, \\sum^{n}_{i=1}x_{i} = b, b \\in R$$"
   ]
  },
  {
   "cell_type": "markdown",
   "id": "041956f8",
   "metadata": {},
   "source": [
    "Для изучения выпуклости рассмотрим гессиан оптимизируемой функции:\n",
    "$$H(x)_{i,j} = 0, i \\neq j$$\n",
    "$$H(x)_{i,j} = a_{j}e^{x_{j}}, i = j$$\n",
    "$$\\text{При } a_{i} > 0 \\text{ очевидно, что } H(x)_{i,i} = a_{i}e^{x_{i}} > 0, \\text{ так как } \\forall x \\in R: e^{x_{i}} > 0$$\n",
    "Матрица такого вида является положительно определенной."
   ]
  },
  {
   "cell_type": "markdown",
   "id": "f996d725",
   "metadata": {},
   "source": [
    "Так же рассмотрим знакоопределенность гессиана ограничений:\n",
    "$$H(x) = \\textbf{0}$$ "
   ]
  },
  {
   "cell_type": "markdown",
   "id": "856719b9",
   "metadata": {},
   "source": [
    "Таким образом, задача является выпуклой."
   ]
  },
  {
   "cell_type": "markdown",
   "id": "d32378e3",
   "metadata": {},
   "source": [
    "## 2. Условие оптимальности"
   ]
  },
  {
   "cell_type": "markdown",
   "id": "7c341514",
   "metadata": {},
   "source": [
    "Рассмотрим Лангранжиан системы:\n",
    "$$L(x, \\nu) = \\sum^{n}_{i=1}a_{i}e^{x_{i}} + \\nu (\\textbf{1}^Tx-b)$$"
   ]
  },
  {
   "cell_type": "markdown",
   "id": "5940f8a4",
   "metadata": {},
   "source": [
    "Для потимальности найдем точки нуля производной лагранжиана, такие точки отметим звездой:\n",
    "$$\\nabla L (x^{\\star}, \\nu^{\\star}) = \\left( a_{1}e^{x_{1}^{\\star}}, ... , a_{n}e^{x_{n}^{\\star}} \\right)^T + {\\boldsymbol\\nu^{\\star}}^T  = 0$$"
   ]
  },
  {
   "cell_type": "markdown",
   "id": "77369bb2",
   "metadata": {},
   "source": [
    "Выражая покомпонентно элементы вектора x*:\n",
    "$$a_{i}e^{x_{i}^{\\star}} = -\\nu^{\\star}, i \\in \\{ 1, ..., n\\}$$\n",
    "$$x_{i}^{\\star} = ln\\left( - \\frac{\\nu^{\\star}}{a_{i}}\\right), i \\in \\{ 1, ..., n\\}$$"
   ]
  },
  {
   "cell_type": "markdown",
   "id": "6bf5b93b",
   "metadata": {},
   "source": [
    "Таким образом условия оптимума ККТ будут иметь вид следующей системы:\n",
    "\n",
    "\\begin{cases}\n",
    "  x_{i}^{\\star} = ln\\left( - \\frac{\\nu^{\\star}}{a_{i}}\\right), i \\in \\{ 1, ..., n\\}\\\\\n",
    "  \\textbf{1}^Tx^{\\star} = b\n",
    "\\end{cases}"
   ]
  },
  {
   "cell_type": "markdown",
   "id": "f852ef94",
   "metadata": {},
   "source": [
    "## 3. Двойственная задача"
   ]
  },
  {
   "cell_type": "markdown",
   "id": "79118aff",
   "metadata": {},
   "source": [
    "Двойственной к оригинальной задачей будет инфинум лагранжиана по вектору переменных x."
   ]
  },
  {
   "cell_type": "markdown",
   "id": "6be60897",
   "metadata": {},
   "source": [
    "$$g(\\nu) = \\underset{x}{inf} L(x, \\nu)$$\n",
    "$$g(\\nu) = -n \\nu + \\nu \\left( \\sum^{n}_{i=1}ln\\left( -\\frac{\\nu}{a_{i}}\\right) -b \\right) = \\nu \\left( \\sum^{n}_{i=1}ln\\left( -\\frac{\\nu}{a_{i}}\\right) -n -b \\right)$$"
   ]
  },
  {
   "cell_type": "markdown",
   "id": "56e7eb86",
   "metadata": {},
   "source": [
    "Тогда двойственная задача есть:\n",
    "$$\\nu \\left( \\sum^{n}_{i=1}ln\\left( -\\frac{\\nu}{a_{i}}\\right) -n -b \\right) \\rightarrow max$$"
   ]
  },
  {
   "cell_type": "markdown",
   "id": "e95bf5b4",
   "metadata": {},
   "source": [
    "# II. Решение тестовых примеров"
   ]
  },
  {
   "cell_type": "code",
   "execution_count": 141,
   "id": "cda79a75",
   "metadata": {},
   "outputs": [],
   "source": [
    "import numpy as np\n",
    "import cvxpy as cp\n",
    "import time\n",
    "import polars as pl\n",
    "import matplotlib.pyplot as plt\n",
    "import os"
   ]
  },
  {
   "cell_type": "markdown",
   "id": "01671441",
   "metadata": {},
   "source": [
    "## 1. Генерация примеров"
   ]
  },
  {
   "cell_type": "code",
   "execution_count": 142,
   "id": "5949eab8",
   "metadata": {},
   "outputs": [],
   "source": [
    "n_dims = range(10, 110, 10)\n",
    "n_examples = 100\n",
    "n_seeds = 100"
   ]
  },
  {
   "cell_type": "code",
   "execution_count": 143,
   "id": "c6ac7673",
   "metadata": {},
   "outputs": [],
   "source": [
    "raw_experiment_sheet = pl.DataFrame({\"dim\": n_dims}).select(\n",
    "    pl.all().repeat_by(n_examples).flatten()\n",
    ")"
   ]
  },
  {
   "cell_type": "code",
   "execution_count": 144,
   "id": "bb5881fc",
   "metadata": {},
   "outputs": [],
   "source": [
    "raw_experiment_sheet = raw_experiment_sheet.with_columns(\n",
    "    pl.col(\"dim\")\n",
    "    .map_elements(\n",
    "        lambda dim_: np.random.uniform(low=0.1, high=10, size=dim_),\n",
    "        return_dtype=pl.List(float),\n",
    "        returns_scalar=False,\n",
    "    )\n",
    "    .alias(\"a\"),\n",
    "    pl.col(\"dim\")\n",
    "    .map_elements(\n",
    "        lambda dim_: np.random.uniform(low=-10, high=10, size=1),\n",
    "        return_dtype=float,\n",
    "        returns_scalar=True,\n",
    "    )\n",
    "    .alias(\"b\"),\n",
    ")"
   ]
  },
  {
   "cell_type": "code",
   "execution_count": 145,
   "id": "c47405b8",
   "metadata": {},
   "outputs": [
    {
     "data": {
      "text/html": [
       "<div><style>\n",
       ".dataframe > thead > tr,\n",
       ".dataframe > tbody > tr {\n",
       "  text-align: right;\n",
       "  white-space: pre-wrap;\n",
       "}\n",
       "</style>\n",
       "<small>shape: (1_000, 3)</small><table border=\"1\" class=\"dataframe\"><thead><tr><th>dim</th><th>a</th><th>b</th></tr><tr><td>i64</td><td>list[f64]</td><td>f64</td></tr></thead><tbody><tr><td>10</td><td>[2.493259, 7.169756, … 8.358499]</td><td>-7.459575</td></tr><tr><td>10</td><td>[3.557954, 1.303087, … 7.090329]</td><td>-6.781608</td></tr><tr><td>10</td><td>[5.089566, 2.735855, … 0.254117]</td><td>-9.201723</td></tr><tr><td>10</td><td>[2.642611, 7.524052, … 8.857005]</td><td>3.320509</td></tr><tr><td>10</td><td>[9.975331, 0.425117, … 8.308354]</td><td>-0.691465</td></tr><tr><td>&hellip;</td><td>&hellip;</td><td>&hellip;</td></tr><tr><td>100</td><td>[6.339542, 0.135605, … 8.041473]</td><td>-2.834098</td></tr><tr><td>100</td><td>[7.724265, 2.763721, … 1.957112]</td><td>-0.778715</td></tr><tr><td>100</td><td>[1.423904, 9.421519, … 1.857509]</td><td>-2.019832</td></tr><tr><td>100</td><td>[7.15173, 6.978215, … 8.29185]</td><td>4.221411</td></tr><tr><td>100</td><td>[5.13129, 3.181561, … 7.639559]</td><td>-2.782651</td></tr></tbody></table></div>"
      ],
      "text/plain": [
       "shape: (1_000, 3)\n",
       "┌─────┬─────────────────────────────────┬───────────┐\n",
       "│ dim ┆ a                               ┆ b         │\n",
       "│ --- ┆ ---                             ┆ ---       │\n",
       "│ i64 ┆ list[f64]                       ┆ f64       │\n",
       "╞═════╪═════════════════════════════════╪═══════════╡\n",
       "│ 10  ┆ [2.493259, 7.169756, … 8.35849… ┆ -7.459575 │\n",
       "│ 10  ┆ [3.557954, 1.303087, … 7.09032… ┆ -6.781608 │\n",
       "│ 10  ┆ [5.089566, 2.735855, … 0.25411… ┆ -9.201723 │\n",
       "│ 10  ┆ [2.642611, 7.524052, … 8.85700… ┆ 3.320509  │\n",
       "│ 10  ┆ [9.975331, 0.425117, … 8.30835… ┆ -0.691465 │\n",
       "│ …   ┆ …                               ┆ …         │\n",
       "│ 100 ┆ [6.339542, 0.135605, … 8.04147… ┆ -2.834098 │\n",
       "│ 100 ┆ [7.724265, 2.763721, … 1.95711… ┆ -0.778715 │\n",
       "│ 100 ┆ [1.423904, 9.421519, … 1.85750… ┆ -2.019832 │\n",
       "│ 100 ┆ [7.15173, 6.978215, … 8.29185]  ┆ 4.221411  │\n",
       "│ 100 ┆ [5.13129, 3.181561, … 7.639559… ┆ -2.782651 │\n",
       "└─────┴─────────────────────────────────┴───────────┘"
      ]
     },
     "execution_count": 145,
     "metadata": {},
     "output_type": "execute_result"
    }
   ],
   "source": [
    "raw_experiment_sheet"
   ]
  },
  {
   "cell_type": "markdown",
   "id": "8ff9892f",
   "metadata": {},
   "source": [
    "## 2. Решение солвером CVXPY"
   ]
  },
  {
   "cell_type": "code",
   "execution_count": 146,
   "id": "ebd865e5",
   "metadata": {},
   "outputs": [],
   "source": [
    "def solve_oawrc(a, b):\n",
    "\n",
    "    a = np.asarray(a)\n",
    "\n",
    "    x = cp.Variable(a.shape[0])\n",
    "\n",
    "    objective = cp.Minimize(cp.sum(a @ cp.exp(x)))\n",
    "\n",
    "    constraints = [cp.sum(x) - b == 0]\n",
    "\n",
    "    prob = cp.Problem(objective, constraints)\n",
    "\n",
    "    try:\n",
    "        start_t = time.time()\n",
    "        result = prob.solve()\n",
    "        sovle_time = time.time() - start_t\n",
    "    except:\n",
    "        res = {\"cvxpy_x\": None, \"cvxpy_y\": None, \"cvxpy_t\": None}\n",
    "    else:\n",
    "        res = {\"cvxpy_x\": list(x.value), \"cvxpy_y\": result, \"cvxpy_t\": sovle_time}\n",
    "\n",
    "    return res"
   ]
  },
  {
   "cell_type": "code",
   "execution_count": 147,
   "id": "06f14da2",
   "metadata": {},
   "outputs": [],
   "source": [
    "raw_experiment_sheet = raw_experiment_sheet.with_columns(\n",
    "    (\n",
    "        pl.struct(\"a\", \"b\")\n",
    "        .map_elements(\n",
    "            lambda x: solve_oawrc(**x),\n",
    "            return_dtype=pl.Struct(\n",
    "                {\"cvxpy_x\": pl.List(float), \"cvxpy_y\": float, \"cvxpy_t\": float}\n",
    "            ),\n",
    "        )\n",
    "        .alias(\"cvxpy_out\")\n",
    "    )\n",
    ").unnest(\"cvxpy_out\")"
   ]
  },
  {
   "cell_type": "code",
   "execution_count": 148,
   "id": "510ca02a",
   "metadata": {},
   "outputs": [
    {
     "data": {
      "text/html": [
       "<div><style>\n",
       ".dataframe > thead > tr,\n",
       ".dataframe > tbody > tr {\n",
       "  text-align: right;\n",
       "  white-space: pre-wrap;\n",
       "}\n",
       "</style>\n",
       "<small>shape: (1_000, 6)</small><table border=\"1\" class=\"dataframe\"><thead><tr><th>dim</th><th>a</th><th>b</th><th>cvxpy_x</th><th>cvxpy_y</th><th>cvxpy_t</th></tr><tr><td>i64</td><td>list[f64]</td><td>f64</td><td>list[f64]</td><td>f64</td><td>f64</td></tr></thead><tbody><tr><td>10</td><td>[2.493259, 7.169756, … 8.358499]</td><td>-7.459575</td><td>[-0.331797, -1.388131, … -1.541524]</td><td>17.893207</td><td>0.00525</td></tr><tr><td>10</td><td>[3.557954, 1.303087, … 7.090329]</td><td>-6.781608</td><td>[-0.617977, 0.386464, … -1.307528]</td><td>19.178641</td><td>0.003252</td></tr><tr><td>10</td><td>[5.089566, 2.735855, … 0.254117]</td><td>-9.201723</td><td>[-1.212595, -0.591848, … 1.784458]</td><td>15.137386</td><td>0.002485</td></tr><tr><td>10</td><td>[2.642611, 7.524052, … 8.857005]</td><td>3.320509</td><td>[0.430925, -0.615437, … -0.778542]</td><td>40.659835</td><td>0.002588</td></tr><tr><td>10</td><td>[9.975331, 0.425117, … 8.308354]</td><td>-0.691465</td><td>[-1.07519, 2.080394, … -0.892341]</td><td>34.039601</td><td>0.002499</td></tr><tr><td>&hellip;</td><td>&hellip;</td><td>&hellip;</td><td>&hellip;</td><td>&hellip;</td><td>&hellip;</td></tr><tr><td>100</td><td>[6.339542, 0.135605, … 8.041473]</td><td>-2.834098</td><td>[-0.5982, 3.246568, … -0.835997]</td><td>348.545572</td><td>0.003595</td></tr><tr><td>100</td><td>[7.724265, 2.763721, … 1.957112]</td><td>-0.778715</td><td>[-0.718903, 0.308924, … 0.653943]</td><td>376.40253</td><td>0.00358</td></tr><tr><td>100</td><td>[1.423904, 9.421519, … 1.857509]</td><td>-2.019832</td><td>[0.986949, -0.902371, … 0.721109]</td><td>382.039058</td><td>0.003087</td></tr><tr><td>100</td><td>[7.15173, 6.978215, … 8.29185]</td><td>4.221411</td><td>[-0.674545, -0.649921, … -0.822574]</td><td>364.293564</td><td>0.003889</td></tr><tr><td>100</td><td>[5.13129, 3.181561, … 7.639559]</td><td>-2.782651</td><td>[-0.277782, 0.200068, … -0.675871]</td><td>388.621039</td><td>0.005188</td></tr></tbody></table></div>"
      ],
      "text/plain": [
       "shape: (1_000, 6)\n",
       "┌─────┬────────────────────────┬───────────┬──────────────────────────┬────────────┬──────────┐\n",
       "│ dim ┆ a                      ┆ b         ┆ cvxpy_x                  ┆ cvxpy_y    ┆ cvxpy_t  │\n",
       "│ --- ┆ ---                    ┆ ---       ┆ ---                      ┆ ---        ┆ ---      │\n",
       "│ i64 ┆ list[f64]              ┆ f64       ┆ list[f64]                ┆ f64        ┆ f64      │\n",
       "╞═════╪════════════════════════╪═══════════╪══════════════════════════╪════════════╪══════════╡\n",
       "│ 10  ┆ [2.493259, 7.169756, … ┆ -7.459575 ┆ [-0.331797, -1.388131, … ┆ 17.893207  ┆ 0.00525  │\n",
       "│     ┆ 8.35849…               ┆           ┆ -1.54…                   ┆            ┆          │\n",
       "│ 10  ┆ [3.557954, 1.303087, … ┆ -6.781608 ┆ [-0.617977, 0.386464, …  ┆ 19.178641  ┆ 0.003252 │\n",
       "│     ┆ 7.09032…               ┆           ┆ -1.307…                  ┆            ┆          │\n",
       "│ 10  ┆ [5.089566, 2.735855, … ┆ -9.201723 ┆ [-1.212595, -0.591848, … ┆ 15.137386  ┆ 0.002485 │\n",
       "│     ┆ 0.25411…               ┆           ┆ 1.784…                   ┆            ┆          │\n",
       "│ 10  ┆ [2.642611, 7.524052, … ┆ 3.320509  ┆ [0.430925, -0.615437, …  ┆ 40.659835  ┆ 0.002588 │\n",
       "│     ┆ 8.85700…               ┆           ┆ -0.778…                  ┆            ┆          │\n",
       "│ 10  ┆ [9.975331, 0.425117, … ┆ -0.691465 ┆ [-1.07519, 2.080394, …   ┆ 34.039601  ┆ 0.002499 │\n",
       "│     ┆ 8.30835…               ┆           ┆ -0.8923…                 ┆            ┆          │\n",
       "│ …   ┆ …                      ┆ …         ┆ …                        ┆ …          ┆ …        │\n",
       "│ 100 ┆ [6.339542, 0.135605, … ┆ -2.834098 ┆ [-0.5982, 3.246568, …    ┆ 348.545572 ┆ 0.003595 │\n",
       "│     ┆ 8.04147…               ┆           ┆ -0.83599…                ┆            ┆          │\n",
       "│ 100 ┆ [7.724265, 2.763721, … ┆ -0.778715 ┆ [-0.718903, 0.308924, …  ┆ 376.40253  ┆ 0.00358  │\n",
       "│     ┆ 1.95711…               ┆           ┆ 0.6539…                  ┆            ┆          │\n",
       "│ 100 ┆ [1.423904, 9.421519, … ┆ -2.019832 ┆ [0.986949, -0.902371, …  ┆ 382.039058 ┆ 0.003087 │\n",
       "│     ┆ 1.85750…               ┆           ┆ 0.7211…                  ┆            ┆          │\n",
       "│ 100 ┆ [7.15173, 6.978215, …  ┆ 4.221411  ┆ [-0.674545, -0.649921, … ┆ 364.293564 ┆ 0.003889 │\n",
       "│     ┆ 8.29185]               ┆           ┆ -0.82…                   ┆            ┆          │\n",
       "│ 100 ┆ [5.13129, 3.181561, …  ┆ -2.782651 ┆ [-0.277782, 0.200068, …  ┆ 388.621039 ┆ 0.005188 │\n",
       "│     ┆ 7.639559…              ┆           ┆ -0.675…                  ┆            ┆          │\n",
       "└─────┴────────────────────────┴───────────┴──────────────────────────┴────────────┴──────────┘"
      ]
     },
     "execution_count": 148,
     "metadata": {},
     "output_type": "execute_result"
    }
   ],
   "source": [
    "raw_experiment_sheet"
   ]
  },
  {
   "cell_type": "markdown",
   "id": "523e1824",
   "metadata": {},
   "source": [
    "## 3. Решение прямой задачи методом Ньютона "
   ]
  },
  {
   "cell_type": "code",
   "execution_count": 149,
   "id": "aad5b752",
   "metadata": {},
   "outputs": [],
   "source": [
    "def random_sum_bound(dim, b):\n",
    "    rnd = np.random.uniform(size=dim)\n",
    "    return list(rnd / rnd.sum() * b)"
   ]
  },
  {
   "cell_type": "code",
   "execution_count": 150,
   "id": "0d8e1625",
   "metadata": {},
   "outputs": [],
   "source": [
    "raw_experiment_sheet = raw_experiment_sheet.select(\n",
    "    pl.all().repeat_by(n_seeds).flatten()\n",
    ").with_columns(\n",
    "    pl.struct(\"dim\", \"b\")\n",
    "    .map_elements(lambda x: random_sum_bound(**x), return_dtype=pl.List(float))\n",
    "    .alias(\"x_init\")\n",
    ")\n",
    "raw_experiment_sheet = raw_experiment_sheet.with_columns(pl.lit(np.random.uniform(size=len(raw_experiment_sheet))).alias(\"nu_init\"))"
   ]
  },
  {
   "cell_type": "code",
   "execution_count": 151,
   "id": "e1d82275",
   "metadata": {},
   "outputs": [],
   "source": [
    "raw_experiment_sheet = raw_experiment_sheet.drop_nans()"
   ]
  },
  {
   "cell_type": "code",
   "execution_count": 152,
   "id": "d5ca4b28",
   "metadata": {},
   "outputs": [],
   "source": [
    "def f(x, a):\n",
    "    return np.dot(a, np.exp(x)).reshape(1,1)\n",
    "\n",
    "def grad_f(x, a):\n",
    "    return (a * np.exp(x)).reshape(1,-1)\n",
    "\n",
    "def hessian_f(x, a):\n",
    "    return np.diag(a * np.exp(x))\n",
    "\n",
    "def g(x, b):\n",
    "    return np.array([np.sum(np.asarray(x)) - b]).reshape(1,1)\n",
    "\n",
    "def grad_g(x):\n",
    "    return np.ones(len(x)).reshape(1,-1)\n",
    "\n",
    "def hessian_g(x):\n",
    "    return np.zeros([len(x)]*2)"
   ]
  },
  {
   "cell_type": "code",
   "execution_count": 153,
   "id": "d5592bf9",
   "metadata": {},
   "outputs": [],
   "source": [
    "def solve_oawrc_newton(a, b, x_init, nu_init, cvxpy_y, eps=0.01, max_iters=10000):\n",
    "    sovle_time = 0\n",
    "    newton_hist_y = []\n",
    "    newton_hist_ops = []\n",
    "\n",
    "    x = np.asarray(x_init)\n",
    "    a = np.asarray(a)\n",
    "    nu = nu_init\n",
    "    \n",
    "    for i in range(max_iters):\n",
    "        iter_ops = 0\n",
    "        start_t_iter = time.time()\n",
    "\n",
    "        grad_L = grad_f(x, a) - grad_g(x) * nu\n",
    "        hessian_L = hessian_f(x, a)\n",
    "\n",
    "        iter_ops += int(3*grad_L.shape[-1])\n",
    "\n",
    "        hessian_L_full = np.block([\n",
    "            [hessian_L, grad_g(x).T],\n",
    "            [grad_g(x), np.zeros([1,1])]\n",
    "        ])\n",
    "        \n",
    "        grad_L_full = np.concatenate([grad_L, g(x, b).reshape(1,-1)], axis = -1)\n",
    "        d = np.linalg.solve(hessian_L_full, -grad_L_full.T)\n",
    "\n",
    "        iter_ops += int(hessian_L_full.shape[0]**3)\n",
    "\n",
    "        x += d[:len(x),0]\n",
    "        nu += d[len(x):,0]\n",
    "\n",
    "        iter_ops += d.shape[0]\n",
    "\n",
    "        sovle_time += time.time() - start_t_iter\n",
    "        newton_hist_y.append(float(f(x, a)[0]))\n",
    "        newton_hist_ops.append(int(i*iter_ops))\n",
    "\n",
    "        if np.abs(f(x, a)[0] - cvxpy_y) < eps:\n",
    "            break\n",
    "    \n",
    "    return {\"newton_x\": x.tolist(), \"newton_y\": f(x, a)[0], \"newton_t\": sovle_time, \"newton_hist_ops\": newton_hist_ops, \"newton_hist_y\": newton_hist_y}"
   ]
  },
  {
   "cell_type": "code",
   "execution_count": 154,
   "id": "6e7d244f",
   "metadata": {},
   "outputs": [
    {
     "name": "stderr",
     "output_type": "stream",
     "text": [
      "/tmp/ipykernel_20096/2671493511.py:35: DeprecationWarning: Conversion of an array with ndim > 0 to a scalar is deprecated, and will error in future. Ensure you extract a single element from your array before performing this operation. (Deprecated NumPy 1.25.)\n",
      "  newton_hist_y.append(float(f(x, a)[0]))\n"
     ]
    }
   ],
   "source": [
    "raw_experiment_sheet = raw_experiment_sheet.with_columns(\n",
    "    (\n",
    "        pl.struct(\"a\", \"b\", \"x_init\", \"nu_init\", \"cvxpy_y\")\n",
    "        .map_elements(\n",
    "            lambda x: solve_oawrc_newton(**x),\n",
    "            return_dtype=pl.Struct(\n",
    "                {\"newton_x\": pl.List(float), \"newton_y\": float, \"newton_t\": float, \"newton_hist_ops\": pl.List(int), \"newton_hist_y\": pl.List(float)}\n",
    "            ),\n",
    "        )\n",
    "        .alias(\"newton_out\")\n",
    "    )\n",
    ").unnest(\"newton_out\")"
   ]
  },
  {
   "cell_type": "code",
   "execution_count": 155,
   "id": "3bf10380",
   "metadata": {},
   "outputs": [
    {
     "data": {
      "text/html": [
       "<div><style>\n",
       ".dataframe > thead > tr,\n",
       ".dataframe > tbody > tr {\n",
       "  text-align: right;\n",
       "  white-space: pre-wrap;\n",
       "}\n",
       "</style>\n",
       "<small>shape: (100_000, 13)</small><table border=\"1\" class=\"dataframe\"><thead><tr><th>dim</th><th>a</th><th>b</th><th>cvxpy_x</th><th>cvxpy_y</th><th>cvxpy_t</th><th>x_init</th><th>nu_init</th><th>newton_x</th><th>newton_y</th><th>newton_t</th><th>newton_hist_ops</th><th>newton_hist_y</th></tr><tr><td>i64</td><td>list[f64]</td><td>f64</td><td>list[f64]</td><td>f64</td><td>f64</td><td>list[f64]</td><td>f64</td><td>list[f64]</td><td>f64</td><td>f64</td><td>list[i64]</td><td>list[f64]</td></tr></thead><tbody><tr><td>10</td><td>[2.493259, 7.169756, … 8.358499]</td><td>-7.459575</td><td>[-0.331797, -1.388131, … -1.541524]</td><td>17.893207</td><td>0.00525</td><td>[-1.335779, -0.522027, … -0.325977]</td><td>0.678465</td><td>[-0.315413, -1.396625, … -1.55411]</td><td>17.897613</td><td>0.000421</td><td>[0, 1372, 2744]</td><td>[20.475218, 18.165151, 17.897613]</td></tr><tr><td>10</td><td>[2.493259, 7.169756, … 8.358499]</td><td>-7.459575</td><td>[-0.331797, -1.388131, … -1.541524]</td><td>17.893207</td><td>0.00525</td><td>[-0.687726, -1.066422, … -0.130056]</td><td>0.655194</td><td>[-0.332615, -1.388934, … -1.542329]</td><td>17.893271</td><td>0.000187</td><td>[0, 1372, … 4116]</td><td>[21.67056, 18.351807, … 17.893271]</td></tr><tr><td>10</td><td>[2.493259, 7.169756, … 8.358499]</td><td>-7.459575</td><td>[-0.331797, -1.388131, … -1.541524]</td><td>17.893207</td><td>0.00525</td><td>[-0.910784, -0.153179, … -0.056987]</td><td>0.529198</td><td>[-0.338265, -1.394645, … -1.543084]</td><td>17.894702</td><td>0.000127</td><td>[0, 1372, 2744]</td><td>[20.50199, 18.027724, 17.894702]</td></tr><tr><td>10</td><td>[2.493259, 7.169756, … 8.358499]</td><td>-7.459575</td><td>[-0.331797, -1.388131, … -1.541524]</td><td>17.893207</td><td>0.00525</td><td>[-1.092097, -0.268626, … -0.565674]</td><td>0.292508</td><td>[-0.338301, -1.394666, … -1.548208]</td><td>17.896859</td><td>0.000164</td><td>[0, 1372, … 4116]</td><td>[26.757062, 19.454891, … 17.896859]</td></tr><tr><td>10</td><td>[2.493259, 7.169756, … 8.358499]</td><td>-7.459575</td><td>[-0.331797, -1.388131, … -1.541524]</td><td>17.893207</td><td>0.00525</td><td>[-0.423041, -1.201635, … -0.206343]</td><td>0.212297</td><td>[-0.333914, -1.389384, … -1.54159]</td><td>17.893324</td><td>0.000159</td><td>[0, 1372, 2744]</td><td>[19.437801, 17.934175, 17.893324]</td></tr><tr><td>&hellip;</td><td>&hellip;</td><td>&hellip;</td><td>&hellip;</td><td>&hellip;</td><td>&hellip;</td><td>&hellip;</td><td>&hellip;</td><td>&hellip;</td><td>&hellip;</td><td>&hellip;</td><td>&hellip;</td><td>&hellip;</td></tr><tr><td>100</td><td>[5.13129, 3.181561, … 7.639559]</td><td>-2.782651</td><td>[-0.277782, 0.200068, … -0.675871]</td><td>388.621039</td><td>0.005188</td><td>[-0.040527, -0.013429, … -0.040299]</td><td>0.197275</td><td>[-0.278079, 0.199907, … -0.676061]</td><td>388.621508</td><td>0.001018</td><td>[0, 1030702, … 14429828]</td><td>[841788.006746, 309878.273767, … 388.621508]</td></tr><tr><td>100</td><td>[5.13129, 3.181561, … 7.639559]</td><td>-2.782651</td><td>[-0.277782, 0.200068, … -0.675871]</td><td>388.621039</td><td>0.005188</td><td>[-0.015799, -0.032692, … -0.019232]</td><td>0.132196</td><td>[-0.278028, 0.199957, … -0.676011]</td><td>388.621252</td><td>0.00102</td><td>[0, 1030702, … 14429828]</td><td>[753258.885155, 277309.983105, … 388.621252]</td></tr><tr><td>100</td><td>[5.13129, 3.181561, … 7.639559]</td><td>-2.782651</td><td>[-0.277782, 0.200068, … -0.675871]</td><td>388.621039</td><td>0.005188</td><td>[-0.016878, -0.00459, … -0.048505]</td><td>0.942385</td><td>[-0.277992, 0.199993, … -0.675975]</td><td>388.62113</td><td>0.001034</td><td>[0, 1030702, … 14429828]</td><td>[674804.202171, 248448.317004, … 388.62113]</td></tr><tr><td>100</td><td>[5.13129, 3.181561, … 7.639559]</td><td>-2.782651</td><td>[-0.277782, 0.200068, … -0.675871]</td><td>388.621039</td><td>0.005188</td><td>[-0.001901, -0.04329, … -0.04023]</td><td>0.780781</td><td>[-0.27807, 0.199916, … -0.676052]</td><td>388.621456</td><td>0.001019</td><td>[0, 1030702, … 14429828]</td><td>[827383.838261, 304579.280976, … 388.621456]</td></tr><tr><td>100</td><td>[5.13129, 3.181561, … 7.639559]</td><td>-2.782651</td><td>[-0.277782, 0.200068, … -0.675871]</td><td>388.621039</td><td>0.005188</td><td>[-0.009786, -0.013671, … -0.013175]</td><td>0.903226</td><td>[-0.278025, 0.199961, … -0.676007]</td><td>388.621238</td><td>0.001489</td><td>[0, 1030702, … 14429828]</td><td>[746689.912016, 274893.536067, … 388.621238]</td></tr></tbody></table></div>"
      ],
      "text/plain": [
       "shape: (100_000, 13)\n",
       "┌─────┬─────────────┬───────────┬────────────┬───┬────────────┬──────────┬────────────┬────────────┐\n",
       "│ dim ┆ a           ┆ b         ┆ cvxpy_x    ┆ … ┆ newton_y   ┆ newton_t ┆ newton_his ┆ newton_his │\n",
       "│ --- ┆ ---         ┆ ---       ┆ ---        ┆   ┆ ---        ┆ ---      ┆ t_ops      ┆ t_y        │\n",
       "│ i64 ┆ list[f64]   ┆ f64       ┆ list[f64]  ┆   ┆ f64        ┆ f64      ┆ ---        ┆ ---        │\n",
       "│     ┆             ┆           ┆            ┆   ┆            ┆          ┆ list[i64]  ┆ list[f64]  │\n",
       "╞═════╪═════════════╪═══════════╪════════════╪═══╪════════════╪══════════╪════════════╪════════════╡\n",
       "│ 10  ┆ [2.493259,  ┆ -7.459575 ┆ [-0.331797 ┆ … ┆ 17.897613  ┆ 0.000421 ┆ [0, 1372,  ┆ [20.475218 │\n",
       "│     ┆ 7.169756, … ┆           ┆ ,          ┆   ┆            ┆          ┆ 2744]      ┆ ,          │\n",
       "│     ┆ 8.35849…    ┆           ┆ -1.388131, ┆   ┆            ┆          ┆            ┆ 18.165151, │\n",
       "│     ┆             ┆           ┆ … -1.54…   ┆   ┆            ┆          ┆            ┆ 17.8976…   │\n",
       "│ 10  ┆ [2.493259,  ┆ -7.459575 ┆ [-0.331797 ┆ … ┆ 17.893271  ┆ 0.000187 ┆ [0, 1372,  ┆ [21.67056, │\n",
       "│     ┆ 7.169756, … ┆           ┆ ,          ┆   ┆            ┆          ┆ … 4116]    ┆ 18.351807, │\n",
       "│     ┆ 8.35849…    ┆           ┆ -1.388131, ┆   ┆            ┆          ┆            ┆ … 17.893…  │\n",
       "│     ┆             ┆           ┆ … -1.54…   ┆   ┆            ┆          ┆            ┆            │\n",
       "│ 10  ┆ [2.493259,  ┆ -7.459575 ┆ [-0.331797 ┆ … ┆ 17.894702  ┆ 0.000127 ┆ [0, 1372,  ┆ [20.50199, │\n",
       "│     ┆ 7.169756, … ┆           ┆ ,          ┆   ┆            ┆          ┆ 2744]      ┆ 18.027724, │\n",
       "│     ┆ 8.35849…    ┆           ┆ -1.388131, ┆   ┆            ┆          ┆            ┆ 17.89470…  │\n",
       "│     ┆             ┆           ┆ … -1.54…   ┆   ┆            ┆          ┆            ┆            │\n",
       "│ 10  ┆ [2.493259,  ┆ -7.459575 ┆ [-0.331797 ┆ … ┆ 17.896859  ┆ 0.000164 ┆ [0, 1372,  ┆ [26.757062 │\n",
       "│     ┆ 7.169756, … ┆           ┆ ,          ┆   ┆            ┆          ┆ … 4116]    ┆ ,          │\n",
       "│     ┆ 8.35849…    ┆           ┆ -1.388131, ┆   ┆            ┆          ┆            ┆ 19.454891, │\n",
       "│     ┆             ┆           ┆ … -1.54…   ┆   ┆            ┆          ┆            ┆ … 17.89…   │\n",
       "│ 10  ┆ [2.493259,  ┆ -7.459575 ┆ [-0.331797 ┆ … ┆ 17.893324  ┆ 0.000159 ┆ [0, 1372,  ┆ [19.437801 │\n",
       "│     ┆ 7.169756, … ┆           ┆ ,          ┆   ┆            ┆          ┆ 2744]      ┆ ,          │\n",
       "│     ┆ 8.35849…    ┆           ┆ -1.388131, ┆   ┆            ┆          ┆            ┆ 17.934175, │\n",
       "│     ┆             ┆           ┆ … -1.54…   ┆   ┆            ┆          ┆            ┆ 17.8933…   │\n",
       "│ …   ┆ …           ┆ …         ┆ …          ┆ … ┆ …          ┆ …        ┆ …          ┆ …          │\n",
       "│ 100 ┆ [5.13129,   ┆ -2.782651 ┆ [-0.277782 ┆ … ┆ 388.621508 ┆ 0.001018 ┆ [0,        ┆ [841788.00 │\n",
       "│     ┆ 3.181561, … ┆           ┆ ,          ┆   ┆            ┆          ┆ 1030702, … ┆ 6746, 3098 │\n",
       "│     ┆ 7.639559…   ┆           ┆ 0.200068,  ┆   ┆            ┆          ┆ 14429828]  ┆ 78.273767, │\n",
       "│     ┆             ┆           ┆ … -0.675…  ┆   ┆            ┆          ┆            ┆ …          │\n",
       "│ 100 ┆ [5.13129,   ┆ -2.782651 ┆ [-0.277782 ┆ … ┆ 388.621252 ┆ 0.00102  ┆ [0,        ┆ [753258.88 │\n",
       "│     ┆ 3.181561, … ┆           ┆ ,          ┆   ┆            ┆          ┆ 1030702, … ┆ 5155, 2773 │\n",
       "│     ┆ 7.639559…   ┆           ┆ 0.200068,  ┆   ┆            ┆          ┆ 14429828]  ┆ 09.983105, │\n",
       "│     ┆             ┆           ┆ … -0.675…  ┆   ┆            ┆          ┆            ┆ …          │\n",
       "│ 100 ┆ [5.13129,   ┆ -2.782651 ┆ [-0.277782 ┆ … ┆ 388.62113  ┆ 0.001034 ┆ [0,        ┆ [674804.20 │\n",
       "│     ┆ 3.181561, … ┆           ┆ ,          ┆   ┆            ┆          ┆ 1030702, … ┆ 2171, 2484 │\n",
       "│     ┆ 7.639559…   ┆           ┆ 0.200068,  ┆   ┆            ┆          ┆ 14429828]  ┆ 48.317004, │\n",
       "│     ┆             ┆           ┆ … -0.675…  ┆   ┆            ┆          ┆            ┆ …          │\n",
       "│ 100 ┆ [5.13129,   ┆ -2.782651 ┆ [-0.277782 ┆ … ┆ 388.621456 ┆ 0.001019 ┆ [0,        ┆ [827383.83 │\n",
       "│     ┆ 3.181561, … ┆           ┆ ,          ┆   ┆            ┆          ┆ 1030702, … ┆ 8261, 3045 │\n",
       "│     ┆ 7.639559…   ┆           ┆ 0.200068,  ┆   ┆            ┆          ┆ 14429828]  ┆ 79.280976, │\n",
       "│     ┆             ┆           ┆ … -0.675…  ┆   ┆            ┆          ┆            ┆ …          │\n",
       "│ 100 ┆ [5.13129,   ┆ -2.782651 ┆ [-0.277782 ┆ … ┆ 388.621238 ┆ 0.001489 ┆ [0,        ┆ [746689.91 │\n",
       "│     ┆ 3.181561, … ┆           ┆ ,          ┆   ┆            ┆          ┆ 1030702, … ┆ 2016, 2748 │\n",
       "│     ┆ 7.639559…   ┆           ┆ 0.200068,  ┆   ┆            ┆          ┆ 14429828]  ┆ 93.536067, │\n",
       "│     ┆             ┆           ┆ … -0.675…  ┆   ┆            ┆          ┆            ┆ …          │\n",
       "└─────┴─────────────┴───────────┴────────────┴───┴────────────┴──────────┴────────────┴────────────┘"
      ]
     },
     "execution_count": 155,
     "metadata": {},
     "output_type": "execute_result"
    }
   ],
   "source": [
    "raw_experiment_sheet"
   ]
  },
  {
   "cell_type": "markdown",
   "id": "84008abe",
   "metadata": {},
   "source": [
    "# III. Анализ зависимостей"
   ]
  },
  {
   "cell_type": "markdown",
   "id": "b760f5fb",
   "metadata": {},
   "source": [
    "# IV. Выводы"
   ]
  },
  {
   "cell_type": "markdown",
   "id": "45f5eb12",
   "metadata": {},
   "source": []
  }
 ],
 "metadata": {
  "kernelspec": {
   "display_name": ".venv",
   "language": "python",
   "name": "python3"
  },
  "language_info": {
   "codemirror_mode": {
    "name": "ipython",
    "version": 3
   },
   "file_extension": ".py",
   "mimetype": "text/x-python",
   "name": "python",
   "nbconvert_exporter": "python",
   "pygments_lexer": "ipython3",
   "version": "3.12.3"
  }
 },
 "nbformat": 4,
 "nbformat_minor": 5
}
