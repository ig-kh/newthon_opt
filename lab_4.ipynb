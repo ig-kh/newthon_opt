{
 "cells": [
  {
   "cell_type": "markdown",
   "id": "ba9c65ae",
   "metadata": {},
   "source": [
    "# I. Введение логарифмического барьера, выпуклость задачи."
   ]
  },
  {
   "cell_type": "markdown",
   "id": "61957af0",
   "metadata": {},
   "source": [
    "## 1. Критерий выпуклости второго порядка"
   ]
  },
  {
   "cell_type": "markdown",
   "id": "778f9dee",
   "metadata": {},
   "source": [
    "Optimal allocation with resource constraint:\n",
    "$$f_{i}\\left(x_{i}\\right) = a_{i}e^{x_{i}}, a_{i} > 0, i \\in \\{ 1, ..., n\\}$$"
   ]
  },
  {
   "cell_type": "markdown",
   "id": "96dbbe40",
   "metadata": {},
   "source": [
    "Также ограничение бюджета:\n",
    "$$\\sum^{n}_{i=1}x_{i} = b, b \\in R$$"
   ]
  },
  {
   "cell_type": "markdown",
   "id": "73c96a48",
   "metadata": {},
   "source": [
    "Дополнительное ограничение:\n",
    "$$x_i \\geq \\frac{b}{2n} $$"
   ]
  },
  {
   "cell_type": "markdown",
   "id": "384a0c11",
   "metadata": {},
   "source": [
    "Задача минимизации:\n",
    "$$\\sum^{n}_{i=1}a_{i}e^{x_{i}} \\rightarrow min, a_{i} > 0, i \\in \\{ 1, ..., n\\}$$"
   ]
  },
  {
   "cell_type": "markdown",
   "id": "10c9f198",
   "metadata": {},
   "source": [
    "Задача с ограничениями:\n",
    "$$\\sum^{n}_{i=1}a_{i}e^{x_{i}} \\rightarrow min, a_{i} > 0, i \\in \\{ 1, ..., n\\},$$\n",
    "$$\n",
    "S.t. \\sum^{n}_{i=1}x_{i} = b, \\\n",
    "\n",
    "x_i \\geq \\frac{b}{2n}, i \\in \\{ 1, ..., n\\},  \\in R$$"
   ]
  },
  {
   "cell_type": "markdown",
   "id": "7583fcee",
   "metadata": {},
   "source": [
    "Обозначим ограничение-неравенство через $g(x_i) = \\frac{b}{2n} - x_i \\leq 0$.\n",
    "\n",
    "Введем логарифмический барьер:\n",
    "$$\n",
    "\\phi(x) = -\\frac{1}{t} \\sum_{i=1}^{n} \\ln(-g(x_i)) = -\\frac{1}{t} \\sum_{i=1}^{n} \\ln( x_i - \\frac{b}{2n}), где   t > 0 - фикс.\n",
    "$$ \n",
    "\n",
    "Итоговая задача с барьером:\n",
    "\n",
    "$$\\sum^{n}_{i=1} \\left( a_{i} e^{x_{i}} -\\frac{1}{t} \\ln( x_i - \\frac{b}{2n}) \\right) \\rightarrow min, a_{i} > 0, i \\in \\{ 1, ..., n\\}, t > 0$$\n",
    "$$\n",
    "S.t. \\sum^{n}_{i=1}x_{i} = b, b  \\in R$$"
   ]
  },
  {
   "cell_type": "markdown",
   "id": "041956f8",
   "metadata": {},
   "source": [
    "Для изучения выпуклости рассмотрим гессиан оптимизируемой функции:\n",
    "$$H(x)_{i,j} = 0, i \\neq j$$\n",
    "$$H(x)_{i,j} = a_{i}e^{x_{i}} + \\frac{1}{t(x_i - \\frac{b}{2n})^2}, i = j$$\n",
    "$$\\text{При } a_{i} > 0 \\text{ и } t > 0 \\text{ очевидно, что } H(x)_{i,i} > 0, \\text{ так как } \\forall x \\in R: e^{x_{i}} > 0 \\text{ и } \\frac{1}{(x_i - \\frac{b}{2n})^2} > 0$$\n",
    "Матрица такого вида является положительно определенной."
   ]
  },
  {
   "cell_type": "markdown",
   "id": "f996d725",
   "metadata": {},
   "source": [
    "Так же рассмотрим знакоопределенность гессиана ограничения:\n",
    "$$H(x) = \\textbf{0}$$ "
   ]
  },
  {
   "cell_type": "markdown",
   "id": "856719b9",
   "metadata": {},
   "source": [
    "Таким образом, рассматриваемая барьерная задача является выпуклой."
   ]
  },
  {
   "cell_type": "markdown",
   "id": "e95bf5b4",
   "metadata": {},
   "source": [
    "# II. Решение тестовых примеров"
   ]
  },
  {
   "cell_type": "code",
   "execution_count": 1,
   "id": "cda79a75",
   "metadata": {},
   "outputs": [],
   "source": [
    "import numpy as np\n",
    "import cvxpy as cp\n",
    "import time\n",
    "import polars as pl\n",
    "import matplotlib.pyplot as plt\n",
    "import plotly.graph_objects as go\n",
    "from plotly.subplots import make_subplots"
   ]
  },
  {
   "cell_type": "markdown",
   "id": "01671441",
   "metadata": {},
   "source": [
    "## 1. Генерация примеров"
   ]
  },
  {
   "cell_type": "code",
   "execution_count": 25,
   "id": "5949eab8",
   "metadata": {},
   "outputs": [],
   "source": [
    "n_dims = range(10, 110, 10)\n",
    "n_examples = 5\n",
    "n_seeds = 5"
   ]
  },
  {
   "cell_type": "code",
   "execution_count": 28,
   "id": "c6ac7673",
   "metadata": {},
   "outputs": [],
   "source": [
    "raw_experiment_sheet = pl.DataFrame({\"dim\": n_dims}).select(\n",
    "    pl.all().repeat_by(n_examples).flatten()\n",
    ")"
   ]
  },
  {
   "cell_type": "code",
   "execution_count": 29,
   "id": "bb5881fc",
   "metadata": {},
   "outputs": [],
   "source": [
    "raw_experiment_sheet = raw_experiment_sheet.with_columns(\n",
    "    pl.col(\"dim\")\n",
    "    .map_elements(\n",
    "        lambda dim_: np.random.uniform(low=0.1, high=10, size=dim_),\n",
    "        return_dtype=pl.List(float),\n",
    "        returns_scalar=False,\n",
    "    )\n",
    "    .alias(\"a\"),\n",
    "    pl.col(\"dim\")\n",
    "    .map_elements(\n",
    "        lambda dim_: np.random.uniform(low=0, high=10, size=1),\n",
    "        return_dtype=float,\n",
    "        returns_scalar=True,\n",
    "    )\n",
    "    .alias(\"b\"),\n",
    ")"
   ]
  },
  {
   "cell_type": "code",
   "execution_count": 30,
   "id": "c47405b8",
   "metadata": {},
   "outputs": [
    {
     "data": {
      "text/html": [
       "<div><style>\n",
       ".dataframe > thead > tr,\n",
       ".dataframe > tbody > tr {\n",
       "  text-align: right;\n",
       "  white-space: pre-wrap;\n",
       "}\n",
       "</style>\n",
       "<small>shape: (50, 3)</small><table border=\"1\" class=\"dataframe\"><thead><tr><th>dim</th><th>a</th><th>b</th></tr><tr><td>i64</td><td>list[f64]</td><td>f64</td></tr></thead><tbody><tr><td>10</td><td>[2.266699, 6.338006, … 9.679609]</td><td>0.536932</td></tr><tr><td>10</td><td>[1.494705, 2.642139, … 0.857276]</td><td>5.722819</td></tr><tr><td>10</td><td>[0.705691, 4.232732, … 9.117765]</td><td>0.943189</td></tr><tr><td>10</td><td>[3.910042, 2.236563, … 6.208344]</td><td>5.714863</td></tr><tr><td>10</td><td>[2.658745, 5.041897, … 5.856035]</td><td>4.240225</td></tr><tr><td>&hellip;</td><td>&hellip;</td><td>&hellip;</td></tr><tr><td>100</td><td>[7.183344, 8.056831, … 2.8046]</td><td>3.50619</td></tr><tr><td>100</td><td>[3.958926, 2.361616, … 2.60997]</td><td>5.235832</td></tr><tr><td>100</td><td>[2.901908, 4.285501, … 8.568109]</td><td>3.268357</td></tr><tr><td>100</td><td>[5.258642, 2.276626, … 9.123123]</td><td>9.158411</td></tr><tr><td>100</td><td>[6.185764, 5.141971, … 7.544346]</td><td>7.533661</td></tr></tbody></table></div>"
      ],
      "text/plain": [
       "shape: (50, 3)\n",
       "┌─────┬─────────────────────────────────┬──────────┐\n",
       "│ dim ┆ a                               ┆ b        │\n",
       "│ --- ┆ ---                             ┆ ---      │\n",
       "│ i64 ┆ list[f64]                       ┆ f64      │\n",
       "╞═════╪═════════════════════════════════╪══════════╡\n",
       "│ 10  ┆ [2.266699, 6.338006, … 9.67960… ┆ 0.536932 │\n",
       "│ 10  ┆ [1.494705, 2.642139, … 0.85727… ┆ 5.722819 │\n",
       "│ 10  ┆ [0.705691, 4.232732, … 9.11776… ┆ 0.943189 │\n",
       "│ 10  ┆ [3.910042, 2.236563, … 6.20834… ┆ 5.714863 │\n",
       "│ 10  ┆ [2.658745, 5.041897, … 5.85603… ┆ 4.240225 │\n",
       "│ …   ┆ …                               ┆ …        │\n",
       "│ 100 ┆ [7.183344, 8.056831, … 2.8046]  ┆ 3.50619  │\n",
       "│ 100 ┆ [3.958926, 2.361616, … 2.60997… ┆ 5.235832 │\n",
       "│ 100 ┆ [2.901908, 4.285501, … 8.56810… ┆ 3.268357 │\n",
       "│ 100 ┆ [5.258642, 2.276626, … 9.12312… ┆ 9.158411 │\n",
       "│ 100 ┆ [6.185764, 5.141971, … 7.54434… ┆ 7.533661 │\n",
       "└─────┴─────────────────────────────────┴──────────┘"
      ]
     },
     "execution_count": 30,
     "metadata": {},
     "output_type": "execute_result"
    }
   ],
   "source": [
    "raw_experiment_sheet"
   ]
  },
  {
   "cell_type": "markdown",
   "id": "8ff9892f",
   "metadata": {},
   "source": [
    "## 2. Решение солвером CVXPY"
   ]
  },
  {
   "cell_type": "code",
   "execution_count": 31,
   "id": "ebd865e5",
   "metadata": {},
   "outputs": [],
   "source": [
    "def solve_oawrc(a, b):\n",
    "\n",
    "    a = np.asarray(a)\n",
    "    n = a.shape[0]\n",
    "    \n",
    "    x = cp.Variable(n)\n",
    "\n",
    "    objective = cp.Minimize(cp.sum(cp.multiply(a, cp.exp(x))))\n",
    "\n",
    "    constraints = [cp.sum(x) - b == 0, x >= b / (2 * n)]\n",
    "\n",
    "    prob = cp.Problem(objective, constraints)\n",
    "\n",
    "    try:\n",
    "        start_t = time.time()\n",
    "        result = prob.solve()\n",
    "        sovle_time = time.time() - start_t\n",
    "    except:\n",
    "        res = {\"cvxpy_x\": None, \"cvxpy_y\": None, \"cvxpy_t\": None}\n",
    "    else:\n",
    "        res = {\"cvxpy_x\": list(x.value), \"cvxpy_y\": result, \"cvxpy_t\": sovle_time}\n",
    "\n",
    "    return res"
   ]
  },
  {
   "cell_type": "code",
   "execution_count": 32,
   "id": "06f14da2",
   "metadata": {},
   "outputs": [],
   "source": [
    "raw_experiment_sheet = raw_experiment_sheet.with_columns(\n",
    "    (\n",
    "        pl.struct(\"a\", \"b\")\n",
    "        .map_elements(\n",
    "            lambda x: solve_oawrc(**x),\n",
    "            return_dtype=pl.Struct(\n",
    "                {\"cvxpy_x\": pl.List(float), \"cvxpy_y\": float, \"cvxpy_t\": float}\n",
    "            ),\n",
    "        )\n",
    "        .alias(\"cvxpy_out\")\n",
    "    )\n",
    ").unnest(\"cvxpy_out\")"
   ]
  },
  {
   "cell_type": "code",
   "execution_count": 33,
   "id": "510ca02a",
   "metadata": {},
   "outputs": [
    {
     "data": {
      "text/html": [
       "<div><style>\n",
       ".dataframe > thead > tr,\n",
       ".dataframe > tbody > tr {\n",
       "  text-align: right;\n",
       "  white-space: pre-wrap;\n",
       "}\n",
       "</style>\n",
       "<small>shape: (50, 6)</small><table border=\"1\" class=\"dataframe\"><thead><tr><th>dim</th><th>a</th><th>b</th><th>cvxpy_x</th><th>cvxpy_y</th><th>cvxpy_t</th></tr><tr><td>i64</td><td>list[f64]</td><td>f64</td><td>list[f64]</td><td>f64</td><td>f64</td></tr></thead><tbody><tr><td>10</td><td>[2.266699, 6.338006, … 9.679609]</td><td>0.536932</td><td>[0.026847, 0.026847, … 0.026847]</td><td>48.285159</td><td>0.031559</td></tr><tr><td>10</td><td>[1.494705, 2.642139, … 0.857276]</td><td>5.722819</td><td>[0.967273, 0.39774, … 1.523446]</td><td>56.113635</td><td>0.023103</td></tr><tr><td>10</td><td>[0.705691, 4.232732, … 9.117765]</td><td>0.943189</td><td>[0.04716, 0.047159, … 0.047159]</td><td>40.029509</td><td>0.016991</td></tr><tr><td>10</td><td>[3.910042, 2.236563, … 6.208344]</td><td>5.714863</td><td>[0.285743, 0.285743, … 0.285743]</td><td>50.715963</td><td>0.012339</td></tr><tr><td>10</td><td>[2.658745, 5.041897, … 5.856035]</td><td>4.240225</td><td>[0.276565, 0.212011, … 0.212011]</td><td>64.778584</td><td>0.008978</td></tr><tr><td>&hellip;</td><td>&hellip;</td><td>&hellip;</td><td>&hellip;</td><td>&hellip;</td><td>&hellip;</td></tr><tr><td>100</td><td>[7.183344, 8.056831, … 2.8046]</td><td>3.50619</td><td>[0.017531, 0.017531, … 0.017531]</td><td>499.712984</td><td>0.010377</td></tr><tr><td>100</td><td>[3.958926, 2.361616, … 2.60997]</td><td>5.235832</td><td>[0.026179, 0.026179, … 0.026179]</td><td>500.594255</td><td>0.011275</td></tr><tr><td>100</td><td>[2.901908, 4.285501, … 8.568109]</td><td>3.268357</td><td>[0.016342, 0.016342, … 0.016342]</td><td>518.123097</td><td>0.010482</td></tr><tr><td>100</td><td>[5.258642, 2.276626, … 9.123123]</td><td>9.158411</td><td>[0.045792, 0.045792, … 0.045792]</td><td>520.996561</td><td>0.009572</td></tr><tr><td>100</td><td>[6.185764, 5.141971, … 7.544346]</td><td>7.533661</td><td>[0.037668, 0.037668, … 0.037668]</td><td>547.174836</td><td>0.00946</td></tr></tbody></table></div>"
      ],
      "text/plain": [
       "shape: (50, 6)\n",
       "┌─────┬────────────────────────┬──────────┬────────────────────────┬────────────┬──────────┐\n",
       "│ dim ┆ a                      ┆ b        ┆ cvxpy_x                ┆ cvxpy_y    ┆ cvxpy_t  │\n",
       "│ --- ┆ ---                    ┆ ---      ┆ ---                    ┆ ---        ┆ ---      │\n",
       "│ i64 ┆ list[f64]              ┆ f64      ┆ list[f64]              ┆ f64        ┆ f64      │\n",
       "╞═════╪════════════════════════╪══════════╪════════════════════════╪════════════╪══════════╡\n",
       "│ 10  ┆ [2.266699, 6.338006, … ┆ 0.536932 ┆ [0.026847, 0.026847, … ┆ 48.285159  ┆ 0.031559 │\n",
       "│     ┆ 9.67960…               ┆          ┆ 0.02684…               ┆            ┆          │\n",
       "│ 10  ┆ [1.494705, 2.642139, … ┆ 5.722819 ┆ [0.967273, 0.39774, …  ┆ 56.113635  ┆ 0.023103 │\n",
       "│     ┆ 0.85727…               ┆          ┆ 1.523446…              ┆            ┆          │\n",
       "│ 10  ┆ [0.705691, 4.232732, … ┆ 0.943189 ┆ [0.04716, 0.047159, …  ┆ 40.029509  ┆ 0.016991 │\n",
       "│     ┆ 9.11776…               ┆          ┆ 0.047159…              ┆            ┆          │\n",
       "│ 10  ┆ [3.910042, 2.236563, … ┆ 5.714863 ┆ [0.285743, 0.285743, … ┆ 50.715963  ┆ 0.012339 │\n",
       "│     ┆ 6.20834…               ┆          ┆ 0.28574…               ┆            ┆          │\n",
       "│ 10  ┆ [2.658745, 5.041897, … ┆ 4.240225 ┆ [0.276565, 0.212011, … ┆ 64.778584  ┆ 0.008978 │\n",
       "│     ┆ 5.85603…               ┆          ┆ 0.21201…               ┆            ┆          │\n",
       "│ …   ┆ …                      ┆ …        ┆ …                      ┆ …          ┆ …        │\n",
       "│ 100 ┆ [7.183344, 8.056831, … ┆ 3.50619  ┆ [0.017531, 0.017531, … ┆ 499.712984 ┆ 0.010377 │\n",
       "│     ┆ 2.8046]                ┆          ┆ 0.01753…               ┆            ┆          │\n",
       "│ 100 ┆ [3.958926, 2.361616, … ┆ 5.235832 ┆ [0.026179, 0.026179, … ┆ 500.594255 ┆ 0.011275 │\n",
       "│     ┆ 2.60997…               ┆          ┆ 0.02617…               ┆            ┆          │\n",
       "│ 100 ┆ [2.901908, 4.285501, … ┆ 3.268357 ┆ [0.016342, 0.016342, … ┆ 518.123097 ┆ 0.010482 │\n",
       "│     ┆ 8.56810…               ┆          ┆ 0.01634…               ┆            ┆          │\n",
       "│ 100 ┆ [5.258642, 2.276626, … ┆ 9.158411 ┆ [0.045792, 0.045792, … ┆ 520.996561 ┆ 0.009572 │\n",
       "│     ┆ 9.12312…               ┆          ┆ 0.04579…               ┆            ┆          │\n",
       "│ 100 ┆ [6.185764, 5.141971, … ┆ 7.533661 ┆ [0.037668, 0.037668, … ┆ 547.174836 ┆ 0.00946  │\n",
       "│     ┆ 7.54434…               ┆          ┆ 0.03766…               ┆            ┆          │\n",
       "└─────┴────────────────────────┴──────────┴────────────────────────┴────────────┴──────────┘"
      ]
     },
     "execution_count": 33,
     "metadata": {},
     "output_type": "execute_result"
    }
   ],
   "source": [
    "raw_experiment_sheet"
   ]
  },
  {
   "cell_type": "markdown",
   "id": "523e1824",
   "metadata": {},
   "source": [
    "## 3. Решение прямой задачи методом Ньютона "
   ]
  },
  {
   "cell_type": "code",
   "execution_count": 34,
   "id": "7f24c21c",
   "metadata": {},
   "outputs": [],
   "source": [
    "def random_sum_bound(dim, b):\n",
    "    rnd = np.random.uniform(size=dim)\n",
    "    y = rnd / rnd.sum() * (b / 2)\n",
    "    return list(y + b / (2 * dim))"
   ]
  },
  {
   "cell_type": "code",
   "execution_count": 35,
   "id": "0d8e1625",
   "metadata": {},
   "outputs": [],
   "source": [
    "raw_experiment_sheet = raw_experiment_sheet.select(\n",
    "    pl.all().repeat_by(n_seeds).flatten()\n",
    ").with_columns(\n",
    "    pl.struct(\"dim\", \"b\")\n",
    "    .map_elements(lambda x: random_sum_bound(**x), return_dtype=pl.List(float))\n",
    "    .alias(\"x_init\")\n",
    ")"
   ]
  },
  {
   "cell_type": "code",
   "execution_count": 36,
   "id": "19e21cc2",
   "metadata": {},
   "outputs": [
    {
     "data": {
      "text/html": [
       "<div><style>\n",
       ".dataframe > thead > tr,\n",
       ".dataframe > tbody > tr {\n",
       "  text-align: right;\n",
       "  white-space: pre-wrap;\n",
       "}\n",
       "</style>\n",
       "<small>shape: (1_000, 8)</small><table border=\"1\" class=\"dataframe\"><thead><tr><th>dim</th><th>a</th><th>b</th><th>cvxpy_x</th><th>cvxpy_y</th><th>cvxpy_t</th><th>x_init</th><th>mu</th></tr><tr><td>i64</td><td>list[f64]</td><td>f64</td><td>list[f64]</td><td>f64</td><td>f64</td><td>list[f64]</td><td>i64</td></tr></thead><tbody><tr><td>10</td><td>[2.266699, 6.338006, … 9.679609]</td><td>0.536932</td><td>[0.026847, 0.026847, … 0.026847]</td><td>48.285159</td><td>0.031559</td><td>[0.062119, 0.075646, … 0.058166]</td><td>2</td></tr><tr><td>10</td><td>[2.266699, 6.338006, … 9.679609]</td><td>0.536932</td><td>[0.026847, 0.026847, … 0.026847]</td><td>48.285159</td><td>0.031559</td><td>[0.062119, 0.075646, … 0.058166]</td><td>10</td></tr><tr><td>10</td><td>[2.266699, 6.338006, … 9.679609]</td><td>0.536932</td><td>[0.026847, 0.026847, … 0.026847]</td><td>48.285159</td><td>0.031559</td><td>[0.062119, 0.075646, … 0.058166]</td><td>50</td></tr><tr><td>10</td><td>[2.266699, 6.338006, … 9.679609]</td><td>0.536932</td><td>[0.026847, 0.026847, … 0.026847]</td><td>48.285159</td><td>0.031559</td><td>[0.062119, 0.075646, … 0.058166]</td><td>100</td></tr><tr><td>10</td><td>[2.266699, 6.338006, … 9.679609]</td><td>0.536932</td><td>[0.026847, 0.026847, … 0.026847]</td><td>48.285159</td><td>0.031559</td><td>[0.067978, 0.03281, … 0.069219]</td><td>2</td></tr><tr><td>&hellip;</td><td>&hellip;</td><td>&hellip;</td><td>&hellip;</td><td>&hellip;</td><td>&hellip;</td><td>&hellip;</td><td>&hellip;</td></tr><tr><td>100</td><td>[6.185764, 5.141971, … 7.544346]</td><td>7.533661</td><td>[0.037668, 0.037668, … 0.037668]</td><td>547.174836</td><td>0.00946</td><td>[0.106166, 0.053893, … 0.106945]</td><td>100</td></tr><tr><td>100</td><td>[6.185764, 5.141971, … 7.544346]</td><td>7.533661</td><td>[0.037668, 0.037668, … 0.037668]</td><td>547.174836</td><td>0.00946</td><td>[0.083529, 0.084167, … 0.091702]</td><td>2</td></tr><tr><td>100</td><td>[6.185764, 5.141971, … 7.544346]</td><td>7.533661</td><td>[0.037668, 0.037668, … 0.037668]</td><td>547.174836</td><td>0.00946</td><td>[0.083529, 0.084167, … 0.091702]</td><td>10</td></tr><tr><td>100</td><td>[6.185764, 5.141971, … 7.544346]</td><td>7.533661</td><td>[0.037668, 0.037668, … 0.037668]</td><td>547.174836</td><td>0.00946</td><td>[0.083529, 0.084167, … 0.091702]</td><td>50</td></tr><tr><td>100</td><td>[6.185764, 5.141971, … 7.544346]</td><td>7.533661</td><td>[0.037668, 0.037668, … 0.037668]</td><td>547.174836</td><td>0.00946</td><td>[0.083529, 0.084167, … 0.091702]</td><td>100</td></tr></tbody></table></div>"
      ],
      "text/plain": [
       "shape: (1_000, 8)\n",
       "┌─────┬─────────────┬──────────┬─────────────┬────────────┬──────────┬───────────────────────┬─────┐\n",
       "│ dim ┆ a           ┆ b        ┆ cvxpy_x     ┆ cvxpy_y    ┆ cvxpy_t  ┆ x_init                ┆ mu  │\n",
       "│ --- ┆ ---         ┆ ---      ┆ ---         ┆ ---        ┆ ---      ┆ ---                   ┆ --- │\n",
       "│ i64 ┆ list[f64]   ┆ f64      ┆ list[f64]   ┆ f64        ┆ f64      ┆ list[f64]             ┆ i64 │\n",
       "╞═════╪═════════════╪══════════╪═════════════╪════════════╪══════════╪═══════════════════════╪═════╡\n",
       "│ 10  ┆ [2.266699,  ┆ 0.536932 ┆ [0.026847,  ┆ 48.285159  ┆ 0.031559 ┆ [0.062119, 0.075646,  ┆ 2   │\n",
       "│     ┆ 6.338006, … ┆          ┆ 0.026847, … ┆            ┆          ┆ … 0.05816…            ┆     │\n",
       "│     ┆ 9.67960…    ┆          ┆ 0.02684…    ┆            ┆          ┆                       ┆     │\n",
       "│ 10  ┆ [2.266699,  ┆ 0.536932 ┆ [0.026847,  ┆ 48.285159  ┆ 0.031559 ┆ [0.062119, 0.075646,  ┆ 10  │\n",
       "│     ┆ 6.338006, … ┆          ┆ 0.026847, … ┆            ┆          ┆ … 0.05816…            ┆     │\n",
       "│     ┆ 9.67960…    ┆          ┆ 0.02684…    ┆            ┆          ┆                       ┆     │\n",
       "│ 10  ┆ [2.266699,  ┆ 0.536932 ┆ [0.026847,  ┆ 48.285159  ┆ 0.031559 ┆ [0.062119, 0.075646,  ┆ 50  │\n",
       "│     ┆ 6.338006, … ┆          ┆ 0.026847, … ┆            ┆          ┆ … 0.05816…            ┆     │\n",
       "│     ┆ 9.67960…    ┆          ┆ 0.02684…    ┆            ┆          ┆                       ┆     │\n",
       "│ 10  ┆ [2.266699,  ┆ 0.536932 ┆ [0.026847,  ┆ 48.285159  ┆ 0.031559 ┆ [0.062119, 0.075646,  ┆ 100 │\n",
       "│     ┆ 6.338006, … ┆          ┆ 0.026847, … ┆            ┆          ┆ … 0.05816…            ┆     │\n",
       "│     ┆ 9.67960…    ┆          ┆ 0.02684…    ┆            ┆          ┆                       ┆     │\n",
       "│ 10  ┆ [2.266699,  ┆ 0.536932 ┆ [0.026847,  ┆ 48.285159  ┆ 0.031559 ┆ [0.067978, 0.03281, … ┆ 2   │\n",
       "│     ┆ 6.338006, … ┆          ┆ 0.026847, … ┆            ┆          ┆ 0.069219…             ┆     │\n",
       "│     ┆ 9.67960…    ┆          ┆ 0.02684…    ┆            ┆          ┆                       ┆     │\n",
       "│ …   ┆ …           ┆ …        ┆ …           ┆ …          ┆ …        ┆ …                     ┆ …   │\n",
       "│ 100 ┆ [6.185764,  ┆ 7.533661 ┆ [0.037668,  ┆ 547.174836 ┆ 0.00946  ┆ [0.106166, 0.053893,  ┆ 100 │\n",
       "│     ┆ 5.141971, … ┆          ┆ 0.037668, … ┆            ┆          ┆ … 0.10694…            ┆     │\n",
       "│     ┆ 7.54434…    ┆          ┆ 0.03766…    ┆            ┆          ┆                       ┆     │\n",
       "│ 100 ┆ [6.185764,  ┆ 7.533661 ┆ [0.037668,  ┆ 547.174836 ┆ 0.00946  ┆ [0.083529, 0.084167,  ┆ 2   │\n",
       "│     ┆ 5.141971, … ┆          ┆ 0.037668, … ┆            ┆          ┆ … 0.09170…            ┆     │\n",
       "│     ┆ 7.54434…    ┆          ┆ 0.03766…    ┆            ┆          ┆                       ┆     │\n",
       "│ 100 ┆ [6.185764,  ┆ 7.533661 ┆ [0.037668,  ┆ 547.174836 ┆ 0.00946  ┆ [0.083529, 0.084167,  ┆ 10  │\n",
       "│     ┆ 5.141971, … ┆          ┆ 0.037668, … ┆            ┆          ┆ … 0.09170…            ┆     │\n",
       "│     ┆ 7.54434…    ┆          ┆ 0.03766…    ┆            ┆          ┆                       ┆     │\n",
       "│ 100 ┆ [6.185764,  ┆ 7.533661 ┆ [0.037668,  ┆ 547.174836 ┆ 0.00946  ┆ [0.083529, 0.084167,  ┆ 50  │\n",
       "│     ┆ 5.141971, … ┆          ┆ 0.037668, … ┆            ┆          ┆ … 0.09170…            ┆     │\n",
       "│     ┆ 7.54434…    ┆          ┆ 0.03766…    ┆            ┆          ┆                       ┆     │\n",
       "│ 100 ┆ [6.185764,  ┆ 7.533661 ┆ [0.037668,  ┆ 547.174836 ┆ 0.00946  ┆ [0.083529, 0.084167,  ┆ 100 │\n",
       "│     ┆ 5.141971, … ┆          ┆ 0.037668, … ┆            ┆          ┆ … 0.09170…            ┆     │\n",
       "│     ┆ 7.54434…    ┆          ┆ 0.03766…    ┆            ┆          ┆                       ┆     │\n",
       "└─────┴─────────────┴──────────┴─────────────┴────────────┴──────────┴───────────────────────┴─────┘"
      ]
     },
     "execution_count": 36,
     "metadata": {},
     "output_type": "execute_result"
    }
   ],
   "source": [
    "raw_experiment_sheet = raw_experiment_sheet.with_columns(\n",
    "        pl.lit([2, 10, 50, 100]).alias(\"mu\")\n",
    "    ).explode(\"mu\")                      \n",
    "\n",
    "raw_experiment_sheet = raw_experiment_sheet.drop_nans()\n",
    "raw_experiment_sheet"
   ]
  },
  {
   "cell_type": "code",
   "execution_count": 37,
   "id": "d5ca4b28",
   "metadata": {},
   "outputs": [],
   "source": [
    "def f(x, a):\n",
    "    return np.dot(a, np.exp(x)).reshape(1,1)\n",
    "\n",
    "def grad_f(x, a):\n",
    "    return (a * np.exp(x)).reshape(1,-1)\n",
    "\n",
    "def hessian_f(x, a):\n",
    "    return np.diag(a * np.exp(x))\n",
    "\n",
    "def barrier_f(x, a, b, t):\n",
    "    return (t * np.dot(a, np.exp(x)) - np.sum(np.log(x - b / (2*len(a))))).reshape(1,1)\n",
    "\n",
    "def barrier_grad_f(x, a, b, t):\n",
    "    return (t * a * np.exp(x) - 1. / (x - b/(2*len(a)))).reshape(1,-1)\n",
    "\n",
    "def barrier_hessian_f(x, a, b, t):\n",
    "    return np.diag(t * a * np.exp(x) + 1. / (x - b / (2*len(a)))**2 )\n",
    "\n",
    "def g(x, b):\n",
    "    return np.array([np.sum(np.asarray(x)) - b]).reshape(1,1)\n",
    "\n",
    "def grad_g(x):\n",
    "    return np.ones(len(x)).reshape(1,-1)\n",
    "\n",
    "def hessian_g(x):\n",
    "    return np.zeros([len(x)]*2)"
   ]
  },
  {
   "cell_type": "code",
   "execution_count": null,
   "id": "92430f5c",
   "metadata": {},
   "outputs": [],
   "source": [
    "def armijo_line_search(x, a, b, t, dx, alpha0=1.0, beta=0.5, c=1e-4, max_iters=20):\n",
    "    alpha = alpha0\n",
    "\n",
    "    func_value = barrier_f(x, a, b, t)[0][0]\n",
    "    gTd  = np.dot(barrier_grad_f(x, a, b, t), dx)\n",
    "    \n",
    "    for _ in range(max_iters):\n",
    "        x_new = x + alpha * dx\n",
    "        func_value_new = barrier_f(x_new, a, b, t)[0][0]\n",
    "\n",
    "        if np.all(x_new >= b / (2*len(a))) and np.allclose(np.sum(x_new), b) and func_value_new < func_value + c * alpha * gTd:\n",
    "            return alpha\n",
    "        alpha *= beta\n",
    "    \n",
    "    return None\n",
    "\n",
    "def solve_oawrc_newton(a, b, x_init, cvxpy_y, t, eps=0.01, max_iters=20, max_linesearch_iters=30, c=0.2, beta=0.5):\n",
    "\n",
    "    x = np.asarray(x_init)\n",
    "    a = np.asarray(a)\n",
    "    \n",
    "    for i in range(max_iters):\n",
    "        grad_L = barrier_grad_f(x, a, b, t)\n",
    "        hessian_L = barrier_hessian_f(x, a, b, t)\n",
    "\n",
    "        hessian_L_full = np.block([\n",
    "            [hessian_L, grad_g(x).T],\n",
    "            [grad_g(x), np.zeros([1,1])]\n",
    "        ])\n",
    "        \n",
    "        grad_L_full = np.concatenate([grad_L, g(x, b).reshape(1,-1)], axis = -1)\n",
    "        d = np.linalg.solve(hessian_L_full, -grad_L_full.T)\n",
    "        dx = d[:len(x),0]\n",
    "\n",
    "        alpha = armijo_line_search(x, a, b, t, dx, alpha0=1.0, beta=beta, c=c, max_iters=max_linesearch_iters)\n",
    "        if alpha is None:\n",
    "            break\n",
    "\n",
    "        x = x + alpha * dx\n",
    "\n",
    "        curr_f = f(x, a)[0][0]\n",
    "        if np.abs(curr_f - cvxpy_y) < eps:\n",
    "            break\n",
    "\n",
    "    return x.tolist(), i+1, curr_f\n",
    "\n",
    "def barrier_method(a, b, x_init, cvxpy_y, mu=2, t_init=1, eps=0.001, max_centering_iters=20):\n",
    "    a = np.asarray(a)\n",
    "    n = a.shape[0]\n",
    "    x = x_init.copy()\n",
    "    t = t_init\n",
    "\n",
    "    sovle_time = time.time()\n",
    "    newton_iters_hist, newton_hist_y = [], []\n",
    "\n",
    "    while n/t >= eps:\n",
    "        x, centering_iters, curr_y = solve_oawrc_newton(a, b, x, cvxpy_y, t, eps=eps, max_iters=max_centering_iters)\n",
    "\n",
    "        newton_iters_hist.append(centering_iters)\n",
    "        newton_hist_y.append(curr_y)\n",
    "\n",
    "        t *= mu\n",
    "\n",
    "    return {\"newton_x\": x, \"newton_y\": curr_y, \"newton_t\": time.time() - sovle_time, \"newton_hist_y\": newton_hist_y, \"newton_iters_hist\": newton_iters_hist}"
   ]
  },
  {
   "cell_type": "code",
   "execution_count": null,
   "id": "6e7d244f",
   "metadata": {},
   "outputs": [],
   "source": [
    "raw_experiment_sheet = raw_experiment_sheet.with_columns(\n",
    "    (\n",
    "        pl.struct(\"a\", \"b\", \"x_init\", \"cvxpy_y\", \"mu\")\n",
    "        .map_elements(\n",
    "            lambda x: barrier_method(**x),\n",
    "            return_dtype=pl.Struct(\n",
    "                {\"newton_x\": pl.List(float), \"newton_y\": float, \"newton_t\": float, \"newton_hist_y\": pl.List(float), \"newton_iters_hist\": pl.List(int)}\n",
    "            ),\n",
    "        )\n",
    "        .alias(\"newton_out\")\n",
    "    )\n",
    ").unnest(\"newton_out\")"
   ]
  },
  {
   "cell_type": "code",
   "execution_count": 42,
   "id": "3bf10380",
   "metadata": {},
   "outputs": [
    {
     "data": {
      "text/html": [
       "<div><style>\n",
       ".dataframe > thead > tr,\n",
       ".dataframe > tbody > tr {\n",
       "  text-align: right;\n",
       "  white-space: pre-wrap;\n",
       "}\n",
       "</style>\n",
       "<small>shape: (1_000, 13)</small><table border=\"1\" class=\"dataframe\"><thead><tr><th>dim</th><th>a</th><th>b</th><th>cvxpy_x</th><th>cvxpy_y</th><th>cvxpy_t</th><th>x_init</th><th>mu</th><th>newton_x</th><th>newton_y</th><th>newton_t</th><th>newton_hist_y</th><th>newton_iters_hist</th></tr><tr><td>i64</td><td>list[f64]</td><td>f64</td><td>list[f64]</td><td>f64</td><td>f64</td><td>list[f64]</td><td>i64</td><td>list[f64]</td><td>f64</td><td>f64</td><td>list[f64]</td><td>list[i64]</td></tr></thead><tbody><tr><td>10</td><td>[2.266699, 6.338006, … 9.679609]</td><td>0.536932</td><td>[0.026847, 0.026847, … 0.026847]</td><td>48.285159</td><td>0.031559</td><td>[0.062119, 0.075646, … 0.058166]</td><td>2</td><td>[0.026935, 0.026869, … 0.02686]</td><td>48.286135</td><td>0.123808</td><td>[49.286848, 49.221879, … 48.286135]</td><td>[9, 4, … 1]</td></tr><tr><td>10</td><td>[2.266699, 6.338006, … 9.679609]</td><td>0.536932</td><td>[0.026847, 0.026847, … 0.026847]</td><td>48.285159</td><td>0.031559</td><td>[0.062119, 0.075646, … 0.058166]</td><td>10</td><td>[0.026889, 0.026859, … 0.026854]</td><td>48.285678</td><td>0.027595</td><td>[49.286848, 48.845302, … 48.285678]</td><td>[9, 7, … 2]</td></tr><tr><td>10</td><td>[2.266699, 6.338006, … 9.679609]</td><td>0.536932</td><td>[0.026847, 0.026847, … 0.026847]</td><td>48.285159</td><td>0.031559</td><td>[0.062119, 0.075646, … 0.058166]</td><td>50</td><td>[0.027135, 0.026918, … 0.026891]</td><td>48.288356</td><td>0.022317</td><td>[49.286848, 48.436636, 48.288356]</td><td>[9, 9, 12]</td></tr><tr><td>10</td><td>[2.266699, 6.338006, … 9.679609]</td><td>0.536932</td><td>[0.026847, 0.026847, … 0.026847]</td><td>48.285159</td><td>0.031559</td><td>[0.062119, 0.075646, … 0.058166]</td><td>100</td><td>[0.027022, 0.026854, … 0.026852]</td><td>48.285772</td><td>0.01519</td><td>[49.286848, 48.363123, 48.285772]</td><td>[9, 9, 4]</td></tr><tr><td>10</td><td>[2.266699, 6.338006, … 9.679609]</td><td>0.536932</td><td>[0.026847, 0.026847, … 0.026847]</td><td>48.285159</td><td>0.031559</td><td>[0.067978, 0.03281, … 0.069219]</td><td>2</td><td>[0.026935, 0.026869, … 0.02686]</td><td>48.286135</td><td>0.068592</td><td>[49.286848, 49.221879, … 48.286135]</td><td>[9, 4, … 1]</td></tr><tr><td>&hellip;</td><td>&hellip;</td><td>&hellip;</td><td>&hellip;</td><td>&hellip;</td><td>&hellip;</td><td>&hellip;</td><td>&hellip;</td><td>&hellip;</td><td>&hellip;</td><td>&hellip;</td><td>&hellip;</td><td>&hellip;</td></tr><tr><td>100</td><td>[6.185764, 5.141971, … 7.544346]</td><td>7.533661</td><td>[0.037668, 0.037668, … 0.037668]</td><td>547.174836</td><td>0.00946</td><td>[0.106166, 0.053893, … 0.106945]</td><td>100</td><td>[0.037687, 0.037691, … 0.037683]</td><td>547.184134</td><td>0.027852</td><td>[564.188621, 548.079427, 547.184134]</td><td>[11, 17, 17]</td></tr><tr><td>100</td><td>[6.185764, 5.141971, … 7.544346]</td><td>7.533661</td><td>[0.037668, 0.037668, … 0.037668]</td><td>547.174836</td><td>0.00946</td><td>[0.083529, 0.084167, … 0.091702]</td><td>2</td><td>[0.037671, 0.037672, … 0.037671]</td><td>547.176256</td><td>0.091363</td><td>[564.188621, 562.7755, … 547.176256]</td><td>[12, 5, … 4]</td></tr><tr><td>100</td><td>[6.185764, 5.141971, … 7.544346]</td><td>7.533661</td><td>[0.037668, 0.037668, … 0.037668]</td><td>547.174836</td><td>0.00946</td><td>[0.083529, 0.084167, … 0.091702]</td><td>10</td><td>[0.03767, 0.03767, … 0.037669]</td><td>547.175453</td><td>0.035969</td><td>[564.188621, 554.939015, … 547.175453]</td><td>[12, 8, … 2]</td></tr><tr><td>100</td><td>[6.185764, 5.141971, … 7.544346]</td><td>7.533661</td><td>[0.037668, 0.037668, … 0.037668]</td><td>547.174836</td><td>0.00946</td><td>[0.083529, 0.084167, … 0.091702]</td><td>50</td><td>[0.037741, 0.037759, … 0.037726]</td><td>547.21199</td><td>0.030065</td><td>[564.188621, 548.94678, 547.21199]</td><td>[12, 11, 16]</td></tr><tr><td>100</td><td>[6.185764, 5.141971, … 7.544346]</td><td>7.533661</td><td>[0.037668, 0.037668, … 0.037668]</td><td>547.174836</td><td>0.00946</td><td>[0.083529, 0.084167, … 0.091702]</td><td>100</td><td>[0.037687, 0.037691, … 0.037683]</td><td>547.184134</td><td>0.029137</td><td>[564.188621, 548.079427, 547.184134]</td><td>[12, 17, 17]</td></tr></tbody></table></div>"
      ],
      "text/plain": [
       "shape: (1_000, 13)\n",
       "┌─────┬─────────────┬──────────┬─────────────┬───┬────────────┬──────────┬────────────┬────────────┐\n",
       "│ dim ┆ a           ┆ b        ┆ cvxpy_x     ┆ … ┆ newton_y   ┆ newton_t ┆ newton_his ┆ newton_ite │\n",
       "│ --- ┆ ---         ┆ ---      ┆ ---         ┆   ┆ ---        ┆ ---      ┆ t_y        ┆ rs_hist    │\n",
       "│ i64 ┆ list[f64]   ┆ f64      ┆ list[f64]   ┆   ┆ f64        ┆ f64      ┆ ---        ┆ ---        │\n",
       "│     ┆             ┆          ┆             ┆   ┆            ┆          ┆ list[f64]  ┆ list[i64]  │\n",
       "╞═════╪═════════════╪══════════╪═════════════╪═══╪════════════╪══════════╪════════════╪════════════╡\n",
       "│ 10  ┆ [2.266699,  ┆ 0.536932 ┆ [0.026847,  ┆ … ┆ 48.286135  ┆ 0.123808 ┆ [49.286848 ┆ [9, 4, …   │\n",
       "│     ┆ 6.338006, … ┆          ┆ 0.026847, … ┆   ┆            ┆          ┆ ,          ┆ 1]         │\n",
       "│     ┆ 9.67960…    ┆          ┆ 0.02684…    ┆   ┆            ┆          ┆ 49.221879, ┆            │\n",
       "│     ┆             ┆          ┆             ┆   ┆            ┆          ┆ … 48.28…   ┆            │\n",
       "│ 10  ┆ [2.266699,  ┆ 0.536932 ┆ [0.026847,  ┆ … ┆ 48.285678  ┆ 0.027595 ┆ [49.286848 ┆ [9, 7, …   │\n",
       "│     ┆ 6.338006, … ┆          ┆ 0.026847, … ┆   ┆            ┆          ┆ ,          ┆ 2]         │\n",
       "│     ┆ 9.67960…    ┆          ┆ 0.02684…    ┆   ┆            ┆          ┆ 48.845302, ┆            │\n",
       "│     ┆             ┆          ┆             ┆   ┆            ┆          ┆ … 48.28…   ┆            │\n",
       "│ 10  ┆ [2.266699,  ┆ 0.536932 ┆ [0.026847,  ┆ … ┆ 48.288356  ┆ 0.022317 ┆ [49.286848 ┆ [9, 9, 12] │\n",
       "│     ┆ 6.338006, … ┆          ┆ 0.026847, … ┆   ┆            ┆          ┆ ,          ┆            │\n",
       "│     ┆ 9.67960…    ┆          ┆ 0.02684…    ┆   ┆            ┆          ┆ 48.436636, ┆            │\n",
       "│     ┆             ┆          ┆             ┆   ┆            ┆          ┆ 48.2883…   ┆            │\n",
       "│ 10  ┆ [2.266699,  ┆ 0.536932 ┆ [0.026847,  ┆ … ┆ 48.285772  ┆ 0.01519  ┆ [49.286848 ┆ [9, 9, 4]  │\n",
       "│     ┆ 6.338006, … ┆          ┆ 0.026847, … ┆   ┆            ┆          ┆ ,          ┆            │\n",
       "│     ┆ 9.67960…    ┆          ┆ 0.02684…    ┆   ┆            ┆          ┆ 48.363123, ┆            │\n",
       "│     ┆             ┆          ┆             ┆   ┆            ┆          ┆ 48.2857…   ┆            │\n",
       "│ 10  ┆ [2.266699,  ┆ 0.536932 ┆ [0.026847,  ┆ … ┆ 48.286135  ┆ 0.068592 ┆ [49.286848 ┆ [9, 4, …   │\n",
       "│     ┆ 6.338006, … ┆          ┆ 0.026847, … ┆   ┆            ┆          ┆ ,          ┆ 1]         │\n",
       "│     ┆ 9.67960…    ┆          ┆ 0.02684…    ┆   ┆            ┆          ┆ 49.221879, ┆            │\n",
       "│     ┆             ┆          ┆             ┆   ┆            ┆          ┆ … 48.28…   ┆            │\n",
       "│ …   ┆ …           ┆ …        ┆ …           ┆ … ┆ …          ┆ …        ┆ …          ┆ …          │\n",
       "│ 100 ┆ [6.185764,  ┆ 7.533661 ┆ [0.037668,  ┆ … ┆ 547.184134 ┆ 0.027852 ┆ [564.18862 ┆ [11, 17,   │\n",
       "│     ┆ 5.141971, … ┆          ┆ 0.037668, … ┆   ┆            ┆          ┆ 1, 548.079 ┆ 17]        │\n",
       "│     ┆ 7.54434…    ┆          ┆ 0.03766…    ┆   ┆            ┆          ┆ 427,       ┆            │\n",
       "│     ┆             ┆          ┆             ┆   ┆            ┆          ┆ 547.1…     ┆            │\n",
       "│ 100 ┆ [6.185764,  ┆ 7.533661 ┆ [0.037668,  ┆ … ┆ 547.176256 ┆ 0.091363 ┆ [564.18862 ┆ [12, 5, …  │\n",
       "│     ┆ 5.141971, … ┆          ┆ 0.037668, … ┆   ┆            ┆          ┆ 1,         ┆ 4]         │\n",
       "│     ┆ 7.54434…    ┆          ┆ 0.03766…    ┆   ┆            ┆          ┆ 562.7755,  ┆            │\n",
       "│     ┆             ┆          ┆             ┆   ┆            ┆          ┆ … 547.1…   ┆            │\n",
       "│ 100 ┆ [6.185764,  ┆ 7.533661 ┆ [0.037668,  ┆ … ┆ 547.175453 ┆ 0.035969 ┆ [564.18862 ┆ [12, 8, …  │\n",
       "│     ┆ 5.141971, … ┆          ┆ 0.037668, … ┆   ┆            ┆          ┆ 1, 554.939 ┆ 2]         │\n",
       "│     ┆ 7.54434…    ┆          ┆ 0.03766…    ┆   ┆            ┆          ┆ 015, …     ┆            │\n",
       "│     ┆             ┆          ┆             ┆   ┆            ┆          ┆ 547…       ┆            │\n",
       "│ 100 ┆ [6.185764,  ┆ 7.533661 ┆ [0.037668,  ┆ … ┆ 547.21199  ┆ 0.030065 ┆ [564.18862 ┆ [12, 11,   │\n",
       "│     ┆ 5.141971, … ┆          ┆ 0.037668, … ┆   ┆            ┆          ┆ 1,         ┆ 16]        │\n",
       "│     ┆ 7.54434…    ┆          ┆ 0.03766…    ┆   ┆            ┆          ┆ 548.94678, ┆            │\n",
       "│     ┆             ┆          ┆             ┆   ┆            ┆          ┆ 547.21…    ┆            │\n",
       "│ 100 ┆ [6.185764,  ┆ 7.533661 ┆ [0.037668,  ┆ … ┆ 547.184134 ┆ 0.029137 ┆ [564.18862 ┆ [12, 17,   │\n",
       "│     ┆ 5.141971, … ┆          ┆ 0.037668, … ┆   ┆            ┆          ┆ 1, 548.079 ┆ 17]        │\n",
       "│     ┆ 7.54434…    ┆          ┆ 0.03766…    ┆   ┆            ┆          ┆ 427,       ┆            │\n",
       "│     ┆             ┆          ┆             ┆   ┆            ┆          ┆ 547.1…     ┆            │\n",
       "└─────┴─────────────┴──────────┴─────────────┴───┴────────────┴──────────┴────────────┴────────────┘"
      ]
     },
     "execution_count": 42,
     "metadata": {},
     "output_type": "execute_result"
    }
   ],
   "source": [
    "raw_experiment_sheet"
   ]
  },
  {
   "cell_type": "markdown",
   "id": "84008abe",
   "metadata": {},
   "source": [
    "# III. Анализ зависимостей"
   ]
  },
  {
   "cell_type": "code",
   "execution_count": 47,
   "id": "c59c5c17",
   "metadata": {},
   "outputs": [],
   "source": [
    "res_data = raw_experiment_sheet.clone()\n",
    "res_data = (res_data\n",
    "    .with_columns(pl.col(\"newton_hist_y\").list.len().alias(\"iter_num\"))\n",
    "    .with_columns((pl.col(\"cvxpy_y\") - pl.col(\"newton_y\")).abs().alias(\"y_diff\"))\n",
    "    .select(\"dim\", \"mu\", \"newton_t\", \"iter_num\", \"y_diff\")\n",
    "    .group_by(\"dim\", \"mu\")\n",
    "    .agg(pl.all().mean().name.suffix(\"_mean\"))\n",
    "    .sort(\"dim\", \"mu\")\n",
    ")"
   ]
  },
  {
   "cell_type": "markdown",
   "id": "b760f5fb",
   "metadata": {},
   "source": [
    "# IV. Выводы"
   ]
  }
 ],
 "metadata": {
  "kernelspec": {
   "display_name": "base",
   "language": "python",
   "name": "python3"
  },
  "language_info": {
   "codemirror_mode": {
    "name": "ipython",
    "version": 3
   },
   "file_extension": ".py",
   "mimetype": "text/x-python",
   "name": "python",
   "nbconvert_exporter": "python",
   "pygments_lexer": "ipython3",
   "version": "3.10.14"
  }
 },
 "nbformat": 4,
 "nbformat_minor": 5
}
