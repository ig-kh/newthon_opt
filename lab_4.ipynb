{
 "cells": [
  {
   "cell_type": "markdown",
   "id": "ba9c65ae",
   "metadata": {},
   "source": [
    "# I. Введение логарифмического барьера, выпуклость задачи."
   ]
  },
  {
   "cell_type": "markdown",
   "id": "61957af0",
   "metadata": {},
   "source": [
    "## 1. Критерий выпуклости второго порядка"
   ]
  },
  {
   "cell_type": "markdown",
   "id": "778f9dee",
   "metadata": {},
   "source": [
    "Optimal allocation with resource constraint:\n",
    "$$f_{i}\\left(x_{i}\\right) = a_{i}e^{x_{i}}, a_{i} > 0, i \\in \\{ 1, ..., n\\}$$"
   ]
  },
  {
   "cell_type": "markdown",
   "id": "96dbbe40",
   "metadata": {},
   "source": [
    "Также ограничение бюджета:\n",
    "$$\\sum^{n}_{i=1}x_{i} = b, b \\in R$$"
   ]
  },
  {
   "cell_type": "markdown",
   "id": "73c96a48",
   "metadata": {},
   "source": [
    "Дополнительное ограничение:\n",
    "$$x_i \\geq \\frac{b}{2n} $$"
   ]
  },
  {
   "cell_type": "markdown",
   "id": "384a0c11",
   "metadata": {},
   "source": [
    "Задача минимизации:\n",
    "$$\\sum^{n}_{i=1}a_{i}e^{x_{i}} \\rightarrow min, a_{i} > 0, i \\in \\{ 1, ..., n\\}$$"
   ]
  },
  {
   "cell_type": "markdown",
   "id": "10c9f198",
   "metadata": {},
   "source": [
    "Задача с ограничениями:\n",
    "$$\\sum^{n}_{i=1}a_{i}e^{x_{i}} \\rightarrow min, a_{i} > 0, i \\in \\{ 1, ..., n\\},$$\n",
    "$$\n",
    "S.t. \\sum^{n}_{i=1}x_{i} = b, \\\n",
    "\n",
    "x_i \\geq \\frac{b}{2n}, i \\in \\{ 1, ..., n\\},  \\in R$$"
   ]
  },
  {
   "cell_type": "markdown",
   "id": "7583fcee",
   "metadata": {},
   "source": [
    "Обозначим ограничение-неравенство через $g(x_i) = \\frac{b}{2n} - x_i \\leq 0$.\n",
    "\n",
    "Введем логарифмический барьер:\n",
    "$$\n",
    "\\phi(x) = -\\frac{1}{t} \\sum_{i=1}^{n} \\ln(-g(x_i)) = -\\frac{1}{t} \\sum_{i=1}^{n} \\ln( x_i - \\frac{b}{2n}), где   t > 0 - фикс.\n",
    "$$ \n",
    "\n",
    "Итоговая задача с барьером:\n",
    "\n",
    "$$\\sum^{n}_{i=1} \\left( a_{i} e^{x_{i}} -\\frac{1}{t} \\ln( x_i - \\frac{b}{2n}) \\right) \\rightarrow min, a_{i} > 0, i \\in \\{ 1, ..., n\\}, t > 0$$\n",
    "$$\n",
    "S.t. \\sum^{n}_{i=1}x_{i} = b, b  \\in R$$"
   ]
  },
  {
   "cell_type": "markdown",
   "id": "041956f8",
   "metadata": {},
   "source": [
    "Для изучения выпуклости рассмотрим гессиан оптимизируемой функции:\n",
    "$$H(x)_{i,j} = 0, i \\neq j$$\n",
    "$$H(x)_{i,j} = a_{i}e^{x_{i}} + \\frac{1}{t(x_i - \\frac{b}{2n})^2}, i = j$$\n",
    "$$\\text{При } a_{i} > 0 \\text{ и } t > 0 \\text{ очевидно, что } H(x)_{i,i} > 0, \\text{ так как } \\forall x \\in R: e^{x_{i}} > 0 \\text{ и } \\frac{1}{(x_i - \\frac{b}{2n})^2} > 0$$\n",
    "Матрица такого вида является положительно определенной."
   ]
  },
  {
   "cell_type": "markdown",
   "id": "f996d725",
   "metadata": {},
   "source": [
    "Так же рассмотрим знакоопределенность гессиана ограничения:\n",
    "$$H(x) = \\textbf{0}$$ "
   ]
  },
  {
   "cell_type": "markdown",
   "id": "856719b9",
   "metadata": {},
   "source": [
    "Таким образом, рассматриваемая барьерная задача является выпуклой."
   ]
  },
  {
   "cell_type": "markdown",
   "id": "e95bf5b4",
   "metadata": {},
   "source": [
    "# II. Решение тестовых примеров"
   ]
  },
  {
   "cell_type": "code",
   "execution_count": 2,
   "id": "cda79a75",
   "metadata": {},
   "outputs": [],
   "source": [
    "import numpy as np\n",
    "import cvxpy as cp\n",
    "import time\n",
    "import polars as pl\n",
    "import matplotlib.pyplot as plt\n",
    "import plotly.graph_objects as go\n",
    "from plotly.subplots import make_subplots"
   ]
  },
  {
   "cell_type": "code",
   "execution_count": 22,
   "id": "dddc62d6",
   "metadata": {},
   "outputs": [],
   "source": [
    "d=pl.read_csv(\"./0_01.csv\")"
   ]
  },
  {
   "cell_type": "code",
   "execution_count": 23,
   "id": "ef70e098",
   "metadata": {},
   "outputs": [
    {
     "data": {
      "text/html": [
       "<div><style>\n",
       ".dataframe > thead > tr,\n",
       ".dataframe > tbody > tr {\n",
       "  text-align: right;\n",
       "  white-space: pre-wrap;\n",
       "}\n",
       "</style>\n",
       "<small>shape: (400_000, 14)</small><table border=\"1\" class=\"dataframe\"><thead><tr><th></th><th>dim</th><th>a</th><th>b</th><th>cvxpy_x</th><th>cvxpy_y</th><th>cvxpy_t</th><th>x_init</th><th>mu</th><th>newton_x</th><th>newton_y</th><th>newton_t</th><th>newton_hist_y</th><th>newton_iters_hist</th></tr><tr><td>i64</td><td>i64</td><td>list[f64]</td><td>f64</td><td>list[f64]</td><td>f64</td><td>f64</td><td>list[f64]</td><td>i64</td><td>list[f64]</td><td>f64</td><td>f64</td><td>list[f64]</td><td>list[f64]</td></tr></thead><tbody><tr><td>0</td><td>10</td><td>[5.728031, 4.123869, … 3.202003]</td><td>5.50868</td><td>[0.275434, 0.275434, … 0.378602]</td><td>69.537908</td><td>0.016473</td><td>[0.570959, 0.750641, … 0.537103]</td><td>2</td><td>[0.27611, 0.277929, … 0.379767]</td><td>69.549568</td><td>0.061801</td><td>[73.527029, 71.754103, … 69.549568]</td><td>[11.0, 7.0, … 5.0]</td></tr><tr><td>1</td><td>10</td><td>[5.728031, 4.123869, … 3.202003]</td><td>5.50868</td><td>[0.275434, 0.275434, … 0.378602]</td><td>69.537908</td><td>0.016473</td><td>[0.570959, 0.750641, … 0.537103]</td><td>10</td><td>[0.275473, 0.275676, … 0.387128]</td><td>69.539472</td><td>0.01768</td><td>[73.527029, 70.066583, … 69.539472]</td><td>[11.0, 8.0, … 2.0]</td></tr><tr><td>2</td><td>10</td><td>[5.728031, 4.123869, … 3.202003]</td><td>5.50868</td><td>[0.275434, 0.275434, … 0.378602]</td><td>69.537908</td><td>0.016473</td><td>[0.570959, 0.750641, … 0.537103]</td><td>50</td><td>[0.282004, 0.295588, … 0.389209]</td><td>69.653196</td><td>0.011347</td><td>[73.527029, 69.653196]</td><td>[11.0, 9.0]</td></tr><tr><td>3</td><td>10</td><td>[5.728031, 4.123869, … 3.202003]</td><td>5.50868</td><td>[0.275434, 0.275434, … 0.378602]</td><td>69.537908</td><td>0.016473</td><td>[0.570959, 0.750641, … 0.537103]</td><td>100</td><td>[0.278812, 0.286754, … 0.3841995]</td><td>69.596571</td><td>0.012344</td><td>[73.527029, 69.596571]</td><td>[11.0, 12.0]</td></tr><tr><td>4</td><td>10</td><td>[5.728031, 4.123869, … 3.202003]</td><td>5.50868</td><td>[0.275434, 0.275434, … 0.378602]</td><td>69.537908</td><td>0.016473</td><td>[0.367604, 0.435501, … 0.374071]</td><td>2</td><td>[0.27611, 0.277929, … 0.379767]</td><td>69.549568</td><td>0.046368</td><td>[73.527029, 71.754103, … 69.549568]</td><td>[9.0, 7.0, … 5.0]</td></tr><tr><td>&hellip;</td><td>&hellip;</td><td>&hellip;</td><td>&hellip;</td><td>&hellip;</td><td>&hellip;</td><td>&hellip;</td><td>&hellip;</td><td>&hellip;</td><td>&hellip;</td><td>&hellip;</td><td>&hellip;</td><td>&hellip;</td><td>&hellip;</td></tr><tr><td>399995</td><td>100</td><td>[8.868352, 4.717864, … 9.771052]</td><td>4.881492</td><td>[0.024407, 0.024407, … 0.024407]</td><td>493.341466</td><td>0.00992</td><td>[0.064983, 0.065731, … 0.056654]</td><td>100</td><td>[0.024419, 0.02443, … 0.024418]</td><td>493.350956</td><td>0.034183</td><td>[504.247845, 494.268595, 493.350956]</td><td>[11.0, 16.0, 11.0]</td></tr><tr><td>399996</td><td>100</td><td>[8.868352, 4.717864, … 9.771052]</td><td>4.881492</td><td>[0.024407, 0.024407, … 0.024407]</td><td>493.341466</td><td>0.00992</td><td>[0.051174, 0.072109, … 0.047502]</td><td>2</td><td>[0.0244216, 0.024435, … 0.02442]</td><td>493.353059</td><td>0.074914</td><td>[504.247845, 503.761495, … 493.353059]</td><td>[13.0, 4.0, … 4.0]</td></tr><tr><td>399997</td><td>100</td><td>[8.868352, 4.717864, … 9.771052]</td><td>4.881492</td><td>[0.024407, 0.024407, … 0.024407]</td><td>493.341466</td><td>0.00992</td><td>[0.051174, 0.072109, … 0.047502]</td><td>10</td><td>[0.024414, 0.024421, … 0.024414]</td><td>493.347046</td><td>0.03748</td><td>[504.247845, 500.258673, … 493.347046]</td><td>[13.0, 7.0, … 3.0]</td></tr><tr><td>399998</td><td>100</td><td>[8.868352, 4.717864, … 9.771052]</td><td>4.881492</td><td>[0.024407, 0.024407, … 0.024407]</td><td>493.341466</td><td>0.00992</td><td>[0.051174, 0.072109, … 0.047502]</td><td>50</td><td>[0.024454, 0.024499, … 0.024449]</td><td>493.379427</td><td>0.025522</td><td>[504.247845, 495.159783, 493.379427]</td><td>[13.0, 12.0, 13.0]</td></tr><tr><td>399999</td><td>100</td><td>[8.868352, 4.717864, … 9.771052]</td><td>4.881492</td><td>[0.024407, 0.024407, … 0.024407]</td><td>493.341466</td><td>0.00992</td><td>[0.051174, 0.072109, … 0.047502]</td><td>100</td><td>[0.024419, 0.02443, … 0.024418]</td><td>493.350956</td><td>0.021552</td><td>[504.247845, 494.268595, 493.350956]</td><td>[13.0, 16.0, 11.0]</td></tr></tbody></table></div>"
      ],
      "text/plain": [
       "shape: (400_000, 14)\n",
       "┌────────┬─────┬──────────────┬──────────┬───┬────────────┬──────────┬──────────────┬──────────────┐\n",
       "│        ┆ dim ┆ a            ┆ b        ┆ … ┆ newton_y   ┆ newton_t ┆ newton_hist_ ┆ newton_iters │\n",
       "│ ---    ┆ --- ┆ ---          ┆ ---      ┆   ┆ ---        ┆ ---      ┆ y            ┆ _hist        │\n",
       "│ i64    ┆ i64 ┆ list[f64]    ┆ f64      ┆   ┆ f64        ┆ f64      ┆ ---          ┆ ---          │\n",
       "│        ┆     ┆              ┆          ┆   ┆            ┆          ┆ list[f64]    ┆ list[f64]    │\n",
       "╞════════╪═════╪══════════════╪══════════╪═══╪════════════╪══════════╪══════════════╪══════════════╡\n",
       "│ 0      ┆ 10  ┆ [5.728031,   ┆ 5.50868  ┆ … ┆ 69.549568  ┆ 0.061801 ┆ [73.527029,  ┆ [11.0, 7.0,  │\n",
       "│        ┆     ┆ 4.123869, …  ┆          ┆   ┆            ┆          ┆ 71.754103, … ┆ … 5.0]       │\n",
       "│        ┆     ┆ 3.20200…     ┆          ┆   ┆            ┆          ┆ 69.54…       ┆              │\n",
       "│ 1      ┆ 10  ┆ [5.728031,   ┆ 5.50868  ┆ … ┆ 69.539472  ┆ 0.01768  ┆ [73.527029,  ┆ [11.0, 8.0,  │\n",
       "│        ┆     ┆ 4.123869, …  ┆          ┆   ┆            ┆          ┆ 70.066583, … ┆ … 2.0]       │\n",
       "│        ┆     ┆ 3.20200…     ┆          ┆   ┆            ┆          ┆ 69.53…       ┆              │\n",
       "│ 2      ┆ 10  ┆ [5.728031,   ┆ 5.50868  ┆ … ┆ 69.653196  ┆ 0.011347 ┆ [73.527029,  ┆ [11.0, 9.0]  │\n",
       "│        ┆     ┆ 4.123869, …  ┆          ┆   ┆            ┆          ┆ 69.653196]   ┆              │\n",
       "│        ┆     ┆ 3.20200…     ┆          ┆   ┆            ┆          ┆              ┆              │\n",
       "│ 3      ┆ 10  ┆ [5.728031,   ┆ 5.50868  ┆ … ┆ 69.596571  ┆ 0.012344 ┆ [73.527029,  ┆ [11.0, 12.0] │\n",
       "│        ┆     ┆ 4.123869, …  ┆          ┆   ┆            ┆          ┆ 69.596571]   ┆              │\n",
       "│        ┆     ┆ 3.20200…     ┆          ┆   ┆            ┆          ┆              ┆              │\n",
       "│ 4      ┆ 10  ┆ [5.728031,   ┆ 5.50868  ┆ … ┆ 69.549568  ┆ 0.046368 ┆ [73.527029,  ┆ [9.0, 7.0, … │\n",
       "│        ┆     ┆ 4.123869, …  ┆          ┆   ┆            ┆          ┆ 71.754103, … ┆ 5.0]         │\n",
       "│        ┆     ┆ 3.20200…     ┆          ┆   ┆            ┆          ┆ 69.54…       ┆              │\n",
       "│ …      ┆ …   ┆ …            ┆ …        ┆ … ┆ …          ┆ …        ┆ …            ┆ …            │\n",
       "│ 399995 ┆ 100 ┆ [8.868352,   ┆ 4.881492 ┆ … ┆ 493.350956 ┆ 0.034183 ┆ [504.247845, ┆ [11.0, 16.0, │\n",
       "│        ┆     ┆ 4.717864, …  ┆          ┆   ┆            ┆          ┆ 494.268595,  ┆ 11.0]        │\n",
       "│        ┆     ┆ 9.77105…     ┆          ┆   ┆            ┆          ┆ 493.3…       ┆              │\n",
       "│ 399996 ┆ 100 ┆ [8.868352,   ┆ 4.881492 ┆ … ┆ 493.353059 ┆ 0.074914 ┆ [504.247845, ┆ [13.0, 4.0,  │\n",
       "│        ┆     ┆ 4.717864, …  ┆          ┆   ┆            ┆          ┆ 503.761495,  ┆ … 4.0]       │\n",
       "│        ┆     ┆ 9.77105…     ┆          ┆   ┆            ┆          ┆ … 493…       ┆              │\n",
       "│ 399997 ┆ 100 ┆ [8.868352,   ┆ 4.881492 ┆ … ┆ 493.347046 ┆ 0.03748  ┆ [504.247845, ┆ [13.0, 7.0,  │\n",
       "│        ┆     ┆ 4.717864, …  ┆          ┆   ┆            ┆          ┆ 500.258673,  ┆ … 3.0]       │\n",
       "│        ┆     ┆ 9.77105…     ┆          ┆   ┆            ┆          ┆ … 493…       ┆              │\n",
       "│ 399998 ┆ 100 ┆ [8.868352,   ┆ 4.881492 ┆ … ┆ 493.379427 ┆ 0.025522 ┆ [504.247845, ┆ [13.0, 12.0, │\n",
       "│        ┆     ┆ 4.717864, …  ┆          ┆   ┆            ┆          ┆ 495.159783,  ┆ 13.0]        │\n",
       "│        ┆     ┆ 9.77105…     ┆          ┆   ┆            ┆          ┆ 493.3…       ┆              │\n",
       "│ 399999 ┆ 100 ┆ [8.868352,   ┆ 4.881492 ┆ … ┆ 493.350956 ┆ 0.021552 ┆ [504.247845, ┆ [13.0, 16.0, │\n",
       "│        ┆     ┆ 4.717864, …  ┆          ┆   ┆            ┆          ┆ 494.268595,  ┆ 11.0]        │\n",
       "│        ┆     ┆ 9.77105…     ┆          ┆   ┆            ┆          ┆ 493.3…       ┆              │\n",
       "└────────┴─────┴──────────────┴──────────┴───┴────────────┴──────────┴──────────────┴──────────────┘"
      ]
     },
     "execution_count": 23,
     "metadata": {},
     "output_type": "execute_result"
    }
   ],
   "source": [
    "columns_to_parse = [\"a\", \"cvxpy_x\", \"x_init\", \"newton_x\", \"newton_hist_y\", \"newton_iters_hist\"]\n",
    "\n",
    "d=d.with_columns([\n",
    "    pl.col(col)\n",
    "    .str.strip_chars(\"[]\")\n",
    "    .str.replace_all(\"\\n\", \" \")\n",
    "    .str.replace_all(r\"\\s+\", \" \")                      \n",
    "    .str.strip_chars(\" \")                             \n",
    "    .str.split(\" \")                                     \n",
    "    .list.eval(\n",
    "        pl.when(pl.element().str.strip_chars(\" \") != \"\") \n",
    "        .then(pl.element().cast(pl.Float64))\n",
    "        .otherwise(None),\n",
    "        parallel=True\n",
    "    )\n",
    "    .alias(col)\n",
    "   \n",
    "    for col in columns_to_parse\n",
    "])\n",
    "d"
   ]
  },
  {
   "cell_type": "markdown",
   "id": "01671441",
   "metadata": {},
   "source": [
    "## 1. Генерация примеров"
   ]
  },
  {
   "cell_type": "code",
   "execution_count": 2,
   "id": "5949eab8",
   "metadata": {},
   "outputs": [],
   "source": [
    "n_dims = range(10, 110, 10)\n",
    "n_examples = 100\n",
    "n_seeds = 100"
   ]
  },
  {
   "cell_type": "code",
   "execution_count": 3,
   "id": "c6ac7673",
   "metadata": {},
   "outputs": [],
   "source": [
    "raw_experiment_sheet = pl.DataFrame({\"dim\": n_dims}).select(\n",
    "    pl.all().repeat_by(n_examples).flatten()\n",
    ")"
   ]
  },
  {
   "cell_type": "code",
   "execution_count": 4,
   "id": "bb5881fc",
   "metadata": {},
   "outputs": [],
   "source": [
    "raw_experiment_sheet = raw_experiment_sheet.with_columns(\n",
    "    pl.col(\"dim\")\n",
    "    .map_elements(\n",
    "        lambda dim_: np.random.uniform(low=0.1, high=10, size=dim_),\n",
    "        return_dtype=pl.List(float),\n",
    "        returns_scalar=False,\n",
    "    )\n",
    "    .alias(\"a\"),\n",
    "    pl.col(\"dim\")\n",
    "    .map_elements(\n",
    "        lambda dim_: np.random.uniform(low=0, high=10, size=1),\n",
    "        return_dtype=float,\n",
    "        returns_scalar=True,\n",
    "    )\n",
    "    .alias(\"b\"),\n",
    ")"
   ]
  },
  {
   "cell_type": "code",
   "execution_count": 5,
   "id": "c47405b8",
   "metadata": {},
   "outputs": [
    {
     "data": {
      "text/html": [
       "<div><style>\n",
       ".dataframe > thead > tr,\n",
       ".dataframe > tbody > tr {\n",
       "  text-align: right;\n",
       "  white-space: pre-wrap;\n",
       "}\n",
       "</style>\n",
       "<small>shape: (1_000, 3)</small><table border=\"1\" class=\"dataframe\"><thead><tr><th>dim</th><th>a</th><th>b</th></tr><tr><td>i64</td><td>list[f64]</td><td>f64</td></tr></thead><tbody><tr><td>10</td><td>[3.648221, 9.557395, … 1.27787]</td><td>2.193924</td></tr><tr><td>10</td><td>[7.866477, 7.236956, … 4.962097]</td><td>1.746916</td></tr><tr><td>10</td><td>[0.953317, 0.257531, … 5.030669]</td><td>6.675724</td></tr><tr><td>10</td><td>[8.824198, 8.862705, … 8.242145]</td><td>1.89879</td></tr><tr><td>10</td><td>[9.168859, 9.514291, … 5.679912]</td><td>8.708293</td></tr><tr><td>&hellip;</td><td>&hellip;</td><td>&hellip;</td></tr><tr><td>100</td><td>[5.73979, 1.078335, … 8.80275]</td><td>0.043402</td></tr><tr><td>100</td><td>[8.770381, 0.727317, … 0.45495]</td><td>5.468644</td></tr><tr><td>100</td><td>[5.61154, 3.872917, … 1.015694]</td><td>6.661169</td></tr><tr><td>100</td><td>[8.628023, 2.241596, … 8.578377]</td><td>0.359338</td></tr><tr><td>100</td><td>[3.379433, 1.499171, … 4.013805]</td><td>2.731074</td></tr></tbody></table></div>"
      ],
      "text/plain": [
       "shape: (1_000, 3)\n",
       "┌─────┬─────────────────────────────────┬──────────┐\n",
       "│ dim ┆ a                               ┆ b        │\n",
       "│ --- ┆ ---                             ┆ ---      │\n",
       "│ i64 ┆ list[f64]                       ┆ f64      │\n",
       "╞═════╪═════════════════════════════════╪══════════╡\n",
       "│ 10  ┆ [3.648221, 9.557395, … 1.27787… ┆ 2.193924 │\n",
       "│ 10  ┆ [7.866477, 7.236956, … 4.96209… ┆ 1.746916 │\n",
       "│ 10  ┆ [0.953317, 0.257531, … 5.03066… ┆ 6.675724 │\n",
       "│ 10  ┆ [8.824198, 8.862705, … 8.24214… ┆ 1.89879  │\n",
       "│ 10  ┆ [9.168859, 9.514291, … 5.67991… ┆ 8.708293 │\n",
       "│ …   ┆ …                               ┆ …        │\n",
       "│ 100 ┆ [5.73979, 1.078335, … 8.80275]  ┆ 0.043402 │\n",
       "│ 100 ┆ [8.770381, 0.727317, … 0.45495… ┆ 5.468644 │\n",
       "│ 100 ┆ [5.61154, 3.872917, … 1.015694… ┆ 6.661169 │\n",
       "│ 100 ┆ [8.628023, 2.241596, … 8.57837… ┆ 0.359338 │\n",
       "│ 100 ┆ [3.379433, 1.499171, … 4.01380… ┆ 2.731074 │\n",
       "└─────┴─────────────────────────────────┴──────────┘"
      ]
     },
     "execution_count": 5,
     "metadata": {},
     "output_type": "execute_result"
    }
   ],
   "source": [
    "raw_experiment_sheet"
   ]
  },
  {
   "cell_type": "markdown",
   "id": "8ff9892f",
   "metadata": {},
   "source": [
    "## 2. Решение солвером CVXPY"
   ]
  },
  {
   "cell_type": "code",
   "execution_count": 6,
   "id": "ebd865e5",
   "metadata": {},
   "outputs": [],
   "source": [
    "def solve_oawrc(a, b):\n",
    "\n",
    "    a = np.asarray(a)\n",
    "    n = a.shape[0]\n",
    "    \n",
    "    x = cp.Variable(n)\n",
    "\n",
    "    objective = cp.Minimize(cp.sum(cp.multiply(a, cp.exp(x))))\n",
    "\n",
    "    constraints = [cp.sum(x) - b == 0, x >= b / (2 * n)]\n",
    "\n",
    "    prob = cp.Problem(objective, constraints)\n",
    "\n",
    "    try:\n",
    "        start_t = time.time()\n",
    "        result = prob.solve()\n",
    "        sovle_time = time.time() - start_t\n",
    "    except:\n",
    "        res = {\"cvxpy_x\": None, \"cvxpy_y\": None, \"cvxpy_t\": None}\n",
    "    else:\n",
    "        res = {\"cvxpy_x\": list(x.value), \"cvxpy_y\": result, \"cvxpy_t\": sovle_time}\n",
    "\n",
    "    return res"
   ]
  },
  {
   "cell_type": "code",
   "execution_count": 7,
   "id": "06f14da2",
   "metadata": {},
   "outputs": [],
   "source": [
    "raw_experiment_sheet = raw_experiment_sheet.with_columns(\n",
    "    (\n",
    "        pl.struct(\"a\", \"b\")\n",
    "        .map_elements(\n",
    "            lambda x: solve_oawrc(**x),\n",
    "            return_dtype=pl.Struct(\n",
    "                {\"cvxpy_x\": pl.List(float), \"cvxpy_y\": float, \"cvxpy_t\": float}\n",
    "            ),\n",
    "        )\n",
    "        .alias(\"cvxpy_out\")\n",
    "    )\n",
    ").unnest(\"cvxpy_out\")"
   ]
  },
  {
   "cell_type": "code",
   "execution_count": 8,
   "id": "510ca02a",
   "metadata": {},
   "outputs": [
    {
     "data": {
      "text/html": [
       "<div><style>\n",
       ".dataframe > thead > tr,\n",
       ".dataframe > tbody > tr {\n",
       "  text-align: right;\n",
       "  white-space: pre-wrap;\n",
       "}\n",
       "</style>\n",
       "<small>shape: (1_000, 6)</small><table border=\"1\" class=\"dataframe\"><thead><tr><th>dim</th><th>a</th><th>b</th><th>cvxpy_x</th><th>cvxpy_y</th><th>cvxpy_t</th></tr><tr><td>i64</td><td>list[f64]</td><td>f64</td><td>list[f64]</td><td>f64</td><td>f64</td></tr></thead><tbody><tr><td>10</td><td>[3.648221, 9.557395, … 1.27787]</td><td>2.193924</td><td>[0.109696, 0.109696, … 0.468692]</td><td>55.997499</td><td>0.023679</td></tr><tr><td>10</td><td>[7.866477, 7.236956, … 4.962097]</td><td>1.746916</td><td>[0.087346, 0.087346, … 0.087346]</td><td>64.042871</td><td>0.016259</td></tr><tr><td>10</td><td>[0.953317, 0.257531, … 5.030669]</td><td>6.675724</td><td>[0.533067, 1.841796, … 0.333786]</td><td>45.302588</td><td>0.013741</td></tr><tr><td>10</td><td>[8.824198, 8.862705, … 8.242145]</td><td>1.89879</td><td>[0.094939, 0.094939, … 0.094939]</td><td>74.346259</td><td>0.011155</td></tr><tr><td>10</td><td>[9.168859, 9.514291, … 5.679912]</td><td>8.708293</td><td>[0.435415, 0.435415, … 0.835365]</td><td>133.820821</td><td>0.009419</td></tr><tr><td>&hellip;</td><td>&hellip;</td><td>&hellip;</td><td>&hellip;</td><td>&hellip;</td><td>&hellip;</td></tr><tr><td>100</td><td>[5.73979, 1.078335, … 8.80275]</td><td>0.043402</td><td>[0.000217, 0.000217, … 0.000217]</td><td>484.770212</td><td>0.009479</td></tr><tr><td>100</td><td>[8.770381, 0.727317, … 0.45495]</td><td>5.468644</td><td>[0.027343, 0.027345, … 0.466399]</td><td>516.227522</td><td>0.009313</td></tr><tr><td>100</td><td>[5.61154, 3.872917, … 1.015694]</td><td>6.661169</td><td>[0.033306, 0.033306, … 0.033306]</td><td>518.12682</td><td>0.009668</td></tr><tr><td>100</td><td>[8.628023, 2.241596, … 8.578377]</td><td>0.359338</td><td>[0.001797, 0.001797, … 0.001797]</td><td>463.566873</td><td>0.009479</td></tr><tr><td>100</td><td>[3.379433, 1.499171, … 4.013805]</td><td>2.731074</td><td>[0.013655, 0.013655, … 0.013655]</td><td>497.586446</td><td>0.009398</td></tr></tbody></table></div>"
      ],
      "text/plain": [
       "shape: (1_000, 6)\n",
       "┌─────┬────────────────────────┬──────────┬────────────────────────┬────────────┬──────────┐\n",
       "│ dim ┆ a                      ┆ b        ┆ cvxpy_x                ┆ cvxpy_y    ┆ cvxpy_t  │\n",
       "│ --- ┆ ---                    ┆ ---      ┆ ---                    ┆ ---        ┆ ---      │\n",
       "│ i64 ┆ list[f64]              ┆ f64      ┆ list[f64]              ┆ f64        ┆ f64      │\n",
       "╞═════╪════════════════════════╪══════════╪════════════════════════╪════════════╪══════════╡\n",
       "│ 10  ┆ [3.648221, 9.557395, … ┆ 2.193924 ┆ [0.109696, 0.109696, … ┆ 55.997499  ┆ 0.023679 │\n",
       "│     ┆ 1.27787…               ┆          ┆ 0.46869…               ┆            ┆          │\n",
       "│ 10  ┆ [7.866477, 7.236956, … ┆ 1.746916 ┆ [0.087346, 0.087346, … ┆ 64.042871  ┆ 0.016259 │\n",
       "│     ┆ 4.96209…               ┆          ┆ 0.08734…               ┆            ┆          │\n",
       "│ 10  ┆ [0.953317, 0.257531, … ┆ 6.675724 ┆ [0.533067, 1.841796, … ┆ 45.302588  ┆ 0.013741 │\n",
       "│     ┆ 5.03066…               ┆          ┆ 0.33378…               ┆            ┆          │\n",
       "│ 10  ┆ [8.824198, 8.862705, … ┆ 1.89879  ┆ [0.094939, 0.094939, … ┆ 74.346259  ┆ 0.011155 │\n",
       "│     ┆ 8.24214…               ┆          ┆ 0.09493…               ┆            ┆          │\n",
       "│ 10  ┆ [9.168859, 9.514291, … ┆ 8.708293 ┆ [0.435415, 0.435415, … ┆ 133.820821 ┆ 0.009419 │\n",
       "│     ┆ 5.67991…               ┆          ┆ 0.83536…               ┆            ┆          │\n",
       "│ …   ┆ …                      ┆ …        ┆ …                      ┆ …          ┆ …        │\n",
       "│ 100 ┆ [5.73979, 1.078335, …  ┆ 0.043402 ┆ [0.000217, 0.000217, … ┆ 484.770212 ┆ 0.009479 │\n",
       "│     ┆ 8.80275]               ┆          ┆ 0.00021…               ┆            ┆          │\n",
       "│ 100 ┆ [8.770381, 0.727317, … ┆ 5.468644 ┆ [0.027343, 0.027345, … ┆ 516.227522 ┆ 0.009313 │\n",
       "│     ┆ 0.45495…               ┆          ┆ 0.46639…               ┆            ┆          │\n",
       "│ 100 ┆ [5.61154, 3.872917, …  ┆ 6.661169 ┆ [0.033306, 0.033306, … ┆ 518.12682  ┆ 0.009668 │\n",
       "│     ┆ 1.015694…              ┆          ┆ 0.03330…               ┆            ┆          │\n",
       "│ 100 ┆ [8.628023, 2.241596, … ┆ 0.359338 ┆ [0.001797, 0.001797, … ┆ 463.566873 ┆ 0.009479 │\n",
       "│     ┆ 8.57837…               ┆          ┆ 0.00179…               ┆            ┆          │\n",
       "│ 100 ┆ [3.379433, 1.499171, … ┆ 2.731074 ┆ [0.013655, 0.013655, … ┆ 497.586446 ┆ 0.009398 │\n",
       "│     ┆ 4.01380…               ┆          ┆ 0.01365…               ┆            ┆          │\n",
       "└─────┴────────────────────────┴──────────┴────────────────────────┴────────────┴──────────┘"
      ]
     },
     "execution_count": 8,
     "metadata": {},
     "output_type": "execute_result"
    }
   ],
   "source": [
    "raw_experiment_sheet"
   ]
  },
  {
   "cell_type": "markdown",
   "id": "523e1824",
   "metadata": {},
   "source": [
    "## 3. Решение прямой задачи методом Ньютона "
   ]
  },
  {
   "cell_type": "code",
   "execution_count": 9,
   "id": "7f24c21c",
   "metadata": {},
   "outputs": [],
   "source": [
    "def random_sum_bound(dim, b):\n",
    "    rnd = np.random.uniform(size=dim)\n",
    "    y = rnd / rnd.sum() * (b / 2)\n",
    "    return list(y + b / (2 * dim))"
   ]
  },
  {
   "cell_type": "code",
   "execution_count": 10,
   "id": "0d8e1625",
   "metadata": {},
   "outputs": [],
   "source": [
    "raw_experiment_sheet = raw_experiment_sheet.select(\n",
    "    pl.all().repeat_by(n_seeds).flatten()\n",
    ").with_columns(\n",
    "    pl.struct(\"dim\", \"b\")\n",
    "    .map_elements(lambda x: random_sum_bound(**x), return_dtype=pl.List(float))\n",
    "    .alias(\"x_init\")\n",
    ")"
   ]
  },
  {
   "cell_type": "code",
   "execution_count": 11,
   "id": "19e21cc2",
   "metadata": {},
   "outputs": [
    {
     "data": {
      "text/html": [
       "<div><style>\n",
       ".dataframe > thead > tr,\n",
       ".dataframe > tbody > tr {\n",
       "  text-align: right;\n",
       "  white-space: pre-wrap;\n",
       "}\n",
       "</style>\n",
       "<small>shape: (400_000, 8)</small><table border=\"1\" class=\"dataframe\"><thead><tr><th>dim</th><th>a</th><th>b</th><th>cvxpy_x</th><th>cvxpy_y</th><th>cvxpy_t</th><th>x_init</th><th>mu</th></tr><tr><td>i64</td><td>list[f64]</td><td>f64</td><td>list[f64]</td><td>f64</td><td>f64</td><td>list[f64]</td><td>i64</td></tr></thead><tbody><tr><td>10</td><td>[3.648221, 9.557395, … 1.27787]</td><td>2.193924</td><td>[0.109696, 0.109696, … 0.468692]</td><td>55.997499</td><td>0.023679</td><td>[0.327512, 0.182852, … 0.275643]</td><td>2</td></tr><tr><td>10</td><td>[3.648221, 9.557395, … 1.27787]</td><td>2.193924</td><td>[0.109696, 0.109696, … 0.468692]</td><td>55.997499</td><td>0.023679</td><td>[0.327512, 0.182852, … 0.275643]</td><td>10</td></tr><tr><td>10</td><td>[3.648221, 9.557395, … 1.27787]</td><td>2.193924</td><td>[0.109696, 0.109696, … 0.468692]</td><td>55.997499</td><td>0.023679</td><td>[0.327512, 0.182852, … 0.275643]</td><td>50</td></tr><tr><td>10</td><td>[3.648221, 9.557395, … 1.27787]</td><td>2.193924</td><td>[0.109696, 0.109696, … 0.468692]</td><td>55.997499</td><td>0.023679</td><td>[0.327512, 0.182852, … 0.275643]</td><td>100</td></tr><tr><td>10</td><td>[3.648221, 9.557395, … 1.27787]</td><td>2.193924</td><td>[0.109696, 0.109696, … 0.468692]</td><td>55.997499</td><td>0.023679</td><td>[0.269399, 0.142283, … 0.112069]</td><td>2</td></tr><tr><td>&hellip;</td><td>&hellip;</td><td>&hellip;</td><td>&hellip;</td><td>&hellip;</td><td>&hellip;</td><td>&hellip;</td><td>&hellip;</td></tr><tr><td>100</td><td>[3.379433, 1.499171, … 4.013805]</td><td>2.731074</td><td>[0.013655, 0.013655, … 0.013655]</td><td>497.586446</td><td>0.009398</td><td>[0.027842, 0.037638, … 0.017058]</td><td>100</td></tr><tr><td>100</td><td>[3.379433, 1.499171, … 4.013805]</td><td>2.731074</td><td>[0.013655, 0.013655, … 0.013655]</td><td>497.586446</td><td>0.009398</td><td>[0.017348, 0.027547, … 0.039449]</td><td>2</td></tr><tr><td>100</td><td>[3.379433, 1.499171, … 4.013805]</td><td>2.731074</td><td>[0.013655, 0.013655, … 0.013655]</td><td>497.586446</td><td>0.009398</td><td>[0.017348, 0.027547, … 0.039449]</td><td>10</td></tr><tr><td>100</td><td>[3.379433, 1.499171, … 4.013805]</td><td>2.731074</td><td>[0.013655, 0.013655, … 0.013655]</td><td>497.586446</td><td>0.009398</td><td>[0.017348, 0.027547, … 0.039449]</td><td>50</td></tr><tr><td>100</td><td>[3.379433, 1.499171, … 4.013805]</td><td>2.731074</td><td>[0.013655, 0.013655, … 0.013655]</td><td>497.586446</td><td>0.009398</td><td>[0.017348, 0.027547, … 0.039449]</td><td>100</td></tr></tbody></table></div>"
      ],
      "text/plain": [
       "shape: (400_000, 8)\n",
       "┌─────┬─────────────┬──────────┬─────────────┬────────────┬──────────┬───────────────────────┬─────┐\n",
       "│ dim ┆ a           ┆ b        ┆ cvxpy_x     ┆ cvxpy_y    ┆ cvxpy_t  ┆ x_init                ┆ mu  │\n",
       "│ --- ┆ ---         ┆ ---      ┆ ---         ┆ ---        ┆ ---      ┆ ---                   ┆ --- │\n",
       "│ i64 ┆ list[f64]   ┆ f64      ┆ list[f64]   ┆ f64        ┆ f64      ┆ list[f64]             ┆ i64 │\n",
       "╞═════╪═════════════╪══════════╪═════════════╪════════════╪══════════╪═══════════════════════╪═════╡\n",
       "│ 10  ┆ [3.648221,  ┆ 2.193924 ┆ [0.109696,  ┆ 55.997499  ┆ 0.023679 ┆ [0.327512, 0.182852,  ┆ 2   │\n",
       "│     ┆ 9.557395, … ┆          ┆ 0.109696, … ┆            ┆          ┆ … 0.27564…            ┆     │\n",
       "│     ┆ 1.27787…    ┆          ┆ 0.46869…    ┆            ┆          ┆                       ┆     │\n",
       "│ 10  ┆ [3.648221,  ┆ 2.193924 ┆ [0.109696,  ┆ 55.997499  ┆ 0.023679 ┆ [0.327512, 0.182852,  ┆ 10  │\n",
       "│     ┆ 9.557395, … ┆          ┆ 0.109696, … ┆            ┆          ┆ … 0.27564…            ┆     │\n",
       "│     ┆ 1.27787…    ┆          ┆ 0.46869…    ┆            ┆          ┆                       ┆     │\n",
       "│ 10  ┆ [3.648221,  ┆ 2.193924 ┆ [0.109696,  ┆ 55.997499  ┆ 0.023679 ┆ [0.327512, 0.182852,  ┆ 50  │\n",
       "│     ┆ 9.557395, … ┆          ┆ 0.109696, … ┆            ┆          ┆ … 0.27564…            ┆     │\n",
       "│     ┆ 1.27787…    ┆          ┆ 0.46869…    ┆            ┆          ┆                       ┆     │\n",
       "│ 10  ┆ [3.648221,  ┆ 2.193924 ┆ [0.109696,  ┆ 55.997499  ┆ 0.023679 ┆ [0.327512, 0.182852,  ┆ 100 │\n",
       "│     ┆ 9.557395, … ┆          ┆ 0.109696, … ┆            ┆          ┆ … 0.27564…            ┆     │\n",
       "│     ┆ 1.27787…    ┆          ┆ 0.46869…    ┆            ┆          ┆                       ┆     │\n",
       "│ 10  ┆ [3.648221,  ┆ 2.193924 ┆ [0.109696,  ┆ 55.997499  ┆ 0.023679 ┆ [0.269399, 0.142283,  ┆ 2   │\n",
       "│     ┆ 9.557395, … ┆          ┆ 0.109696, … ┆            ┆          ┆ … 0.11206…            ┆     │\n",
       "│     ┆ 1.27787…    ┆          ┆ 0.46869…    ┆            ┆          ┆                       ┆     │\n",
       "│ …   ┆ …           ┆ …        ┆ …           ┆ …          ┆ …        ┆ …                     ┆ …   │\n",
       "│ 100 ┆ [3.379433,  ┆ 2.731074 ┆ [0.013655,  ┆ 497.586446 ┆ 0.009398 ┆ [0.027842, 0.037638,  ┆ 100 │\n",
       "│     ┆ 1.499171, … ┆          ┆ 0.013655, … ┆            ┆          ┆ … 0.01705…            ┆     │\n",
       "│     ┆ 4.01380…    ┆          ┆ 0.01365…    ┆            ┆          ┆                       ┆     │\n",
       "│ 100 ┆ [3.379433,  ┆ 2.731074 ┆ [0.013655,  ┆ 497.586446 ┆ 0.009398 ┆ [0.017348, 0.027547,  ┆ 2   │\n",
       "│     ┆ 1.499171, … ┆          ┆ 0.013655, … ┆            ┆          ┆ … 0.03944…            ┆     │\n",
       "│     ┆ 4.01380…    ┆          ┆ 0.01365…    ┆            ┆          ┆                       ┆     │\n",
       "│ 100 ┆ [3.379433,  ┆ 2.731074 ┆ [0.013655,  ┆ 497.586446 ┆ 0.009398 ┆ [0.017348, 0.027547,  ┆ 10  │\n",
       "│     ┆ 1.499171, … ┆          ┆ 0.013655, … ┆            ┆          ┆ … 0.03944…            ┆     │\n",
       "│     ┆ 4.01380…    ┆          ┆ 0.01365…    ┆            ┆          ┆                       ┆     │\n",
       "│ 100 ┆ [3.379433,  ┆ 2.731074 ┆ [0.013655,  ┆ 497.586446 ┆ 0.009398 ┆ [0.017348, 0.027547,  ┆ 50  │\n",
       "│     ┆ 1.499171, … ┆          ┆ 0.013655, … ┆            ┆          ┆ … 0.03944…            ┆     │\n",
       "│     ┆ 4.01380…    ┆          ┆ 0.01365…    ┆            ┆          ┆                       ┆     │\n",
       "│ 100 ┆ [3.379433,  ┆ 2.731074 ┆ [0.013655,  ┆ 497.586446 ┆ 0.009398 ┆ [0.017348, 0.027547,  ┆ 100 │\n",
       "│     ┆ 1.499171, … ┆          ┆ 0.013655, … ┆            ┆          ┆ … 0.03944…            ┆     │\n",
       "│     ┆ 4.01380…    ┆          ┆ 0.01365…    ┆            ┆          ┆                       ┆     │\n",
       "└─────┴─────────────┴──────────┴─────────────┴────────────┴──────────┴───────────────────────┴─────┘"
      ]
     },
     "execution_count": 11,
     "metadata": {},
     "output_type": "execute_result"
    }
   ],
   "source": [
    "raw_experiment_sheet = raw_experiment_sheet.with_columns(\n",
    "        pl.lit([2, 10, 50, 100]).alias(\"mu\")\n",
    "    ).explode(\"mu\")                      \n",
    "\n",
    "raw_experiment_sheet = raw_experiment_sheet.drop_nans()\n",
    "raw_experiment_sheet"
   ]
  },
  {
   "cell_type": "code",
   "execution_count": 12,
   "id": "d5ca4b28",
   "metadata": {},
   "outputs": [],
   "source": [
    "def f(x, a):\n",
    "    return np.dot(a, np.exp(x)).reshape(1,1)\n",
    "\n",
    "def grad_f(x, a):\n",
    "    return (a * np.exp(x)).reshape(1,-1)\n",
    "\n",
    "def hessian_f(x, a):\n",
    "    return np.diag(a * np.exp(x))\n",
    "\n",
    "def barrier_f(x, a, b, t):\n",
    "    return (t * np.dot(a, np.exp(x)) - np.sum(np.log(x - b / (2*len(a))))).reshape(1,1)\n",
    "\n",
    "def barrier_grad_f(x, a, b, t):\n",
    "    return (t * a * np.exp(x) - 1. / (x - b/(2*len(a)))).reshape(1,-1)\n",
    "\n",
    "def barrier_hessian_f(x, a, b, t):\n",
    "    return np.diag(t * a * np.exp(x) + 1. / (x - b / (2*len(a)))**2 )\n",
    "\n",
    "def g(x, b):\n",
    "    return np.array([np.sum(np.asarray(x)) - b]).reshape(1,1)\n",
    "\n",
    "def grad_g(x):\n",
    "    return np.ones(len(x)).reshape(1,-1)\n",
    "\n",
    "def hessian_g(x):\n",
    "    return np.zeros([len(x)]*2)"
   ]
  },
  {
   "cell_type": "code",
   "execution_count": 15,
   "id": "92430f5c",
   "metadata": {},
   "outputs": [],
   "source": [
    "def armijo_line_search(x, a, b, t, dx, alpha0=1.0, beta=0.5, c=1e-4, max_iters=20):\n",
    "    alpha = alpha0\n",
    "\n",
    "    func_value = barrier_f(x, a, b, t)[0][0]\n",
    "    gTd  = np.dot(barrier_grad_f(x, a, b, t), dx)\n",
    "    \n",
    "    for _ in range(max_iters):\n",
    "        x_new = x + alpha * dx\n",
    "        func_value_new = barrier_f(x_new, a, b, t)[0][0]\n",
    "\n",
    "        if np.all(x_new >= b / (2*len(a))) and np.allclose(np.sum(x_new), b) and func_value_new < func_value + c * alpha * gTd:\n",
    "            return alpha\n",
    "        alpha *= beta\n",
    "    \n",
    "    return None\n",
    "\n",
    "def solve_oawrc_newton(a, b, x_init, cvxpy_y, t, eps=0.01, max_iters=20, max_linesearch_iters=30, c=0.2, beta=0.5):\n",
    "\n",
    "    x = np.asarray(x_init)\n",
    "    a = np.asarray(a)\n",
    "    \n",
    "    for i in range(max_iters):\n",
    "        grad_L = barrier_grad_f(x, a, b, t)\n",
    "        hessian_L = barrier_hessian_f(x, a, b, t)\n",
    "\n",
    "        hessian_L_full = np.block([\n",
    "            [hessian_L, grad_g(x).T],\n",
    "            [grad_g(x), np.zeros([1,1])]\n",
    "        ])\n",
    "        \n",
    "        grad_L_full = np.concatenate([grad_L, g(x, b).reshape(1,-1)], axis = -1)\n",
    "        d = np.linalg.solve(hessian_L_full, -grad_L_full.T)\n",
    "        dx = d[:len(x),0]\n",
    "\n",
    "        alpha = armijo_line_search(x, a, b, t, dx, alpha0=1.0, beta=beta, c=c, max_iters=max_linesearch_iters)\n",
    "        if alpha is None:\n",
    "            break\n",
    "\n",
    "        x = x + alpha * dx\n",
    "\n",
    "        curr_f = f(x, a)[0][0]\n",
    "        if np.abs(curr_f - cvxpy_y) < eps:\n",
    "            break\n",
    "\n",
    "    return x.tolist(), i+1, curr_f\n",
    "\n",
    "def barrier_method(a, b, x_init, cvxpy_y, mu=2, t_init=1, eps=0.001, max_centering_iters=20):\n",
    "    print(len(a), mu)\n",
    "    a = np.asarray(a)\n",
    "    n = a.shape[0]\n",
    "    x = x_init.copy()\n",
    "    t = t_init\n",
    "\n",
    "    sovle_time = time.time()\n",
    "    newton_iters_hist, newton_hist_y = [], []\n",
    "\n",
    "    while n/t >= eps:\n",
    "        x, centering_iters, curr_y = solve_oawrc_newton(a, b, x, cvxpy_y, t, eps=eps, max_iters=max_centering_iters)\n",
    "\n",
    "        newton_iters_hist.append(centering_iters)\n",
    "        newton_hist_y.append(curr_y)\n",
    "\n",
    "        t *= mu\n",
    "    print(\"curr\", curr_y, \"cvx\", cvxpy_y, curr_y-cvxpy_y, np.all(np.asarray(x) >= b / (2*len(a))), np.allclose(np.sum(x), b), newton_iters_hist)\n",
    "    return {\"newton_x\": x, \"newton_y\": curr_y, \"newton_t\": time.time() - sovle_time, \"newton_hist_y\": newton_hist_y, \"newton_iters_hist\": newton_iters_hist}"
   ]
  },
  {
   "cell_type": "code",
   "execution_count": null,
   "id": "6e7d244f",
   "metadata": {},
   "outputs": [],
   "source": [
    "raw_experiment_sheet = raw_experiment_sheet.with_columns(\n",
    "    (\n",
    "        pl.struct(\"a\", \"b\", \"x_init\", \"cvxpy_y\", \"mu\")\n",
    "        .map_elements(\n",
    "            lambda x: barrier_method(**x),\n",
    "            return_dtype=pl.Struct(\n",
    "                {\"newton_x\": pl.List(float), \"newton_y\": float, \"newton_t\": float, \"newton_hist_y\": pl.List(float), \"newton_iters_hist\": pl.List(int)}\n",
    "            ),\n",
    "        )\n",
    "        .alias(\"newton_out\")\n",
    "    )\n",
    ").unnest(\"newton_out\")"
   ]
  },
  {
   "cell_type": "code",
   "execution_count": 42,
   "id": "3bf10380",
   "metadata": {},
   "outputs": [
    {
     "data": {
      "text/html": [
       "<div><style>\n",
       ".dataframe > thead > tr,\n",
       ".dataframe > tbody > tr {\n",
       "  text-align: right;\n",
       "  white-space: pre-wrap;\n",
       "}\n",
       "</style>\n",
       "<small>shape: (1_000, 13)</small><table border=\"1\" class=\"dataframe\"><thead><tr><th>dim</th><th>a</th><th>b</th><th>cvxpy_x</th><th>cvxpy_y</th><th>cvxpy_t</th><th>x_init</th><th>mu</th><th>newton_x</th><th>newton_y</th><th>newton_t</th><th>newton_hist_y</th><th>newton_iters_hist</th></tr><tr><td>i64</td><td>list[f64]</td><td>f64</td><td>list[f64]</td><td>f64</td><td>f64</td><td>list[f64]</td><td>i64</td><td>list[f64]</td><td>f64</td><td>f64</td><td>list[f64]</td><td>list[i64]</td></tr></thead><tbody><tr><td>10</td><td>[2.266699, 6.338006, … 9.679609]</td><td>0.536932</td><td>[0.026847, 0.026847, … 0.026847]</td><td>48.285159</td><td>0.031559</td><td>[0.062119, 0.075646, … 0.058166]</td><td>2</td><td>[0.026935, 0.026869, … 0.02686]</td><td>48.286135</td><td>0.123808</td><td>[49.286848, 49.221879, … 48.286135]</td><td>[9, 4, … 1]</td></tr><tr><td>10</td><td>[2.266699, 6.338006, … 9.679609]</td><td>0.536932</td><td>[0.026847, 0.026847, … 0.026847]</td><td>48.285159</td><td>0.031559</td><td>[0.062119, 0.075646, … 0.058166]</td><td>10</td><td>[0.026889, 0.026859, … 0.026854]</td><td>48.285678</td><td>0.027595</td><td>[49.286848, 48.845302, … 48.285678]</td><td>[9, 7, … 2]</td></tr><tr><td>10</td><td>[2.266699, 6.338006, … 9.679609]</td><td>0.536932</td><td>[0.026847, 0.026847, … 0.026847]</td><td>48.285159</td><td>0.031559</td><td>[0.062119, 0.075646, … 0.058166]</td><td>50</td><td>[0.027135, 0.026918, … 0.026891]</td><td>48.288356</td><td>0.022317</td><td>[49.286848, 48.436636, 48.288356]</td><td>[9, 9, 12]</td></tr><tr><td>10</td><td>[2.266699, 6.338006, … 9.679609]</td><td>0.536932</td><td>[0.026847, 0.026847, … 0.026847]</td><td>48.285159</td><td>0.031559</td><td>[0.062119, 0.075646, … 0.058166]</td><td>100</td><td>[0.027022, 0.026854, … 0.026852]</td><td>48.285772</td><td>0.01519</td><td>[49.286848, 48.363123, 48.285772]</td><td>[9, 9, 4]</td></tr><tr><td>10</td><td>[2.266699, 6.338006, … 9.679609]</td><td>0.536932</td><td>[0.026847, 0.026847, … 0.026847]</td><td>48.285159</td><td>0.031559</td><td>[0.067978, 0.03281, … 0.069219]</td><td>2</td><td>[0.026935, 0.026869, … 0.02686]</td><td>48.286135</td><td>0.068592</td><td>[49.286848, 49.221879, … 48.286135]</td><td>[9, 4, … 1]</td></tr><tr><td>&hellip;</td><td>&hellip;</td><td>&hellip;</td><td>&hellip;</td><td>&hellip;</td><td>&hellip;</td><td>&hellip;</td><td>&hellip;</td><td>&hellip;</td><td>&hellip;</td><td>&hellip;</td><td>&hellip;</td><td>&hellip;</td></tr><tr><td>100</td><td>[6.185764, 5.141971, … 7.544346]</td><td>7.533661</td><td>[0.037668, 0.037668, … 0.037668]</td><td>547.174836</td><td>0.00946</td><td>[0.106166, 0.053893, … 0.106945]</td><td>100</td><td>[0.037687, 0.037691, … 0.037683]</td><td>547.184134</td><td>0.027852</td><td>[564.188621, 548.079427, 547.184134]</td><td>[11, 17, 17]</td></tr><tr><td>100</td><td>[6.185764, 5.141971, … 7.544346]</td><td>7.533661</td><td>[0.037668, 0.037668, … 0.037668]</td><td>547.174836</td><td>0.00946</td><td>[0.083529, 0.084167, … 0.091702]</td><td>2</td><td>[0.037671, 0.037672, … 0.037671]</td><td>547.176256</td><td>0.091363</td><td>[564.188621, 562.7755, … 547.176256]</td><td>[12, 5, … 4]</td></tr><tr><td>100</td><td>[6.185764, 5.141971, … 7.544346]</td><td>7.533661</td><td>[0.037668, 0.037668, … 0.037668]</td><td>547.174836</td><td>0.00946</td><td>[0.083529, 0.084167, … 0.091702]</td><td>10</td><td>[0.03767, 0.03767, … 0.037669]</td><td>547.175453</td><td>0.035969</td><td>[564.188621, 554.939015, … 547.175453]</td><td>[12, 8, … 2]</td></tr><tr><td>100</td><td>[6.185764, 5.141971, … 7.544346]</td><td>7.533661</td><td>[0.037668, 0.037668, … 0.037668]</td><td>547.174836</td><td>0.00946</td><td>[0.083529, 0.084167, … 0.091702]</td><td>50</td><td>[0.037741, 0.037759, … 0.037726]</td><td>547.21199</td><td>0.030065</td><td>[564.188621, 548.94678, 547.21199]</td><td>[12, 11, 16]</td></tr><tr><td>100</td><td>[6.185764, 5.141971, … 7.544346]</td><td>7.533661</td><td>[0.037668, 0.037668, … 0.037668]</td><td>547.174836</td><td>0.00946</td><td>[0.083529, 0.084167, … 0.091702]</td><td>100</td><td>[0.037687, 0.037691, … 0.037683]</td><td>547.184134</td><td>0.029137</td><td>[564.188621, 548.079427, 547.184134]</td><td>[12, 17, 17]</td></tr></tbody></table></div>"
      ],
      "text/plain": [
       "shape: (1_000, 13)\n",
       "┌─────┬─────────────┬──────────┬─────────────┬───┬────────────┬──────────┬────────────┬────────────┐\n",
       "│ dim ┆ a           ┆ b        ┆ cvxpy_x     ┆ … ┆ newton_y   ┆ newton_t ┆ newton_his ┆ newton_ite │\n",
       "│ --- ┆ ---         ┆ ---      ┆ ---         ┆   ┆ ---        ┆ ---      ┆ t_y        ┆ rs_hist    │\n",
       "│ i64 ┆ list[f64]   ┆ f64      ┆ list[f64]   ┆   ┆ f64        ┆ f64      ┆ ---        ┆ ---        │\n",
       "│     ┆             ┆          ┆             ┆   ┆            ┆          ┆ list[f64]  ┆ list[i64]  │\n",
       "╞═════╪═════════════╪══════════╪═════════════╪═══╪════════════╪══════════╪════════════╪════════════╡\n",
       "│ 10  ┆ [2.266699,  ┆ 0.536932 ┆ [0.026847,  ┆ … ┆ 48.286135  ┆ 0.123808 ┆ [49.286848 ┆ [9, 4, …   │\n",
       "│     ┆ 6.338006, … ┆          ┆ 0.026847, … ┆   ┆            ┆          ┆ ,          ┆ 1]         │\n",
       "│     ┆ 9.67960…    ┆          ┆ 0.02684…    ┆   ┆            ┆          ┆ 49.221879, ┆            │\n",
       "│     ┆             ┆          ┆             ┆   ┆            ┆          ┆ … 48.28…   ┆            │\n",
       "│ 10  ┆ [2.266699,  ┆ 0.536932 ┆ [0.026847,  ┆ … ┆ 48.285678  ┆ 0.027595 ┆ [49.286848 ┆ [9, 7, …   │\n",
       "│     ┆ 6.338006, … ┆          ┆ 0.026847, … ┆   ┆            ┆          ┆ ,          ┆ 2]         │\n",
       "│     ┆ 9.67960…    ┆          ┆ 0.02684…    ┆   ┆            ┆          ┆ 48.845302, ┆            │\n",
       "│     ┆             ┆          ┆             ┆   ┆            ┆          ┆ … 48.28…   ┆            │\n",
       "│ 10  ┆ [2.266699,  ┆ 0.536932 ┆ [0.026847,  ┆ … ┆ 48.288356  ┆ 0.022317 ┆ [49.286848 ┆ [9, 9, 12] │\n",
       "│     ┆ 6.338006, … ┆          ┆ 0.026847, … ┆   ┆            ┆          ┆ ,          ┆            │\n",
       "│     ┆ 9.67960…    ┆          ┆ 0.02684…    ┆   ┆            ┆          ┆ 48.436636, ┆            │\n",
       "│     ┆             ┆          ┆             ┆   ┆            ┆          ┆ 48.2883…   ┆            │\n",
       "│ 10  ┆ [2.266699,  ┆ 0.536932 ┆ [0.026847,  ┆ … ┆ 48.285772  ┆ 0.01519  ┆ [49.286848 ┆ [9, 9, 4]  │\n",
       "│     ┆ 6.338006, … ┆          ┆ 0.026847, … ┆   ┆            ┆          ┆ ,          ┆            │\n",
       "│     ┆ 9.67960…    ┆          ┆ 0.02684…    ┆   ┆            ┆          ┆ 48.363123, ┆            │\n",
       "│     ┆             ┆          ┆             ┆   ┆            ┆          ┆ 48.2857…   ┆            │\n",
       "│ 10  ┆ [2.266699,  ┆ 0.536932 ┆ [0.026847,  ┆ … ┆ 48.286135  ┆ 0.068592 ┆ [49.286848 ┆ [9, 4, …   │\n",
       "│     ┆ 6.338006, … ┆          ┆ 0.026847, … ┆   ┆            ┆          ┆ ,          ┆ 1]         │\n",
       "│     ┆ 9.67960…    ┆          ┆ 0.02684…    ┆   ┆            ┆          ┆ 49.221879, ┆            │\n",
       "│     ┆             ┆          ┆             ┆   ┆            ┆          ┆ … 48.28…   ┆            │\n",
       "│ …   ┆ …           ┆ …        ┆ …           ┆ … ┆ …          ┆ …        ┆ …          ┆ …          │\n",
       "│ 100 ┆ [6.185764,  ┆ 7.533661 ┆ [0.037668,  ┆ … ┆ 547.184134 ┆ 0.027852 ┆ [564.18862 ┆ [11, 17,   │\n",
       "│     ┆ 5.141971, … ┆          ┆ 0.037668, … ┆   ┆            ┆          ┆ 1, 548.079 ┆ 17]        │\n",
       "│     ┆ 7.54434…    ┆          ┆ 0.03766…    ┆   ┆            ┆          ┆ 427,       ┆            │\n",
       "│     ┆             ┆          ┆             ┆   ┆            ┆          ┆ 547.1…     ┆            │\n",
       "│ 100 ┆ [6.185764,  ┆ 7.533661 ┆ [0.037668,  ┆ … ┆ 547.176256 ┆ 0.091363 ┆ [564.18862 ┆ [12, 5, …  │\n",
       "│     ┆ 5.141971, … ┆          ┆ 0.037668, … ┆   ┆            ┆          ┆ 1,         ┆ 4]         │\n",
       "│     ┆ 7.54434…    ┆          ┆ 0.03766…    ┆   ┆            ┆          ┆ 562.7755,  ┆            │\n",
       "│     ┆             ┆          ┆             ┆   ┆            ┆          ┆ … 547.1…   ┆            │\n",
       "│ 100 ┆ [6.185764,  ┆ 7.533661 ┆ [0.037668,  ┆ … ┆ 547.175453 ┆ 0.035969 ┆ [564.18862 ┆ [12, 8, …  │\n",
       "│     ┆ 5.141971, … ┆          ┆ 0.037668, … ┆   ┆            ┆          ┆ 1, 554.939 ┆ 2]         │\n",
       "│     ┆ 7.54434…    ┆          ┆ 0.03766…    ┆   ┆            ┆          ┆ 015, …     ┆            │\n",
       "│     ┆             ┆          ┆             ┆   ┆            ┆          ┆ 547…       ┆            │\n",
       "│ 100 ┆ [6.185764,  ┆ 7.533661 ┆ [0.037668,  ┆ … ┆ 547.21199  ┆ 0.030065 ┆ [564.18862 ┆ [12, 11,   │\n",
       "│     ┆ 5.141971, … ┆          ┆ 0.037668, … ┆   ┆            ┆          ┆ 1,         ┆ 16]        │\n",
       "│     ┆ 7.54434…    ┆          ┆ 0.03766…    ┆   ┆            ┆          ┆ 548.94678, ┆            │\n",
       "│     ┆             ┆          ┆             ┆   ┆            ┆          ┆ 547.21…    ┆            │\n",
       "│ 100 ┆ [6.185764,  ┆ 7.533661 ┆ [0.037668,  ┆ … ┆ 547.184134 ┆ 0.029137 ┆ [564.18862 ┆ [12, 17,   │\n",
       "│     ┆ 5.141971, … ┆          ┆ 0.037668, … ┆   ┆            ┆          ┆ 1, 548.079 ┆ 17]        │\n",
       "│     ┆ 7.54434…    ┆          ┆ 0.03766…    ┆   ┆            ┆          ┆ 427,       ┆            │\n",
       "│     ┆             ┆          ┆             ┆   ┆            ┆          ┆ 547.1…     ┆            │\n",
       "└─────┴─────────────┴──────────┴─────────────┴───┴────────────┴──────────┴────────────┴────────────┘"
      ]
     },
     "execution_count": 42,
     "metadata": {},
     "output_type": "execute_result"
    }
   ],
   "source": [
    "raw_experiment_sheet"
   ]
  },
  {
   "cell_type": "markdown",
   "id": "84008abe",
   "metadata": {},
   "source": [
    "# III. Анализ зависимостей"
   ]
  },
  {
   "cell_type": "code",
   "execution_count": null,
   "id": "c59c5c17",
   "metadata": {},
   "outputs": [],
   "source": [
    "res_data = raw_experiment_sheet.clone()\n",
    "res_data = (res_data\n",
    "    .with_columns(pl.col(\"newton_hist_y\").list.len().alias(\"iter_num\"))\n",
    "    .with_columns((pl.col(\"cvxpy_y\") - pl.col(\"newton_y\")).abs().alias(\"y_diff\"))\n",
    "    .select(\"dim\", \"mu\", \"newton_t\", \"iter_num\", \"y_diff\")\n",
    "    .group_by(\"dim\", \"mu\")\n",
    "    .agg(pl.all().mean().name.suffix(\"_mean\"))\n",
    "    .sort(\"dim\", \"mu\")\n",
    ")"
   ]
  },
  {
   "cell_type": "markdown",
   "id": "b760f5fb",
   "metadata": {},
   "source": [
    "# IV. Выводы"
   ]
  }
 ],
 "metadata": {
  "kernelspec": {
   "display_name": "base",
   "language": "python",
   "name": "python3"
  },
  "language_info": {
   "codemirror_mode": {
    "name": "ipython",
    "version": 3
   },
   "file_extension": ".py",
   "mimetype": "text/x-python",
   "name": "python",
   "nbconvert_exporter": "python",
   "pygments_lexer": "ipython3",
   "version": "3.10.14"
  }
 },
 "nbformat": 4,
 "nbformat_minor": 5
}
